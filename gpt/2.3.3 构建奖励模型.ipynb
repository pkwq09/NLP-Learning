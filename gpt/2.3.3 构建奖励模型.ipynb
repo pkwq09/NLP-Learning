{
 "cells": [
  {
   "cell_type": "code",
   "execution_count": 1,
   "id": "dcdcdd8f-6ed3-4dab-abb9-116c2e6303cb",
   "metadata": {},
   "outputs": [
    {
     "name": "stderr",
     "output_type": "stream",
     "text": [
      "C:\\Users\\upsun\\Desktop\\Ai\\pytorch\\Lib\\site-packages\\torch\\nn\\modules\\loss.py:538: UserWarning: Using a target size (torch.Size([1])) that is different to the input size (torch.Size([1, 1])). This will likely lead to incorrect results due to broadcasting. Please ensure they have the same size.\n",
      "  return F.mse_loss(input, target, reduction=self.reduction)\n"
     ]
    },
    {
     "name": "stdout",
     "output_type": "stream",
     "text": [
      "Epoch 1, Loss: 0.7264503240585327\n",
      "Epoch 2, Loss: 0.20542430877685547\n",
      "Epoch 3, Loss: 0.04189291223883629\n",
      "Epoch 4, Loss: 0.0038725496269762516\n",
      "Epoch 5, Loss: 0.0007453225553035736\n",
      "Epoch 6, Loss: 0.0064291078597307205\n",
      "Epoch 7, Loss: 0.009688918478786945\n",
      "Epoch 8, Loss: 0.008547226898372173\n",
      "Epoch 9, Loss: 0.005171480122953653\n",
      "Epoch 10, Loss: 0.0017724260687828064\n"
     ]
    }
   ],
   "source": [
    "import torch\n",
    "from transformers import GPT2Model, GPT2Tokenizer\n",
    "class RewardModel(torch.nn.Module):\n",
    "    def __init__(self, gpt_model):\n",
    "        super(RewardModel, self).__init__()\n",
    "        self.gpt = gpt_model\n",
    "        self.regression_head = torch.nn.Linear(self.gpt.config.hidden_size, 1)\n",
    "    def forward(self, input_ids, attention_mask):\n",
    "        outputs = self.gpt(input_ids=input_ids, attention_mask=attention_mask)\n",
    "        hidden_states = outputs.last_hidden_state[:, -1, :]  # 取最后一个 Token 的隐藏状态\n",
    "        reward = self.regression_head(hidden_states)\n",
    "        return reward\n",
    "\n",
    "# 加载 GPT 模型和 Tokenizer\n",
    "tokenizer = GPT2Tokenizer.from_pretrained(\"gpt2\")\n",
    "gpt_model = GPT2Model.from_pretrained(\"gpt2\")\n",
    "reward_model = RewardModel(gpt_model)\n",
    "\n",
    "# 训练数据\n",
    "inputs = tokenizer(\"This is a sample text.\", return_tensors=\"pt\")\n",
    "labels = torch.tensor([1.0])  # 假设这是高质量文本的奖励\n",
    "\n",
    "# 训练循环\n",
    "optimizer = torch.optim.AdamW(reward_model.parameters(), lr=1e-5)\n",
    "criterion = torch.nn.MSELoss()\n",
    "\n",
    "for epoch in range(10):\n",
    "    optimizer.zero_grad()\n",
    "    rewards = reward_model(inputs[\"input_ids\"], inputs[\"attention_mask\"])\n",
    "    loss = criterion(rewards, labels)\n",
    "    loss.backward()\n",
    "    optimizer.step()\n",
    "    print(f\"Epoch {epoch+1}, Loss: {loss.item()}\")\n"
   ]
  },
  {
   "cell_type": "code",
   "execution_count": null,
   "id": "b60d3c03-21e3-4ad0-8a9a-cf118e814993",
   "metadata": {},
   "outputs": [],
   "source": []
  }
 ],
 "metadata": {
  "kernelspec": {
   "display_name": "pytorch",
   "language": "python",
   "name": "pytorch"
  },
  "language_info": {
   "codemirror_mode": {
    "name": "ipython",
    "version": 3
   },
   "file_extension": ".py",
   "mimetype": "text/x-python",
   "name": "python",
   "nbconvert_exporter": "python",
   "pygments_lexer": "ipython3",
   "version": "3.12.10"
  }
 },
 "nbformat": 4,
 "nbformat_minor": 5
}
