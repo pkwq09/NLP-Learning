{
 "cells": [
  {
   "cell_type": "code",
   "execution_count": 1,
   "id": "d60f4774-472a-4f47-92fe-c42ec31186fa",
   "metadata": {},
   "outputs": [
    {
     "name": "stdout",
     "output_type": "stream",
     "text": [
      "Prompt: 如何学习人工智能？\n",
      "Candidate 1: 学习人工智能需要掌握基础理论并加强实践。\n",
      "Candidate 2: 人工智能是一种机器学习方法，实现类似人类的思考、推理和决策行为。\n"
     ]
    },
    {
     "name": "stdin",
     "output_type": "stream",
     "text": [
      "Score for Candidate 1 (0-1):  0.8\n",
      "Score for Candidate 2 (0-1):  0.2\n"
     ]
    },
    {
     "name": "stdout",
     "output_type": "stream",
     "text": [
      "{'prompt': '如何学习人工智能？', 'responses': [{'text': '学习人工智能需要掌握基础理论并加强实践。', 'score': 0.8}, {'text': '人工智能是一种机器学习方法，实现类似人类的思考、推理和决策行为。', 'score': 0.2}]}\n"
     ]
    }
   ],
   "source": [
    "import random\n",
    "# 假设有一个生成模型\n",
    "def generate_candidates(prompt, num_candidates=2):\n",
    "# 这里使用随机文本模拟生成过程\n",
    "    candidates = [\n",
    "        \"学习人工智能需要掌握基础理论并加强实践。\",\n",
    "        \"人工智能是一种机器学习方法，实现类似人类的思考、推理和决策行为。\"\n",
    "    ]\n",
    "    return candidates[:num_candidates]\n",
    "\n",
    "# 收集反馈数据\n",
    "def collect_feedback(prompt, candidates):\n",
    "    print(f\"Prompt: {prompt}\")\n",
    "    for i, candidate in enumerate(candidates):\n",
    "        print(f\"Candidate {i+1}: {candidate}\")\n",
    "    # 模拟人类反馈\n",
    "    scores = [float(input(f\"Score for Candidate {i+1} (0-1): \")) for i in range(len(candidates))]\n",
    "    return scores\n",
    "\n",
    "# 示例数据收集\n",
    "prompt = \"如何学习人工智能？\"\n",
    "candidates = generate_candidates(prompt)\n",
    "scores = collect_feedback(prompt, candidates)\n",
    "\n",
    "# 保存反馈数据\n",
    "feedback_data = {\n",
    "    \"prompt\": prompt,\n",
    "    \"responses\": [\n",
    "        {\"text\": candidates[i], \"score\": scores[i]}\n",
    "        for i in range(len(candidates))\n",
    "    ]\n",
    "}\n",
    "print(feedback_data)\n"
   ]
  },
  {
   "cell_type": "code",
   "execution_count": null,
   "id": "44afc226-ffda-4f58-bb1c-62c0fb2db283",
   "metadata": {},
   "outputs": [],
   "source": []
  }
 ],
 "metadata": {
  "kernelspec": {
   "display_name": "pytorch",
   "language": "python",
   "name": "pytorch"
  },
  "language_info": {
   "codemirror_mode": {
    "name": "ipython",
    "version": 3
   },
   "file_extension": ".py",
   "mimetype": "text/x-python",
   "name": "python",
   "nbconvert_exporter": "python",
   "pygments_lexer": "ipython3",
   "version": "3.12.10"
  }
 },
 "nbformat": 4,
 "nbformat_minor": 5
}
