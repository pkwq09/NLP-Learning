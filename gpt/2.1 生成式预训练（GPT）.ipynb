{
 "cells": [
  {
   "cell_type": "markdown",
   "metadata": {},
   "source": [
    "#### <b>2.1.1 预训练数据集</b>"
   ]
  },
  {
   "cell_type": "code",
   "execution_count": 4,
   "metadata": {
    "collapsed": true,
    "jupyter": {
     "outputs_hidden": true
    }
   },
   "outputs": [
    {
     "data": {
      "text/html": [
       "<div>\n",
       "<style scoped>\n",
       "    .dataframe tbody tr th:only-of-type {\n",
       "        vertical-align: middle;\n",
       "    }\n",
       "\n",
       "    .dataframe tbody tr th {\n",
       "        vertical-align: top;\n",
       "    }\n",
       "\n",
       "    .dataframe thead th {\n",
       "        text-align: right;\n",
       "    }\n",
       "</style>\n",
       "<table border=\"1\" class=\"dataframe\">\n",
       "  <thead>\n",
       "    <tr style=\"text-align: right;\">\n",
       "      <th></th>\n",
       "      <th>id</th>\n",
       "      <th>date</th>\n",
       "      <th>title</th>\n",
       "      <th>content</th>\n",
       "    </tr>\n",
       "  </thead>\n",
       "  <tbody>\n",
       "    <tr>\n",
       "      <th>0</th>\n",
       "      <td>20210101-01-01</td>\n",
       "      <td>20210101</td>\n",
       "      <td>中俄两国元首互致新年贺电 中俄两国总理互致新年贺电</td>\n",
       "      <td>新华社北京12月31日电 2020年12月31日...</td>\n",
       "    </tr>\n",
       "    <tr>\n",
       "      <th>1</th>\n",
       "      <td>20210101-01-02</td>\n",
       "      <td>20210101</td>\n",
       "      <td>国家主席习近平发表二〇二一年新年贺词</td>\n",
       "      <td>■ 2020年是极不平凡的一年。面对突如其来的新...</td>\n",
       "    </tr>\n",
       "    <tr>\n",
       "      <th>2</th>\n",
       "      <td>20210101-01-03</td>\n",
       "      <td>20210101</td>\n",
       "      <td>艰难方显勇毅，磨砺始得玉成 ——习近平主席二〇二一年...</td>\n",
       "      <td>新故相推，日生不滞。在风雨兼程中，我们告别202...</td>\n",
       "    </tr>\n",
       "    <tr>\n",
       "      <th>3</th>\n",
       "      <td>20210101-01-04</td>\n",
       "      <td>20210101</td>\n",
       "      <td>全国政协举行新年茶话会 习近平发表重要讲话李克强栗战...</td>\n",
       "      <td>新华社北京12月31日电 中国人民政治协商会议全...</td>\n",
       "    </tr>\n",
       "    <tr>\n",
       "      <th>4</th>\n",
       "      <td>20210101-02-01</td>\n",
       "      <td>20210101</td>\n",
       "      <td>在全国政协新年茶话会上的讲话 （2020年12月31日）</td>\n",
       "      <td>同志们，朋友们：\\n　　在风雨兼程中，我们即将送别2...</td>\n",
       "    </tr>\n",
       "  </tbody>\n",
       "</table>\n",
       "</div>"
      ],
      "text/plain": [
       "               id      date                          title  \\\n",
       "0  20210101-01-01  20210101     中俄两国元首互致新年贺电 中俄两国总理互致新年贺电    \n",
       "1  20210101-01-02  20210101            国家主席习近平发表二〇二一年新年贺词    \n",
       "2  20210101-01-03  20210101  艰难方显勇毅，磨砺始得玉成 ——习近平主席二〇二一年...   \n",
       "3  20210101-01-04  20210101  全国政协举行新年茶话会 习近平发表重要讲话李克强栗战...   \n",
       "4  20210101-02-01  20210101  在全国政协新年茶话会上的讲话 （2020年12月31日）    \n",
       "\n",
       "                         content  \n",
       "0  　　新华社北京12月31日电 2020年12月31日...  \n",
       "1  　　■ 2020年是极不平凡的一年。面对突如其来的新...  \n",
       "2  　　新故相推，日生不滞。在风雨兼程中，我们告别202...  \n",
       "3  　　新华社北京12月31日电 中国人民政治协商会议全...  \n",
       "4  同志们，朋友们：\\n　　在风雨兼程中，我们即将送别2...  "
      ]
     },
     "execution_count": 4,
     "metadata": {},
     "output_type": "execute_result"
    }
   ],
   "source": [
    "import pandas as pd\n",
    "# 设置最大列宽\n",
    "pd.set_option('display.max_colwidth',30) \n",
    "news = pd.read_csv('./data/people.cn/RenMin_Daily.csv')\n",
    "news.head()"
   ]
  },
  {
   "cell_type": "code",
   "execution_count": 5,
   "metadata": {
    "collapsed": true,
    "jupyter": {
     "outputs_hidden": true
    }
   },
   "outputs": [
    {
     "name": "stdout",
     "output_type": "stream",
     "text": [
      "                   id      date                          title  \\\n",
      "30000  20220412-12-02  20220412  重庆白鹤梁水下博物馆用科技手段保障文物安全 千年题刻...   \n",
      "30001  20220412-12-03  20220412                  甘肃出台方案加强科技创新    \n",
      "30002  20220412-12-04  20220412       挖掘永泰庄寨的价值（新语·让好声音成为最强音）    \n",
      "\n",
      "                             content  \n",
      "30000  　　乘坐长91米的隧道式自动扶梯渐入水下，横穿146...  \n",
      "30001  　　本报兰州4月11日电  （记者付文）11日，甘肃...  \n",
      "30002  　　承载着村落历史、维系着村民记忆的乡村文化遗产，能...  \n"
     ]
    }
   ],
   "source": [
    "print(news.iloc[30000:30003])"
   ]
  },
  {
   "cell_type": "code",
   "execution_count": 6,
   "metadata": {},
   "outputs": [
    {
     "name": "stdout",
     "output_type": "stream",
     "text": [
      "行数: 90719, 列数: 4\n"
     ]
    }
   ],
   "source": [
    "# 查看行数和列数\n",
    "rows, cols = news.shape\n",
    "print(f'行数: {rows}, 列数: {cols}')"
   ]
  },
  {
   "cell_type": "markdown",
   "metadata": {},
   "source": [
    "将数据表中content列所有的资讯提取，合并到一个文本文件中。"
   ]
  },
  {
   "cell_type": "code",
   "execution_count": 7,
   "metadata": {},
   "outputs": [
    {
     "name": "stdout",
     "output_type": "stream",
     "text": [
      "文本已成功写入 news.txt 文件！\n"
     ]
    }
   ],
   "source": [
    "# 将目标列转换为字符串,因为资讯中可能含有浮点数字等\n",
    "news['content'] = news['content'].astype(str)\n",
    "\n",
    "# 个人电脑处理400MB的文本还是太大了，所以指定行号列表,抽取部分数据做实验，例如1/25的数据量\n",
    "rows = [x for x in range(1, news.shape[0]) if x % 25 == 0]  # 筛选数据行\n",
    "\n",
    "# 提取目标列（列名为 'content'）\n",
    "texts = news['content'].iloc[rows]\n",
    "\n",
    "# 分段合并（每段以两个换行分隔）\n",
    "merged_text = '\\n\\n'.join(texts)\n",
    "\n",
    "# 将结果写入文本文件\n",
    "with open('./data/people.cn/news.txt', 'w', encoding='utf-8') as f:\n",
    "    f.write(merged_text)\n",
    "\n",
    "print(\"文本已成功写入 news.txt 文件！\")\n"
   ]
  },
  {
   "cell_type": "code",
   "execution_count": 8,
   "metadata": {},
   "outputs": [
    {
     "data": {
      "text/plain": [
       "818"
      ]
     },
     "execution_count": 8,
     "metadata": {},
     "output_type": "execute_result"
    }
   ],
   "source": [
    "import gc\n",
    "# 使用完 数据集 后删除\n",
    "del news, texts, merged_text\n",
    "# 调用垃圾回收\n",
    "gc.collect()"
   ]
  },
  {
   "cell_type": "code",
   "execution_count": 9,
   "metadata": {
    "id": "O6medjfRsLD9"
   },
   "outputs": [],
   "source": [
    "# 读取新数据集\n",
    "with open('./data/people.cn/news.txt', 'r', encoding='utf-8') as f:\n",
    "    text = f.read()"
   ]
  },
  {
   "cell_type": "code",
   "execution_count": 10,
   "metadata": {
    "colab": {
     "base_uri": "https://localhost:8080/"
    },
    "id": "6xWI_VyAsN8F",
    "outputId": "ed819dd0-72e5-40a6-d2ed-928ff73bfda6"
   },
   "outputs": [
    {
     "name": "stdout",
     "output_type": "stream",
     "text": [
      "数据集包含的字符数量: 5,519,725 个\n"
     ]
    }
   ],
   "source": [
    "print(f'数据集包含的字符数量: {len(text):,} 个')"
   ]
  },
  {
   "cell_type": "code",
   "execution_count": 11,
   "metadata": {
    "collapsed": true,
    "jupyter": {
     "outputs_hidden": true
    }
   },
   "outputs": [
    {
     "name": "stdout",
     "output_type": "stream",
     "text": [
      "　　新华社北京12月31日电  国务院办公厅日前印发《关于促进养老托育服务健康发展的意见》（以下简称《意见》）。\n",
      "　　《意见》指出，促进养老托育服务健康发展，有利于改善民生福祉，有利于促进家庭和谐，有利于培育经济发展新动能。为贯彻落实党中央、国务院决策部署，更好发挥各级政府作用，更充分激发社会力量活力，更好实现社会效益和经济效益相统一，持续提高人民群众的获得感、幸福感、安全感，《意见》就促进养老托\n"
     ]
    }
   ],
   "source": [
    "# 开头150个字符\n",
    "print(text[ :200]) "
   ]
  },
  {
   "cell_type": "code",
   "execution_count": 12,
   "metadata": {
    "colab": {
     "base_uri": "https://localhost:8080/"
    },
    "collapsed": true,
    "id": "2c5V0FvqseE0",
    "jupyter": {
     "outputs_hidden": true
    },
    "outputId": "25ca7adc-b8c0-42d1-b08c-e0863c5c314e"
   },
   "outputs": [
    {
     "name": "stdout",
     "output_type": "stream",
     "text": [
      "个，乡镇影院银幕超过1.2万块，近20万家农家书屋提供数字阅读服务。所有公共图书馆、文化馆、美术馆、综合文化站和超91%的博物馆免费开放。广大人民群众的生活方式与精神风貌为之一新。\n",
      "　　从文旅融合中激发消费潜力\n",
      "　　茵茵绿草旁，悠游漫步，欣赏文化市集的创意；潺潺流水边，露营野餐，享受“公园20分钟”的惬意。在湖北当阳花溪湿地，一系列文旅活动与自然风光相映成趣，市民游客尽享假期的“文化味儿”。\n",
      "　　“和家人一起来这里露营，放松身心。今年新增了三楚书屋，花溪湿地更多了些诗意。”市民李睿说。\n",
      "　　“诗和远方”的向往，使文旅消费持续升温。国庆假期，人们外出旅游热情高涨，多地迎来客流高峰，文旅市场呈现一片红火景象。10月1日，全社会跨区域人员流动量超3.3亿人次，同比实现增长。\n",
      "　　“把自然风光和人文风情转化为旅游业的持久魅力”，关键在以文塑旅、以旅彰文，挖掘旅游中的文化竞争力，让山水人文从“可观”到“可游”、让市民游客从“看景”到“入景”。\n",
      "　　国庆假期，重庆江北北仓文创街区人流涌动。“这里的老重庆风貌有特色，文化体验活动有意思，我们年轻人喜欢来。”10月2日上午，在陶画园文学手工馆体验手工陶艺的游客冯露说。\n",
      "　　北仓文创街区由塔坪片区内的老纺织仓库改造而来，集城市图书馆、生活美学馆、创客空间于一体，已入驻80户商户，年综合营收超过1亿元，直接带动就业超过600人。\n",
      "　　文旅融合带动“一业兴、百业旺”。各地顺应消费新趋势，积极打造文化新业态、新场景，持续提升消费结构，满足不同消费者需求。\n",
      "　　在乡村，体验活力四射的“村晚”“村超”“村BA”。广场旁的集市，农产品和非遗产品热销，将乡村文化活动转化为文旅消费活动。1597个全国乡村旅游重点村镇示范引领，文旅消费热度不断上升。\n",
      "　　在城市，打卡创意十足的文化街区、夜间集市。345个国家级夜间文化和旅游消费集聚区搭建消费场景，42家智慧旅游沉浸式体验新空间培育试点项目开发新型服务，文旅消费动能持续释放。\n",
      "　　“一个国家、一个民族的强盛，总是以文化兴盛为支撑的”。\n",
      "　　今天的中国，文脉传承弦歌不辍，文化产业蓬勃发展，文化事业生机盎然，人民享有更加充实、更为丰富、更高质量的精神文化生活，必将凝聚起强国建设、民族复兴的强大精神力量。\n",
      "　　（本报记者张丹华、曹玲娟、陈隽逸、姚雪青、宋朝军、张文豪、郑海鸥、韩俊杰、庞革平、刘新吾参与采写）\n",
      "\n"
     ]
    }
   ],
   "source": [
    "# 末尾1000个字符\n",
    "print(text[-1000:]) "
   ]
  },
  {
   "cell_type": "markdown",
   "metadata": {},
   "source": [
    "#### <b>2.1.2 分词与词典</b>"
   ]
  },
  {
   "cell_type": "markdown",
   "metadata": {},
   "source": [
    "针对语料库，自行定义词典"
   ]
  },
  {
   "cell_type": "code",
   "execution_count": 13,
   "metadata": {
    "colab": {
     "base_uri": "https://localhost:8080/"
    },
    "collapsed": true,
    "id": "0e-Rbyr8sfM8",
    "jupyter": {
     "outputs_hidden": true
    },
    "outputId": "f34e94a9-5b44-4cf3-885b-986731929109"
   },
   "outputs": [
    {
     "name": "stdout",
     "output_type": "stream",
     "text": [
      "\n",
      " !#%&'()*+,-./0123456789:=>@ABCDEFGHIJKLMNOPQRSTUVWXYZabcdefghijklmnopqrstuvwxyz °±·×èπ—‘’“”…‰℃™ⅠⅡⅢⅣⅤ∶①②③④⑤⑥⑦⑧⑨⑩■▶◆●　、。〇〈〉《》【】〔〕㎡一丁七万丈三上下不与丑专且丕世丘丙业丛东丝丢两严丧丨个丫中丰串临丸丹为主丽举乃久么义之乌乍乎乏乐乒乓乔乘乙九乞也习乡书买乱乳乾了予争事二于亏云互亓五井亘亚些亟亡亢交亥亦产亨亩享京亭亮亲亳亵亶人亿什仁仃仄仅仆仇仉今介仍从仑仓仔仕他仗付仙仚仝仞仡代令以仪仫们仰仲仵件价任份仿企伊伍伎伏伐休众优伙会伞伟传伤伥伦伪伫伯估伴伶伸伺似伽佃但位低住佐佑体何佘余佚佛作佟你佣佤佩佬佯佰佳佶佺佼使侃侄侈例侍侏侑侗供依侠侣侥侦侧侨侬侮侯侵便促俄俊俎俏俐俑俗俘俚保俞俟信俤俨俩俭修俯俱俺俾倍倏倒倔倘候倚倜借倡倦倩倪倭债值倾偃假偌偎偏偕做停健偲偶偷偾偿傅傈傍傣傥傧储傩催傲傻像僚僧僮僳僵僻儆儋儒儿兀允元兄充兆先光克免兑兔党兜兢入全八公六兮兰共关兴兵其具典兹养兼兽冀内冈冉册再冒冕冗写军农冠冢冤冥冬冯冰冲决况冶冷冻冼冽净凄准凇凉凋凌减凑凛凝几凡凤凭凯凰凳凶凸凹出击函凿刀刁刃分切刊刍刑划列刘则刚创初删判刨利别刮到制刷券刹刺刻剁剂剅削前剐剑剔剖剥剧剩剪副割剿劈力劝办功加务劣动助努劫励劲劳劵劼势勃勇勉勋勐勒勘募勠勤勺勾勿匀包匆匈匍匐化北匙匝匠匡匣匪匮匹区医匾匿十千卅升午卉半华协卑卒卓单卖南博卜卞占卡卢卤卦卧卨卫卯印危即却卵卷卸卿厂厄厅历厉压厌厕厘厚厝原厢厥厦厨厮去县参又叉及友双反发叔取受变叙叛叠口古句另叨叩只叫召叭叮可台叱史右叵叶号司叹叼叽吁吃各吆合吉吊同名后吏吐向吒吓吕吗君吝吞吟否吧吨含听吭吮启吱吴吵吸吹吻吼吾呀呆呈告呐呕呗员呙呛呜呢呤呦周呲味呵呷呼命咀咂咄咋和咎咏咐咔咕咖咙咚咝咤咦咧咨咫咬咯咱咳咸咽咿哀品哄哆哇哈哉响哎哑哒哔哗哟哥哦哧哨哩哪哭哮哲哺哼哽唁唆唇唉唏唐唠唢唤唧唬售唯唰唱啁啃啄商啊啜啡啤啥啦啧啪啬啭啰啵啶啸啻啼啾喀喂喃善喆喇喉喊喏喘喙喜喝喧喳喷喹喻喽喾嗅嗑嗒嗓嗔嗜嗡嗣嗤嗦嗬嗽嘀嘈嘉嘌嘎嘘嘛嘞嘟嘣嘤嘭嘱嘴嘶嘹嘻嘿噌噎噔噗噙噜噢噤器噩噪噬噱噶噼嚎嚏嚓嚣嚯嚷嚼囊囚四回因团囤囫园困囱围囵囹固国图囿圃圄圆圈圐圙圜土圣在圩圪圭地圳场圾址坂均坊坌坍坎坏坐坑块坚坛坜坝坞坟坠坡坤坦坨坩坪坬坭坯坳坷坻垂垃垄型垌垒垚垛垠垢垣垦垧垩垫垭垮埂埃埇埋城埔埕埚埝域埠埭培基堀堂堃堆堇堉堑堕堞堡堤堪堰堵堽塄塆塌塑塔塘塞填塬塾墀境墅墈墒墓墙增墟墨墩壁壑壕壤士壬壮声壳壶壹处备复夏夔夕外夙多夜够大天太夫夭央夯失头夷夸夹夺夼奁奂奄奇奈奉奋奎奏契奔奕奖套奘奚奠奢奥奭女奴奶奸她好如妃妄妆妇妈妊妍妖妙妤妥妨妩妮妯妹妻姆姊始姐姑姓委姗姚姜姝姣姥姨姬姹姻姿威娃娄娅娇娉娌娑娓娘娜娟娠娣娥娩娱娲娴娶婀婆婉婕婚婧婪婴婵婶婷婺婿媒媚媛媲媳嫁嫂嫉嫌嫡嫣嫦嫩嫫嫱嬉嬗孀孃子孑孔孕孖字存孙孚孜孝孟孢季孤学孩孪孱孳孵孺宁它宅宇守安宋完宏宕宗官宙定宛宜宝实宠审客宣室宦宪宫宰害宴宵家宸容宽宾宿寀寂寄寅密寇富寐寒寓寝寞察寡寥寨寮寯寰寸对寺寻导寿封射将尉尊小少尔尕尖尘尚尝尤尧尬就尴尸尹尺尼尽尾尿局屁层居屈屉届屋屎屏屑展属屠屡履屯山屹屿岁岂岐岑岔岖岗岚岛岜岢岩岫岭岱岳岷岸岿峁峄峋峒峙峡峤峥峦峨峪峭峰峻崂崆崇崎崑崔崖崛崟崧崩崭崮崴崽嵇嵊嵋嵌嵘嵚嵛嵩嶂嶙嶝巅巉巍川州巡巢工左巧巨巩巫差己已巴巷巾币市布帅帆师希帐帕帖帘帙帚帛帜帝带帧席帮帷常帼帽幄幅幌幕幛幡幢干平年并幸幺幻幼幽广庄庆庇床序庐库应底庖店庙庚府庞废庠度座庭庵康庸庹庾廉廊廓廖廪延廷建廿开异弃弄弈弊弋式弓引弗弘弛弟张弥弦弧弩弭弯弱弶弹强弼归当录彝形彤彦彩彪彬彭彰影彷役彻彼往征径待徇很徉徊律徐徒徕得徘徙徜御徨循微徵德徽心必忆忌忍忐忑志忘忙忠忡忧快忱念忻忽忾怀态怂怅怆怎怒怕怖怜思怠怡急怦性怨怪怯总怿恃恋恍恐恒恕恙恢恣恤恨恩恪恬恭息恰恳恶恹恺恼恽恿悄悉悍悔悖悟悠患悦您悬悲悸悼情惆惊惋惑惕惘惚惜惟惠惦惧惨惩惫惬惭惮惯惰想惴惹惺愁愈愉意愚感愣愤愧愫愿慈慌慎慑慕慢慧慨慰慷憋憧憨憩憬憾懂懈懊懒懵懿戈戊戌戍戎戏成我戒或戗战戚戛戟截戮戳戴户戾房所扁扇扈扉手才扎扑扒打扔托扛扣扦执扩扫扬扭扮扯扰扳扶批扼找承技抄抉把抑抒抓抔投抖抗折抚抛抠抡抢护报抨披抬抱抵抹押抽抿拂担拆拇拈拉拌拍拎拐拒拓拔拖拗拘拙招拜拟拢拣拥拦拧拨择括拭拮拯拱拳拴拷拼拽拾拿持挂指挈按挎挑挖挚挛挝挟挠挡挣挤挥挨挪挫振挺挽捂捆捉捋捌捍捎捏捐捕捞损捡换捣捧据捶捷捺捻掀掂掇授掉掌掏掐排掖掘掠探掣接控推掩措掬掰掷掸掺揉描提插揠握揣揪揭援揺揽搀搁搂搅搏搐搓搜搞搪搬搭携摁摄摆摇摊摒摔摘摞摧摩摸摹撂撇撑撒撕撞撤撩撬播撮撰撵撸撼擀擂擅操擎擒擘擞擤擦攀攒攘攥攫支收攸改攻放政故效敌敏救敕敖教敛敝敞敢散敦敬数敲整敷文斋斌斐斑斓斗料斛斜斟斡斤斥斧斩斫断斯新方於施旁旅旋旌旎族旖旗无既日旦旧旨早旬旭旱时旷旸旺旻昀昂昆昇昉昊昌明昏易昔昕昙昝星映春昧昨昭是昱昵昶昼显晁晃晋晌晏晒晓晔晕晖晗晚晟晤晦晨晩普景晰晴晶晷智晾暂暄暇暑暖暗暧暨暮暴暹曌曙曜曝曦曰曲曳更曹曼曾替最月有朋服朔朗望朝期朦木未末本札术朱朴朵机朽杀杂权杆杈杉李杏材村杓杖杜杞束杠条来杨杭杯杰杲杳杵杷杼松板极构枇枉析枕林枚果枝枞枢枣枧枨枪枫枭枯架枷枸柄柏某柑柒染柔柘柚柜柞柠柢查柩柬柯柰柱柳柴柽柿栀栅标栈栉栋栌栎栏树栓栖栗校栢栩株栱样核根格栽栾桁桂桃桅框案桉桌桎桐桑桓桔桕桢档桥桦桨桩桫桶桷梁梅梆梏梓梗梢梦梧梨梭梯械梳梵检棂棉棋棍棒棕棘棚棠棣棨森棱棵棺椅植椎椒椠椤椭椰椴椽椿楂楚楞楠楣楫楷楸楹楼榀概榄榆榈榔榕榛榜榧榨榫榭榴榻槃槌槎槐槔槛槟槠槭槽槿樊樑樟模横樯樱樵樸樽橄橇橘橙橡橱橹檀檐檬欠次欢欣欧欲欺款歆歇歉歌歙止正此步武歧歪歹死歼殃殆殇殉殊残殓殖殚殡殴段殷殿毁毂毅毋母每毒毓比毕毖毗毙毛毡毫毯毳毽氏民气氚氛氟氢氤氦氧氨氩氮氯氰氲水永汀汁求汇汉汊汐汔汕汗汛汝汞江池污汤汨汩汪汰汲汴汶汹汽汾沁沂沃沅沆沈沉沏沐沓沔沙沚沛沟没沣沥沦沧沪沫沭沮沱河沸油治沼沽沾沿泃泄泉泊泌泓法泗泛泞泡波泣泥注泪泫泮泯泰泱泳泵泸泺泻泼泽泾洁洄洇洋洎洑洒洗洛洞津洨洪洮洱洲洵活洼洽派流浃浅浆浇浊测济浏浐浑浒浓浔浙浚浜浠浣浦浩浪浮浴海浸涂涅消涉涌涎涓涕涛涝涞涟涠涡涣涤润涧涨涩涪涮涯液涵涸涿淀淄淅淆淇淋淌淑淖淘淙淛淜淝淞淡淤淦淫淬淮深淳混淹添淼清渊渌渍渎渐渔渕渗渚渝渠渡渣渤渥温渭港渲渴游渺渿湃湄湉湍湎湖湘湛湟湮湾湿溃溅溆溉源溜溟溢溥溧溪溯溶溺溽滁滂滇滋滑滓滔滕滚滞滟满滢滤滥滦滨滩滴滹漂漆漉漏漓演漕漠漩漪漫漯漱漳漾潇潋潍潘潜潞潟潢潦潭潮潸潺潼潽澄澈澍澎澜澡澧澳澹激濂濉濒濛濞濠濡濮濯瀑瀚瀛瀣瀼灌灏灞火灭灯灰灵灶灸灼灾灿炉炊炎炒炕炖炙炜炫炬炭炮炯炳炸点炼炽烁烂烃烈烊烘烙烛烟烤烦烧烨烫烬热烮烯烷烹烺烽焉焊焐焕焖焘焙焚焜焦焯焰焱然煅煌煎煜煞煤煦照煨煮煲煽熄熊熏熔熙熟熠熨熬熳熹熺燃燎燕燚燥燧燮爆爪爬爱爵父爷爸爹爽牁牂片版牌牍牒牙牛牟牡牢牤牦牧物牲牵特牺犀犁犇犊犍犟犬犯状犷犸犹狂狄狍狐狗狠狡狩独狭狮狱狸狼猎猕猖猗猛猜猩猪猫猬献猯猴猾猿獐獗獠獭玄率玉王玎玑玖玛玟玠玥玩玫玮环现玲玳玷玺玻珀珂珉珊珍珏珐珑珙珞珠珥珩班珮珲珺球琅理琉琍琎琏琐琛琢琥琦琨琪琮琰琳琴琵琶琼瑀瑁瑄瑒瑕瑙瑚瑛瑜瑞瑟瑨瑰瑶瑷瑾璀璁璃璇璋璐璜璞璠璧璨璹瓜瓢瓣瓦瓮瓯瓴瓶瓷甄甘甚甜生用甩甫甬田由甲申电男甸町画畅畈界畏畔留畚畜略番畲畴畸畹畿疃疆疏疑疗疙疚疝疟疤疫疮疯疱疲疴疵疹疼疽疾病症痉痊痍痒痕痛痧痪痰痴痹痼瘁瘟瘠瘢瘤瘦瘩瘪瘫瘴瘸瘾癌癖癣癯癸登白百皂的皆皇皋皎皑皓皖皮皱皲皴皿盂盅盆盈盉益盎盏盐监盒盔盖盗盘盛盟盥目盯盱盲直相盹盼盾省眉看眙真眠眨眩眭眯眶眷眸眺眼着睁睇睐睛睡睢督睦睫睹睿瞄瞅瞒瞥瞧瞩瞪瞬瞭瞰瞳瞻瞿矍矗矛矜矢矣知矩矫短矮石矶矸矾矿砀码砂砌砍研砖砚砟砥砦砧砬砭砰破砷砸砺砻砼砾础硃硅硐硒硕硖硗硚硝硫硬确硷硼碇碉碌碍碎碑碓碗碘碚碛碟碡碣碧碰碱碳碶碾磁磅磊磋磐磕磘磜磨磬磴磷礁礴示礼礽社祀祁祈祉祎祖祛祜祝神祟祠祥票祭祯祷祸祺禀禁禄禅福禔禘禧禬禳禹禺离禽禾秀私秃秆秉秋种科秒秘租秣秤秦秧秩秭积称秸移秽稀程稍税稔稚稞稠稳稷稻稼稽稿穆穑穗穴究穷穹空穿突窃窄窅窋窍窑窒窖窗窘窜窝窟窠窣窥窦窨窸窿立竑竖站竞竟章竣童竭端竹竺竿笃笆笈笋笏笑笔笙笛笠符笨第笺笼筅等筋筏筐筑筒答策筚筛筜筝筠筱筷筹筻筼签简箍箐箔箕算管箩箫箭箱箴箸篁篆篇篑篓篝篡篪篮篱篷篾簇簋簧簪簸簿籁籍米类籼籽粉粑粒粕粗粘粝粟粤粥粪粮粱粲粳粹粼粽精糁糅糊糌糍糕糖糙糟糠糯系紊素索紧紫累絮綦綮縻繁纂纠红纣纤约级纪纫纬纭纯纱纲纳纵纶纷纸纹纺纽纾线练组绅细织终绊绍绎经绑绒结绕绘给绚绛络绝绞统绢绣绥绦继绩绪续绮绯绰绱绳维绵绶绷绸绺综绽绿缀缂缄缅缆缇缈缉缎缓缔缕编缘缙缚缛缜缝缟缠缤缥缨缩缪缭缮缰缴缸缺罄罐网罔罕罗罘罚罢罩罪置署罹羁羊羌美羔羚羞羡群羲羹羽羿翀翁翅翊翌翎翔翕翘翙翟翠翡翩翰翱翻翼耀老考耄者耆耋而耍耐耒耕耗耘耙耦耳耶耸耻耽耿聂聃聆聊聋职聒联聘聚聩聪聿肃肆肇肉肋肌肖肘肚肝肠股肢肤肥肩肪肯育肴肺肽肾肿胀胁胃胆背胍胎胖胚胜胝胞胡胥胧胫胭胯胰胳胶胸胺胼能脂脆脉脊脍脏脐脑脖脚脯脱脸脾腆腈腊腋腌腐腑腔腕腥腩腮腰腱腴腹腺腻腼腾腿膀膊膏膛膜膝膦膨膳膺臂臆臊臣臧自臬臭至致臻臼臾舀舅舆舌舍舒舜舞舟航舫般舰舱舳舵舶舷舸船舻艇艘良艰色艳艺艾节芃芊芋芒芗芙芜芝芥芦芩芫芬芭芮芯花芳芷芸芹芽芾苇苍苎苏苑苒苓苔苕苗苛苜苞苟苣若苦苯英苴苷苹苻茁茂范茄茅茆茉茎茏茗茚茜茧茨茫茬茭茯茵茶茸茹茼荀荃荆草荏荐荒荔荚荞荟荠荡荣荤荥荦荧荪荫药荷荸荻荼荽莅莆莉莎莒莓莘莞莠莫莱莲获莹莺莽菁菅菇菊菌菏菖菜菠菡菩菱菲菽萁萃萄萋萌萍萎萘萝营萦萧萨萱萼落葆著葚葛葡董葩葫葬葭葱葳葵葸葺蒂蒋蒗蒙蒜蒯蒲蒸蒿蓄蓉蓊蓑蓓蓝蓟蓥蓦蓬蓼蓿蔑蔓蔗蔚蔟蔡蔬蔷蔸蔺蔼蔽蕃蕉蕊蕙蕤蕨蕲蕴蕻蕾薄薅薇薛薜薤薪薮薯薰薹藁藉藏藓藕藜藤藩藻藿蘑蘖蘸虆虎虏虐虑虔虚虞虫虬虱虹虺虽虾蚀蚁蚂蚊蚌蚓蚕蚜蚝蚣蚤蚪蚯蚱蛀蛇蛉蛊蛋蛙蛛蛟蛤蛮蛰蛹蛾蜀蜂蜈蜒蜓蜕蜗蜘蜚蜜蜡蜷蜻蜿蝇蝉蝌蝎蝗蝴蝶螃螈融螟螭螯螺蟠蟥蟹蟾蠢蠹血衅行衍衔街衙衡衢衣补表衫衬衰衷袁袂袄袅袋袍袒袖袜袤被袭袱裁裂装裆裔裕裘裙裤裨裱裳裴裸裹褂褐褒褓褚褥褪褶襁襄襟西要覃覆见观规觅视览觉觊觎觑角觞解触言訚訾詹誉誊誓謇警譬计订认讥讨让讪训议讯记讲讳讴讶讷许讹论讼讽设访诀证诂诃评识诈诉诊诋词诏译试诗诘诙诚话诞诟诠诡询诣该详诧诩诫诬语误诱诲说诵请诸诺读诽课诿谀谁调谅谆谈谊谋谌谍谎谏谐谒谓谕谙谚谛谜谟谡谢谣谤谦谧谨谩谬谭谯谱谲谴谷豁豆豇豌豚象豪豫豸豹豺貂貌貘贝贞负贠贡财责贤败账货质贩贪贫贬购贮贯贰贱贴贵贷贸费贺贻贼贽贾贿赁赂赃资赅赈赉赊赋赌赏赐赓赔赖赘赚赛赞赟赠赡赢赣赤赦赫赭走赳赴赵赶起趁趄超越趋趔趟趣足趴趵趸跃跆跋跌跎跑跖跚跛距跟跤跨跪跬路跳践跷跹跻踊踌踏踔踝踞踢踩踪踮踱踵蹂蹄蹇蹈蹉蹊蹑蹒蹙蹚蹦蹬蹭蹲蹴蹿躁躇躏身躬躯躲躺車輖车轧轨轩轫转轮软轰轲轳轴轶轻轼载轾轿较辄辅辆辇辈辉辊辋辍辏辐辑输辕辖辗辘辙辛辜辞辟辣辨辩辫辰辱边辽达迁迂迄迅过迈迎运近返还这进远违连迟迢迤迥迦迩迪迫迭述迳迷迸迹追退送适逃逄逅逆选逊逍透逐递途逗通逛逝逞速造逢逦逮逯逶逸逻逼逾遁遂遇遍遏遐遑遒道遗遛遣遥遨遭遮遴遵避邀邂邃邑邓邕邗邝邢那邦邨邪邬邮邯邰邱邳邴邵邸邹邺邻郁郄郅郇郊郎郑郓郜郝郡郢郧部郫郭郯郴郸都鄂鄄鄞鄠鄯鄱酉酋酌配酒酗酚酝酣酥酩酬酮酯酰酱酵酶酷酸酽酿醇醉醋醒醛醴醺采釉释里重野量金釜鉴銮鋆鋬錾鏖鑫钇针钉钊钎钒钓钗钙钛钝钞钟钠钡钢钣钤钥钦钧钨钩钬钮钰钱钳钴钵钹钺钻钼钽钾铀铁铂铃铄铅铆铉铎铐铑铖铙铛铜铝铟铠铡铢铣铤铧铨铬铭铮铰铱铲铵银铸铺链铿销锁锂锃锄锅锈锋锌锏锐锗错锚锟锡锢锣锤锥锦锭键锯锰锲锴锵锸锹锻镀镁镂镇镉镊镌镍镐镑镓镔镕镖镗镛镜镝镠镣镩镭镰镶长门闪闫闭问闯闰闲闳间闵闷闸闹闺闻闽闾阀阁阂阅阆阈阎阐阑阔阖阗阙阚阜队阡阪阮阱防阳阴阵阶阻阿陀陂附际陆陇陈陉陋陌降限陕陟陡院除陨险陪陲陵陶陷隅隆隋隍随隐隔隘隙障隧隰隶隼隽难雀雁雄雅集雇雉雌雍雏雒雕雨雩雪雯雳零雷雹雾需霁霄霆震霉霍霎霏霓霖霜霞霭露霸霹霾青靓靖静靛非靠靡面靥革靳靴靶鞅鞋鞍鞠鞭韦韧韩韫韬韭音韵韶頴页顶顷项顺须顼顽顾顿颁颂预颅领颇颈颉颊颌颍颐频颓颔颖颗题颜额颠颤颦风飏飒飓飕飘飙飚飞食飨餐饥饨饪饬饭饮饰饱饲饴饵饶饸饺饼饽饿馁馃馄馅馆馈馋馍馏馒馓馕首香馥馨驩马驭驮驯驰驱驳驴驶驷驸驹驻驼驾驿骀骁骂骄骅骆骇骈骋验骏骑骗骚骛骞骡骢骤骥骨骸骼髋髓高髦髫髯髻鬃鬓鬻鬼鬽魁魂魄魅魏魔鮰鱀鱼鱿鲁鲃鲈鲍鲑鲚鲜鲟鲢鲤鲫鲮鲲鲶鲷鲸鳄鳅鳌鳍鳗鳙鳞鳟鵾鸟鸠鸡鸢鸣鸥鸦鸩鸫鸬鸭鸯鸳鸶鸽鸿鹂鹃鹄鹅鹈鹉鹊鹍鹏鹕鹚鹤鹦鹭鹮鹰鹳鹿麋麒麓麝麟麦麯麻麾黄黉黍黎黏黑黔默黛黝黟黢黩黯鼎鼐鼓鼠鼢鼯鼻鼾齐齿龃龄龉龘龙龚龛龟！％（）＋，：；＜＝＞？＠\n",
      "\n",
      "字典长度：5173\n"
     ]
    }
   ],
   "source": [
    "# 使用 set 提取唯一字符, 统计数据集（语料库）中不同字符\n",
    "unique_chars = set(text) \n",
    "\n",
    "# 按照字符的 Unicode 编码顺序排序，得到词典 vocab\n",
    "vocab = sorted(list(set(text))) \n",
    "\n",
    "vocab_size = len(vocab)\n",
    "\n",
    "print(''.join(vocab))\n",
    "print(f'\\n字典长度：{vocab_size}')"
   ]
  },
  {
   "cell_type": "code",
   "execution_count": 14,
   "metadata": {
    "jupyter": {
     "source_hidden": true
    }
   },
   "outputs": [
    {
     "name": "stdout",
     "output_type": "stream",
     "text": [
      "词典大小: 5173\n",
      "词典保存为文本格式: data/news_vocab.txt\n",
      "词典大小: 5173\n",
      "词典保存为JSON格式： data/news_vocab.json\n"
     ]
    }
   ],
   "source": [
    "import json\n",
    "\n",
    "# 根据文本串 text， 生成词典文件output_file，支持txt和json两种存储格式\n",
    "def generate_vocab(text, output_file, format='txt'):\n",
    "    \n",
    "    # 提取文本中的唯一字符并排序\n",
    "    unique_chars = set(text)\n",
    "    vocab = sorted(list(unique_chars))\n",
    "\n",
    "    # 计算词典大小\n",
    "    vocab_size = len(vocab)\n",
    "    print(f\"词典大小: {vocab_size}\")\n",
    "\n",
    "    # 创建词典，将每个字符映射到一个唯一的ID\n",
    "    vocab_dict = {char: idx for idx, char in enumerate(vocab)}\n",
    "\n",
    "    # 保存词典\n",
    "    if format == 'txt':\n",
    "        # 保存为文本格式\n",
    "        with open(output_file, 'w', encoding='utf-8') as f:\n",
    "            for char, idx in vocab_dict.items():\n",
    "                f.write(f\"{char}\\n\")\n",
    "        print(f\"词典保存为文本格式: {output_file}\")\n",
    "    \n",
    "    elif format == 'json':\n",
    "        # 保存为 JSON 格式\n",
    "        with open(output_file, 'w', encoding='utf-8') as f:\n",
    "            json.dump(vocab_dict, f, ensure_ascii = False, indent = 4)\n",
    "        print(f\"词典保存为JSON格式： {output_file}\")\n",
    "    else:\n",
    "        print(\"不支持的文件格式，请使用 'txt'或 'json'格式\")\n",
    "\n",
    "# 示例：生成词典并保存为文件\n",
    "# corpus = \"这是一个自定义的语料库文本。文本中包含不同的字符。\"\n",
    "# generate_vocab(corpus, \"vocab1.txt\", format='txt')   # 保存为txt格式\n",
    "# generate_vocab(corpus, \"vocab1.json\", format='json') # 保存为json格式\n",
    "\n",
    "# 根据人民日报语料生成词典\n",
    "generate_vocab(text, \"data/news_vocab.txt\", format='txt')   # 保存为txt格式\n",
    "generate_vocab(text, \"data/news_vocab.json\", format='json') # 保存为json格式\n",
    "del text"
   ]
  },
  {
   "cell_type": "markdown",
   "metadata": {},
   "source": [
    "==================================================================================\n",
    "实现一个自定义的分词程序，自定义词典的加载与管理，具备类似 BERT 和 GPT 的分词功能：\n",
    "\n",
    "（1）**自定义分词Tokenizer**：实现一个分词器（Tokenizer），<br/>\n",
    "    提供 `convert_tokens_to_ids` 和 `convert_ids_to_tokens` 等方法。<br/>\n",
    "（2）**分词功能**：支持基于自定义词典的分词方法，类似于最大匹配（LPM）算法。<br/>\n",
    "\n",
    "##### `Tokenizer` 类\n",
    "\n",
    "这个类将包含：\n",
    "- `from_pretrained` 方法：从一个文件加载自定义词典。\n",
    "- `tokenize` 方法：对输入文本进行分词。\n",
    "- `convert_tokens_to_ids` 方法：将词汇转换为 ID。\n",
    "- `convert_ids_to_tokens` 方法：将 ID 转换回词汇。\n",
    "\n",
    "##### 使用方法\n",
    "\n",
    "- 将词典文件 `vocab.txt` 准备好，格式为每行一个词，使用该词典初始化 `MyTokenizer`。\n",
    "- 调用 `tokenize()`、`convert_tokens_to_ids()` 和 `convert_ids_to_tokens()` 等方法进行分词和ID转换操作。\n",
    "\n",
    "##### 其他功能扩展\n",
    "\n",
    "- **处理子词（Subword）**：如果希望支持子词分割，可以将 tokenizer 扩展为类似 BERT 的方式，使用 `WordPiece` 或 `Byte-Pair Encoding (BPE)` 等算法进一步细化分词。\n",
    "- **特殊Token支持**：可以添加更多特殊 token，如 `[CLS]`、`[SEP]` 等。\n",
    "\n",
    "这样，就能实现一个自定义的分词器，并且具备类似 GPT 和 BERT 的分词与 ID 转换功能，能够方便地在其它程序中导入和使用"
   ]
  },
  {
   "cell_type": "code",
   "execution_count": 15,
   "metadata": {},
   "outputs": [],
   "source": [
    "# 分词类\n",
    "import json\n",
    "class MyTokenizer:\n",
    "    def __init__(self, vocab_file):\n",
    "        # 加载词典\n",
    "        self.vocab = self.load_vocab(vocab_file)\n",
    "        self.reverse_vocab = {v: k for k, v in self.vocab.items()}  # ID 到 Token 的映射\n",
    "        self.unk_token = \"[UNK]\"  # 未知词标记\n",
    "        self.pad_token = \"[PAD]\"  # 填充标记\n",
    "    \n",
    "    @classmethod\n",
    "    def from_pretrained(cls, vocab_file):\n",
    "        return cls(vocab_file)\n",
    "    \n",
    "    def load_vocab(self, vocab_file):\n",
    "        \"\"\"从JSON文件加载词典\"\"\"\n",
    "        with open(vocab_file, 'r', encoding='utf-8') as f:\n",
    "            vocab = json.load(f)  # 从JSON文件读取数据并转换为 Python字典\n",
    "        return vocab\n",
    "\n",
    "    def tokenize(self, text):\n",
    "        \"\"\"将输入文本进行分词\"\"\"\n",
    "        tokens = list(text)  # 将文本拆分成字符\n",
    "        output_tokens = []\n",
    "\n",
    "        for token in tokens:\n",
    "            # 如果token在词汇表中，直接添加\n",
    "            if token in self.vocab.keys():\n",
    "                output_tokens.append(token)\n",
    "            else:\n",
    "                # 否则，标记为[UNK]，代表这个词不在词汇表中\n",
    "                output_tokens.append(self.unk_token)\n",
    "        \n",
    "        return output_tokens\n",
    "\n",
    "    def convert_tokens_to_ids(self, tokens):\n",
    "        \"\"\"将token转换为ID\"\"\"\n",
    "        return [self.vocab.get(token, -1) for token in tokens]  # 返回对应的ID，如果没有找到则返回-1\n",
    "\n",
    "    def convert_ids_to_tokens(self, ids):\n",
    "        \"\"\"将ID转换为token\"\"\"\n",
    "        return [self.reverse_vocab.get(id, \"[UNK]\") for id in ids]  # 返回对应的token，如果没有找到则返回[UNK]\n"
   ]
  },
  {
   "cell_type": "code",
   "execution_count": 16,
   "metadata": {
    "collapsed": true,
    "jupyter": {
     "outputs_hidden": true
    }
   },
   "outputs": [
    {
     "name": "stdout",
     "output_type": "stream",
     "text": [
      "Tokens: ['好', '好', '学', '习', '，', '天', '天', '向', '上', '。', '维', '语', '版', '：', '[UNK]', '[UNK]', '[UNK]', '[UNK]', '[UNK]', '[UNK]', '[UNK]', ' ', '[UNK]', '[UNK]', '[UNK]', '[UNK]', '[UNK]', '[UNK]', '[UNK]']\n",
      "Token IDs: [1099, 1099, 1203, 186, 5165, 1061, 1061, 700, 136, 119, 3519, 4213, 2814, 5166, -1, -1, -1, -1, -1, -1, -1, 1, -1, -1, -1, -1, -1, -1, -1]\n",
      "IDs to Tokens: ['好', '好', '学', '习', '，', '天', '天', '向', '上', '。', '维', '语', '版', '：', '[UNK]', '[UNK]', '[UNK]', '[UNK]', '[UNK]', '[UNK]', '[UNK]', ' ', '[UNK]', '[UNK]', '[UNK]', '[UNK]', '[UNK]', '[UNK]', '[UNK]']\n"
     ]
    }
   ],
   "source": [
    "# 初始化分词器\n",
    "tokenizer = MyTokenizer.from_pretrained('data/news_vocab.json')\n",
    "# 分词操作\n",
    "sentence = \"好好学习，天天向上。维语版：جاپالىق ئۆگىنىڭ\"\n",
    "tokens = tokenizer.tokenize(sentence)\n",
    "print(\"Tokens:\", tokens)\n",
    "\n",
    "# 将tokens转换为ID\n",
    "ids = tokenizer.convert_tokens_to_ids(tokens)\n",
    "print(\"Token IDs:\", ids)\n",
    "\n",
    "# 将ID转换回Tokens\n",
    "reconstructed_tokens = tokenizer.convert_ids_to_tokens(ids)\n",
    "print(\"IDs to Tokens:\", reconstructed_tokens)"
   ]
  },
  {
   "cell_type": "code",
   "execution_count": 17,
   "metadata": {},
   "outputs": [
    {
     "name": "stdout",
     "output_type": "stream",
     "text": [
      "['\\u3000', '\\u3000', '新', '华', '社', '北', '京', '1', '2', '月', '3', '1', '日', '电', '\\xa0', '\\xa0', '国', '务', '院', '办']\n",
      "CPU times: total: 688 ms\n",
      "Wall time: 681 ms\n"
     ]
    }
   ],
   "source": [
    "%%time\n",
    "# 对整个语料库分词\n",
    "with open('./data/people.cn/news.txt', 'r', encoding='utf-8') as f:\n",
    "    corpus = f.read()\n",
    "tokens = tokenizer.tokenize(corpus)\n",
    "print(tokens[:20])\n"
   ]
  },
  {
   "cell_type": "code",
   "execution_count": 18,
   "metadata": {},
   "outputs": [
    {
     "data": {
      "text/plain": [
       "5519725"
      ]
     },
     "execution_count": 18,
     "metadata": {},
     "output_type": "execute_result"
    }
   ],
   "source": [
    "len(tokens)"
   ]
  },
  {
   "cell_type": "code",
   "execution_count": 19,
   "metadata": {},
   "outputs": [
    {
     "name": "stdout",
     "output_type": "stream",
     "text": [
      "Token IDs: [117, 117, 1971, 603, 3231, 583, 218, 16, 17, 2074, 18, 16, 1985, 2985, 81, 81, 921, 551, 4827, 548]\n"
     ]
    }
   ],
   "source": [
    "ids = tokenizer.convert_tokens_to_ids(tokens)\n",
    "print(\"Token IDs:\", ids[:20])"
   ]
  },
  {
   "cell_type": "code",
   "execution_count": 20,
   "metadata": {},
   "outputs": [
    {
     "name": "stdout",
     "output_type": "stream",
     "text": [
      "IDs to Tokens: ['\\u3000', '\\u3000', '新', '华', '社', '北', '京', '1', '2', '月', '3', '1', '日', '电', '\\xa0', '\\xa0', '国', '务', '院', '办']\n"
     ]
    }
   ],
   "source": [
    "# 将ID转换回Tokens\n",
    "id_to_tokens = tokenizer.convert_ids_to_tokens(ids)\n",
    "print(\"IDs to Tokens:\", id_to_tokens[:20])"
   ]
  },
  {
   "cell_type": "markdown",
   "metadata": {},
   "source": [
    "#### <b>2.1.3 划分数据集</b>"
   ]
  },
  {
   "cell_type": "markdown",
   "metadata": {},
   "source": [
    "使用其他分词工具，如GPT、BERT等分词。"
   ]
  },
  {
   "cell_type": "code",
   "execution_count": 21,
   "metadata": {},
   "outputs": [],
   "source": [
    "# 读取语料库\n",
    "with open('./data/people.cn/news.txt', 'r', encoding='utf-8') as f:\n",
    "    corpus = f.read()"
   ]
  },
  {
   "cell_type": "code",
   "execution_count": 22,
   "metadata": {},
   "outputs": [
    {
     "name": "stdout",
     "output_type": "stream",
     "text": [
      "词典大小为： 21128\n",
      "CPU times: total: 22.5 s\n",
      "Wall time: 33.5 s\n"
     ]
    }
   ],
   "source": [
    "%%time\n",
    "from transformers import BertTokenizer\n",
    "\n",
    "# 加载 BERT 中文词典\n",
    "bert_tokenizer = BertTokenizer.from_pretrained(\"./BERT中文词典\")\n",
    "# 获取词典的大小（词典中包含的词的数量）\n",
    "vocab_size = len(bert_tokenizer)\n",
    "# 对整个语料库分词\n",
    "bert_tokens = bert_tokenizer.tokenize(corpus)\n",
    "# Token 转 ID\n",
    "data = bert_tokenizer.convert_tokens_to_ids(bert_tokens)\n",
    "print('词典大小为：', vocab_size)"
   ]
  },
  {
   "cell_type": "markdown",
   "metadata": {},
   "source": [
    "<b>准备数据集：将整个文本数据集 -> token ids数据集</b>"
   ]
  },
  {
   "cell_type": "code",
   "execution_count": 23,
   "metadata": {
    "collapsed": true,
    "jupyter": {
     "outputs_hidden": true
    }
   },
   "outputs": [
    {
     "name": "stdout",
     "output_type": "stream",
     "text": [
      "Token IDs:\n",
      " tensor([3173, 1290, 4852, 1266,  776, 8110, 3299, 8176, 3189, 4510])\n",
      "IDs解码回文本:\n",
      " ['新', '华', '社', '北', '京', '12', '月', '31', '日', '电']\n"
     ]
    }
   ],
   "source": [
    "import torch\n",
    "# Token 转 ID\n",
    "data = bert_tokenizer.convert_tokens_to_ids(bert_tokens)\n",
    "data = torch.tensor(data, dtype = torch.long)  # 数据集转换为 Pytorch 张量\n",
    "print(\"Token IDs:\\n\", data[:10])\n",
    "\n",
    "# ID # 解码回文本\n",
    "tokens_decoded = bert_tokenizer.convert_ids_to_tokens(data[:10].tolist())\n",
    "print(\"IDs解码回文本:\\n\", tokens_decoded[:10])\n"
   ]
  },
  {
   "cell_type": "code",
   "execution_count": 24,
   "metadata": {
    "collapsed": true,
    "id": "f_WIXqxz0lU5",
    "jupyter": {
     "outputs_hidden": true
    }
   },
   "outputs": [
    {
     "name": "stdout",
     "output_type": "stream",
     "text": [
      "训练集字符总数：4744016\n",
      "CPU times: total: 0 ns\n",
      "Wall time: 0 ns\n"
     ]
    }
   ],
   "source": [
    "%%time\n",
    "# 将数据集分为训练集和验证集两部分。训练集占比90%，验证集占比10%\n",
    "n_train = int(0.9*len(data)) #  计算训练集样本数\n",
    "print(f'训练集字符总数：{n_train}')\n",
    "train_data = data[:n_train]  # 之前的给训练集\n",
    "val_data = data[n_train:]"
   ]
  },
  {
   "cell_type": "code",
   "execution_count": 25,
   "metadata": {
    "colab": {
     "base_uri": "https://localhost:8080/"
    },
    "id": "TD5Bj8Y6IAD4",
    "outputId": "bf23c586-1d33-4af1-b63d-ce6f90b0a528"
   },
   "outputs": [
    {
     "data": {
      "text/plain": [
       "tensor([3173, 1290, 4852, 1266,  776, 8110, 3299, 8176, 3189])"
      ]
     },
     "execution_count": 25,
     "metadata": {},
     "output_type": "execute_result"
    }
   ],
   "source": [
    "# 段落文本最长值\n",
    "block_size = 8\n",
    "# 观察段落\n",
    "train_data[:block_size+1]"
   ]
  },
  {
   "cell_type": "markdown",
   "metadata": {},
   "source": [
    "从训练数据中截取一个文本块做为样本特征，文本块后面紧跟的下一个字词做为这个文本块的标签。"
   ]
  },
  {
   "cell_type": "code",
   "execution_count": 26,
   "metadata": {
    "colab": {
     "base_uri": "https://localhost:8080/"
    },
    "id": "9HXDe8vGJCEn",
    "outputId": "588663aa-1de5-4ef7-aba0-4a96fe828353"
   },
   "outputs": [
    {
     "name": "stdout",
     "output_type": "stream",
     "text": [
      "样本 0 特征： tensor([3173])     标签： 1290\n",
      "样本 1 特征： tensor([3173, 1290])     标签： 4852\n",
      "样本 2 特征： tensor([3173, 1290, 4852])     标签： 1266\n",
      "样本 3 特征： tensor([3173, 1290, 4852, 1266])     标签： 776\n",
      "样本 4 特征： tensor([3173, 1290, 4852, 1266,  776])     标签： 8110\n",
      "样本 5 特征： tensor([3173, 1290, 4852, 1266,  776, 8110])     标签： 3299\n",
      "样本 6 特征： tensor([3173, 1290, 4852, 1266,  776, 8110, 3299])     标签： 8176\n",
      "样本 7 特征： tensor([3173, 1290, 4852, 1266,  776, 8110, 3299, 8176])     标签： 3189\n",
      "样本 0 特征： 新     标签： 华\n",
      "样本 1 特征： 新华     标签： 社\n",
      "样本 2 特征： 新华社     标签： 北\n",
      "样本 3 特征： 新华社北     标签： 京\n",
      "样本 4 特征： 新华社北京     标签： 12\n",
      "样本 5 特征： 新华社北京12     标签： 月\n",
      "样本 6 特征： 新华社北京12月     标签： 31\n",
      "样本 7 特征： 新华社北京12月31     标签： 日\n"
     ]
    }
   ],
   "source": [
    "# 看看一个文本块，可以组合出多少个训练样本\n",
    "x = train_data[:block_size]\n",
    "y = train_data[1:block_size+1]\n",
    "# 基于ID的角度观察\n",
    "for t in range(block_size):\n",
    "    context = x[:t+1]\n",
    "    target = y[t]\n",
    "    print(f'样本 {t} 特征： {context}     标签： {target}')\n",
    "# 基于文本的角度观察\n",
    "for t in range(block_size):\n",
    "    context = x[:t+1]\n",
    "    target = y[t]\n",
    "    context_token = bert_tokenizer.convert_ids_to_tokens(context)\n",
    "    target_token = bert_tokenizer.convert_ids_to_tokens([target])\n",
    "    print(f'样本 {t} 特征： {''.join(context_token)}     标签： {''.join(target_token)}')"
   ]
  },
  {
   "cell_type": "markdown",
   "metadata": {},
   "source": [
    "#### <b>2.1.4 随机加载数据</b>"
   ]
  },
  {
   "cell_type": "code",
   "execution_count": 27,
   "metadata": {
    "colab": {
     "base_uri": "https://localhost:8080/"
    },
    "collapsed": true,
    "id": "Q3k1Czf7LuA9",
    "jupyter": {
     "outputs_hidden": true
    },
    "outputId": "4ea8e8a0-443c-49bb-b3bf-ba36e1712999"
   },
   "outputs": [
    {
     "name": "stdout",
     "output_type": "stream",
     "text": [
      "单批次样本特征：\n",
      "torch.Size([4, 8])\n",
      "tensor([[6772, 4960, 1139,  511, 1169, 5276, 3867, 6589],\n",
      "        [4545,  978, 2434,  510, 4495, 4289, 1093,  689],\n",
      "        [ 511, 1762, 1649, 1069, 8024, 4125, 4150,  837],\n",
      "        [3341, 8024,  704, 1744, 1066,  772, 1054, 2828]])\n",
      "===============================================================\n",
      "单批次样本标签：\n",
      "torch.Size([4, 8])\n",
      "tensor([[4960, 1139,  511, 1169, 5276, 3867, 6589, 2612],\n",
      "        [ 978, 2434,  510, 4495, 4289, 1093,  689,  510],\n",
      "        [1762, 1649, 1069, 8024, 4125, 4150,  837, 6853],\n",
      "        [8024,  704, 1744, 1066,  772, 1054, 2828, 1121]])\n",
      "样本特征： [6772] 标签: 4960\n",
      "样本特征： [6772, 4960] 标签: 1139\n",
      "样本特征： [6772, 4960, 1139] 标签: 511\n",
      "样本特征： [6772, 4960, 1139, 511] 标签: 1169\n",
      "样本特征： [6772, 4960, 1139, 511, 1169] 标签: 5276\n",
      "样本特征： [6772, 4960, 1139, 511, 1169, 5276] 标签: 3867\n",
      "样本特征： [6772, 4960, 1139, 511, 1169, 5276, 3867] 标签: 6589\n",
      "样本特征： [6772, 4960, 1139, 511, 1169, 5276, 3867, 6589] 标签: 2612\n",
      "样本特征： [4545] 标签: 978\n",
      "样本特征： [4545, 978] 标签: 2434\n",
      "样本特征： [4545, 978, 2434] 标签: 510\n",
      "样本特征： [4545, 978, 2434, 510] 标签: 4495\n",
      "样本特征： [4545, 978, 2434, 510, 4495] 标签: 4289\n",
      "样本特征： [4545, 978, 2434, 510, 4495, 4289] 标签: 1093\n",
      "样本特征： [4545, 978, 2434, 510, 4495, 4289, 1093] 标签: 689\n",
      "样本特征： [4545, 978, 2434, 510, 4495, 4289, 1093, 689] 标签: 510\n",
      "样本特征： [511] 标签: 1762\n",
      "样本特征： [511, 1762] 标签: 1649\n",
      "样本特征： [511, 1762, 1649] 标签: 1069\n",
      "样本特征： [511, 1762, 1649, 1069] 标签: 8024\n",
      "样本特征： [511, 1762, 1649, 1069, 8024] 标签: 4125\n",
      "样本特征： [511, 1762, 1649, 1069, 8024, 4125] 标签: 4150\n",
      "样本特征： [511, 1762, 1649, 1069, 8024, 4125, 4150] 标签: 837\n",
      "样本特征： [511, 1762, 1649, 1069, 8024, 4125, 4150, 837] 标签: 6853\n",
      "样本特征： [3341] 标签: 8024\n",
      "样本特征： [3341, 8024] 标签: 704\n",
      "样本特征： [3341, 8024, 704] 标签: 1744\n",
      "样本特征： [3341, 8024, 704, 1744] 标签: 1066\n",
      "样本特征： [3341, 8024, 704, 1744, 1066] 标签: 772\n",
      "样本特征： [3341, 8024, 704, 1744, 1066, 772] 标签: 1054\n",
      "样本特征： [3341, 8024, 704, 1744, 1066, 772, 1054] 标签: 2828\n",
      "样本特征： [3341, 8024, 704, 1744, 1066, 772, 1054, 2828] 标签: 1121\n",
      "样本 0 特征： 较     标签： 突\n",
      "样本 1 特征： 较突     标签： 出\n",
      "样本 2 特征： 较突出     标签： 。\n",
      "样本 3 特征： 较突出。     标签： 制\n",
      "样本 4 特征： 较突出。制     标签： 约\n",
      "样本 5 特征： 较突出。制约     标签： 消\n",
      "样本 6 特征： 较突出。制约消     标签： 费\n",
      "样本 7 特征： 较突出。制约消费     标签： 恢\n",
      "样本 0 特征： 疗     标签： 健\n",
      "样本 1 特征： 疗健     标签： 康\n",
      "样本 2 特征： 疗健康     标签： 、\n",
      "样本 3 特征： 疗健康、     标签： 生\n",
      "样本 4 特征： 疗健康、生     标签： 物\n",
      "样本 5 特征： 疗健康、生物     标签： 农\n",
      "样本 6 特征： 疗健康、生物农     标签： 业\n",
      "样本 7 特征： 疗健康、生物农业     标签： 、\n",
      "样本 0 特征： 。     标签： 在\n",
      "样本 1 特征： 。在     标签： 嘉\n",
      "样本 2 特征： 。在嘉     标签： 兴\n",
      "样本 3 特征： 。在嘉兴     标签： ，\n",
      "样本 4 特征： 。在嘉兴，     标签： 火\n",
      "样本 5 特征： 。在嘉兴，火     标签： 炬\n",
      "样本 6 特征： 。在嘉兴，火炬     标签： 传\n",
      "样本 7 特征： 。在嘉兴，火炬传     标签： 递\n",
      "样本 0 特征： 来     标签： ，\n",
      "样本 1 特征： 来，     标签： 中\n",
      "样本 2 特征： 来，中     标签： 国\n",
      "样本 3 特征： 来，中国     标签： 共\n",
      "样本 4 特征： 来，中国共     标签： 产\n",
      "样本 5 特征： 来，中国共产     标签： 党\n",
      "样本 6 特征： 来，中国共产党     标签： 把\n",
      "样本 7 特征： 来，中国共产党把     标签： 减\n"
     ]
    }
   ],
   "source": [
    "random_seed = 2025 # 随机数种子\n",
    "torch.manual_seed(random_seed)\n",
    "batch_size = 4 # 批处理样本数\n",
    "block_size = 8 # 最大序列长度\n",
    "\n",
    "# 从数据集中随机抽取一批样本, 返回文本块和标签\n",
    "def get_batch(dataset, batch_size=4, block_size=16, device='cpu'):\n",
    "    # 根据随机样本的抽取范围和批次大小随机抽取，返回每个文本块的起始索引\n",
    "    ix = torch.randint(len(dataset) - block_size, (batch_size,))\n",
    "    # 把本批次的文本块堆叠在一起，形成文本矩阵\n",
    "    x = torch.stack([dataset[i:i + block_size] for i in ix], dim=0)  # 按行堆叠\n",
    "    # 标签堆叠在一起，形成标签矩阵\n",
    "    y = torch.stack([dataset[i + 1:i + block_size + 1] for i in ix], dim=0)\n",
    "    x, y = x.to(device), y.to(device)\n",
    "    return x, y\n",
    "\n",
    "batchX, batchY = get_batch(train_data, batch_size = 4, block_size = 8, device='cpu')\n",
    "print(f'单批次样本特征：\\n{batchX.shape}\\n{batchX}')\n",
    "print('===============================================================')\n",
    "print(f'单批次样本标签：\\n{batchY.shape}\\n{batchY}')\n",
    "# 遍历批次样本\n",
    "for i in range(batch_size): # 样本维度，第 i 个样本\n",
    "    for t in range(block_size): # 序列长度维度，t表示token顺序\n",
    "        context = batchX[i, :t+1]\n",
    "        target = batchY[i, t]\n",
    "        print(f'样本特征： {context.tolist()} 标签: {target}')\n",
    "# 基于文本的角度观察\n",
    "for i in range(batch_size): # 样本维度，第 i 个样本\n",
    "    for t in range(block_size):\n",
    "        context = batchX[i, :t+1]\n",
    "        target = batchY[i, t]\n",
    "        context_token = bert_tokenizer.convert_ids_to_tokens(context)\n",
    "        target_token = bert_tokenizer.convert_ids_to_tokens([target])\n",
    "        print(f'样本 {t} 特征： {''.join(context_token)}     标签： {''.join(target_token)}')"
   ]
  },
  {
   "cell_type": "code",
   "execution_count": 28,
   "metadata": {
    "colab": {
     "base_uri": "https://localhost:8080/"
    },
    "id": "qpyyAeIzQjlO",
    "outputId": "a650f8dc-da81-400b-bc59-0a595487fdb9"
   },
   "outputs": [
    {
     "name": "stdout",
     "output_type": "stream",
     "text": [
      "tensor([[6772, 4960, 1139,  511, 1169, 5276, 3867, 6589],\n",
      "        [4545,  978, 2434,  510, 4495, 4289, 1093,  689],\n",
      "        [ 511, 1762, 1649, 1069, 8024, 4125, 4150,  837],\n",
      "        [3341, 8024,  704, 1744, 1066,  772, 1054, 2828]])\n",
      "tensor([[4960, 1139,  511, 1169, 5276, 3867, 6589, 2612],\n",
      "        [ 978, 2434,  510, 4495, 4289, 1093,  689,  510],\n",
      "        [1762, 1649, 1069, 8024, 4125, 4150,  837, 6853],\n",
      "        [8024,  704, 1744, 1066,  772, 1054, 2828, 1121]])\n"
     ]
    }
   ],
   "source": [
    "print(batchX) # 这是我们要送给模型的数据结构\n",
    "print(batchY)"
   ]
  },
  {
   "cell_type": "markdown",
   "metadata": {},
   "source": [
    "### <font color=\"red\">加载数据集</font>"
   ]
  },
  {
   "cell_type": "code",
   "execution_count": 29,
   "metadata": {
    "collapsed": true,
    "jupyter": {
     "outputs_hidden": true
    }
   },
   "outputs": [
    {
     "name": "stdout",
     "output_type": "stream",
     "text": [
      "批次 1:\n",
      "输入序列： tensor([[ 671, 2399,    0,    0,    0,    0,    0,    0],\n",
      "        [1962, 4638, 3302,    0,    0,    0,    0,    0],\n",
      "        [7566, 1818, 4638,  924, 7397,  510, 2190, 1765],\n",
      "        [3198, 3309,  511, 1059,    0,    0,    0,    0]])\n",
      "标签： tensor([8024, 1218, 3175, 1054])\n",
      "\n",
      "批次 2:\n",
      "输入序列： tensor([[7357, 1300, 4706,  704, 8024,    0,    0,    0],\n",
      "        [4757, 4688, 6444, 6237, 1168,  721, 1218, 2193],\n",
      "        [ 758, 2399, 6121, 1220, 3175,    0,    0,    0],\n",
      "        [2769, 3918, 2697, 5783, 2401,    0,    0,    0]])\n",
      "标签： tensor([4384, 3952, 3428,  511])\n",
      "\n",
      "批次 3:\n",
      "输入序列： tensor([[1912, 6598, 6847, 1232, 1872,    0,    0,    0],\n",
      "        [1147,    0,    0,    0,    0,    0,    0,    0],\n",
      "        [8024, 2501,    0,    0,    0,    0,    0,    0],\n",
      "        [ 772,  689, 1394,    0,    0,    0,    0,    0]])\n",
      "标签： tensor([7270, 2617, 2768,  868])\n",
      "\n",
      "批次 4:\n",
      "输入序列： tensor([[6206, 3724, 8024,    0,    0,    0,    0,    0],\n",
      "        [6581,  833,  510,    0,    0,    0,    0,    0],\n",
      "        [5018,  676, 2399, 1762,    0,    0,    0,    0],\n",
      "        [3300,  749, 5632, 2346, 4638, 6639, 4413, 1767]])\n",
      "标签： tensor([2828, 2458, 4495, 8024])\n",
      "\n",
      "批次 5:\n",
      "输入序列： tensor([[2339,  868, 5287, 1057,    0,    0,    0,    0],\n",
      "        [1068, 3175, 7481, 8024, 1217, 1920,    0,    0],\n",
      "        [7032,    0,    0,    0,    0,    0,    0,    0],\n",
      "        [ 758, 1282, 7027, 8024,  680, 7392, 1880, 4638]])\n",
      "标签： tensor([3777, 1291, 1970, 7987])\n",
      "\n"
     ]
    }
   ],
   "source": [
    "from torch.utils.data import Dataset\n",
    "\n",
    "# 重新定义 TextDataset 类\n",
    "class TextDataset(Dataset):\n",
    "    def __init__(self, input_ids, labels):\n",
    "        self.input_ids = input_ids\n",
    "        self.labels = labels\n",
    "\n",
    "    def __len__(self):\n",
    "        return len(self.input_ids)\n",
    "\n",
    "    def __getitem__(self, idx):\n",
    "        return self.input_ids[idx], self.labels[idx]\n",
    "\n",
    "# 加载保存的 Dataset 数据集\n",
    "loaded_dataset = torch.load('data/text_dataset.pt', weights_only=False)\n",
    "\n",
    "# 使用 DataLoader 进行批量加载\n",
    "from torch.utils.data import DataLoader\n",
    "\n",
    "dataloader = DataLoader(loaded_dataset, batch_size=4, shuffle=True)\n",
    "\n",
    "# 测试加载的 DataLoader\n",
    "for batch_idx, (batchX, batchY) in enumerate(dataloader):\n",
    "    print(f\"批次 {batch_idx + 1}:\")\n",
    "    print(\"输入序列：\", batchX)\n",
    "    print(\"标签：\", batchY)\n",
    "    print()\n",
    "    if batch_idx + 1 >= 5:\n",
    "        break"
   ]
  },
  {
   "cell_type": "markdown",
   "metadata": {},
   "source": [
    "### <font color=\"red\"><b>定义模型</b></font>\n",
    "- 参照Transformer论文给出的结构分步定义。\n",
    "- 从解码器输入层的词向量编码入手\n",
    "- 到解码器输出层的文本生成结束。"
   ]
  },
  {
   "cell_type": "markdown",
   "metadata": {},
   "source": [
    "<div align = \"center\"><img width = \"325\" height = \"500\" src = \"./images/gpt_structure.jpg\" /></div>"
   ]
  },
  {
   "cell_type": "markdown",
   "metadata": {},
   "source": [
    "#### <font color=\"red\"><b>2.1.5 GPT输入与输出</b></font>\n",
    "- 定义类GPT，先搭个框架，只包含一个输入层，一个线性输出层。\n"
   ]
  },
  {
   "cell_type": "code",
   "execution_count": 30,
   "metadata": {},
   "outputs": [],
   "source": [
    "import torch\n",
    "import torch.nn as nn\n",
    "from torch.nn import functional as F\n",
    "\n",
    "class GPT(nn.Module):\n",
    "\n",
    "    def __init__(self, vocab_size: int, d_model: int):\n",
    "        super().__init__()\n",
    "        self.embedding = nn.Embedding(vocab_size, d_model) # 定义输入层\n",
    "        self.output = nn.Linear(d_model, vocab_size, bias=False)  # 定义输出层\n",
    "        # 输出层与词嵌入层共享参数，这和 LLama、通义千问等开源模型类似\n",
    "        # self.embedding.weight = self.output.weight \n",
    "        \n",
    "    def forward(self, idx):\n",
    "        # (batch, seq_len) --> (batch, seq_len, d_model)\n",
    "        idx = idx.long()  # 将索引转换为 LongTensor\n",
    "        idx = self.embedding(idx)\n",
    "        # (batch, seq_len, d_model) --> (batch, seq_len, vocab_size)\n",
    "        logits = self.output(idx)      \n",
    "        return logits\n",
    "\n",
    "    # 模型自回归持续推理，生成长度为 max_new_tokens 的文本块\n",
    "    def generate(self, idx, max_new_tokens):\n",
    "        # idx 的维度为： (batch, seq_len) ，表示已知的token id 序列\n",
    "        # max_new_tokens表示新生成的文本的最大长度\n",
    "        for _ in range(max_new_tokens):\n",
    "            # 模型正向传播\n",
    "            logits = self(idx)  \n",
    "            # 选择每个批次中序列的最后一个时间步\n",
    "            logits = logits[:, -1, :] # (batch, seq_len, vocab_size)->(batch, vocab_size)\n",
    "            # 沿着最后一维进行 softmax 归一化，将原始得分转换为概率分布\n",
    "            probs = F.softmax(logits, dim=-1) # (batch, vocab_size)\n",
    "            # 根据概率分布probs采样下一个字词的索引\n",
    "            idx_next = torch.multinomial(probs, num_samples=1) # (batch, 1)\n",
    "            # 追加到已有的字词序列中，将两个张量沿着指定的维度连接起来\n",
    "            idx = torch.cat((idx, idx_next), dim=1) # (batch, seq_len+1)\n",
    "        return idx"
   ]
  },
  {
   "cell_type": "code",
   "execution_count": 31,
   "metadata": {},
   "outputs": [
    {
     "name": "stdout",
     "output_type": "stream",
     "text": [
      "torch.Size([4, 8, 21128])\n",
      "生成长度为100字的短文：\n",
      "[0, 8105, 2815, 13985, 3311, 15458, 3245, 5964, 19362, 16657, 6737, 1259, 6305, 5829, 2990, 11872, 11458, 19821, 4501, 6649, 19755, 2180, 6374, 173, 10462, 12088, 15130, 19384, 5775, 16186, 20738, 15333, 930, 2954, 5705, 21017, 15703, 1776, 9718, 42, 5755, 15189, 4350, 9485, 8471, 871, 3833, 10127, 1864, 4395, 17460, 10335, 18602, 13328, 16208, 6266, 18247, 9749, 1284, 17809, 17400, 18507, 1141, 12975, 11393, 17637, 15039, 1478, 2343, 18749, 13217, 16470, 10414, 5277, 874, 8969, 18264, 763, 7927, 6509, 18241, 14081, 19604, 10266, 28, 3296, 16210, 20109, 19157, 2935, 15692, 540, 20097, 12673, 7877, 9081, 9334, 13133, 4297, 1243, 5437]\n",
      "[PAD]😎扮信朧幸晤藉読檸輔包読菖提suelog轰甩跌蹦寧讨£835tiger嫣諷荔敎馮岱俩掃芬鼐悪坏www[unused42]茫宓猾ettoday30佟活pmi墉珉珠asr脅,斃詐絶red卅瞿猪耗函originalsppi痠妩咘巩芋mobile校est级佣style綴些麗貝絨儆賤jason[unused28]替斋鈺蟲捐悌お釵364鷹139nasa432犀務翼\n"
     ]
    }
   ],
   "source": [
    "from transformers import BertTokenizer\n",
    "\n",
    "# 加载 BERT 中文词典\n",
    "bert_tokenizer = BertTokenizer.from_pretrained(\"./BERT中文词典\")\n",
    "\n",
    "# 检测设备\n",
    "device = torch.device('cuda' if torch.cuda.is_available() else 'cpu')\n",
    "vocab_size = 21128\n",
    "d_model = 512\n",
    "gpt = GPT(vocab_size, d_model).to(device) # 实例化模型\n",
    "\n",
    "batchX = batchX.to(device)\n",
    "logits = gpt(batchX)  # 推理 （注意，此时模型还没有被训练！！！）\n",
    "print(logits.shape)\n",
    "# 用这个还没有被训练过的模型写一篇100字的资讯文稿,初始输入是一个[[0]]token\n",
    "idx = torch.zeros((1, 1), dtype=torch.long).to(device)\n",
    "generate_text_ids = gpt.generate(idx, max_new_tokens=100)[0].tolist()\n",
    "generate_text = bert_tokenizer.decode(generate_text_ids).replace(\" \", \"\")\n",
    "print(\"生成长度为100字的短文：\")\n",
    "print(generate_text_ids)\n",
    "print(generate_text)"
   ]
  },
  {
   "cell_type": "code",
   "execution_count": 32,
   "metadata": {},
   "outputs": [
    {
     "name": "stdout",
     "output_type": "stream",
     "text": [
      "----------------------------------------------------------------\n",
      "        Layer (type)               Output Shape         Param #\n",
      "================================================================\n",
      "         Embedding-1              [-1, 64, 512]      10,817,536\n",
      "            Linear-2            [-1, 64, 21128]      10,817,536\n",
      "================================================================\n",
      "Total params: 21,635,072\n",
      "Trainable params: 21,635,072\n",
      "Non-trainable params: 0\n",
      "----------------------------------------------------------------\n",
      "Input size (MB): 0.00\n",
      "Forward/backward pass size (MB): 10.57\n",
      "Params size (MB): 82.53\n",
      "Estimated Total Size (MB): 93.10\n",
      "----------------------------------------------------------------\n"
     ]
    }
   ],
   "source": [
    "from torchsummary import summary # pip install torchsummary\n",
    "summary(gpt, (64,))   # 输入形状应该是 (seq_len, ),即文本的最大长度"
   ]
  },
  {
   "cell_type": "code",
   "execution_count": 33,
   "metadata": {},
   "outputs": [
    {
     "name": "stdout",
     "output_type": "stream",
     "text": [
      "参数名称: embedding.weight, 参数维度: torch.Size([21128, 512])\n",
      "参数名称: output.weight, 参数维度: torch.Size([21128, 512])\n",
      "模型参数总量: 21635072\n"
     ]
    }
   ],
   "source": [
    "# 打印所有可训练参数\n",
    "for name, param in gpt.named_parameters():\n",
    "    if param.requires_grad:\n",
    "        print(f\"参数名称: {name}, 参数维度: {param.shape}\")\n",
    "# 所有参数的总数\n",
    "total_params = sum(p.numel() for p in gpt.parameters())\n",
    "print(f\"模型参数总量: {total_params}\")"
   ]
  },
  {
   "cell_type": "code",
   "execution_count": 34,
   "metadata": {
    "id": "eTyJ8qAaDdiF"
   },
   "outputs": [],
   "source": [
    "# 优化算法\n",
    "optimizer = torch.optim.AdamW(gpt.parameters(), lr=1e-3)"
   ]
  },
  {
   "cell_type": "code",
   "execution_count": 35,
   "metadata": {
    "colab": {
     "base_uri": "https://localhost:8080/"
    },
    "id": "Hs4kI8YdEkQj",
    "outputId": "42ded55c-2983-4d91-c528-675b2edfa849"
   },
   "outputs": [
    {
     "name": "stdout",
     "output_type": "stream",
     "text": [
      "损失值： 8.147138595581055\n",
      "生成长度为100字的短文：\n",
      "[0, 18259, 514, 7834, 14000, 7306, 11822, 7255, 11911, 16053, 6185, 6416, 16017, 11202, 10162, 4950, 14487, 14641, 16631, 17473, 17014, 5533, 20504, 12140, 11380, 3477, 20070, 12370, 19748, 14862, 5283, 9286, 19853, 14306, 20497, 8621, 10125, 11029, 12642, 3380, 11493, 4963, 9347, 11137, 9763, 9514, 15948, 10742, 16412, 15293, 5645, 16639, 7626, 3879, 6755, 1326, 19857, 13610, 9732, 18632, 19645, 16595, 13869, 3414, 17452, 9743, 1035, 6737, 17254, 4990, 11150, 20484, 15179, 11932, 119, 12564, 10459, 11737, 18588, 8609, 2764, 17789, 14691, 17571, 20267, 19062, 7354, 12890, 1540, 17122, 15420, 16568, 2690, 20897, 6595, 14511, 18749, 16514, 12902, 12029, 1180]\n",
      "[PAD]綫〇鲤個闪っています镍moneydj揣複诠掐du▲topapr穗吹喀樽琇湊胫霆nana2gb棟醣advanced蹋垦纯hot辩勤雷maxjust866yy柒780窈ainionschegov拳costco枇屉與機餘涠轟厉辯△image腎贸槃们栩珉74儼輔然竖edit雙孿867.lovestationious胥no戌瞇嗦画铰虻际day4唔潼帑業愉鲷赁呱芋梦cdmaいを剉\n",
      "CPU times: total: 641 ms\n",
      "Wall time: 743 ms\n"
     ]
    }
   ],
   "source": [
    "%%time\n",
    "for steps in range(100): # 增加迭代步数效果可能会更好\n",
    "\n",
    "    # 随机抽取一个批次样本\n",
    "    batchX, batchY = get_batch(train_data, batch_size = 4, block_size = 16, device = device)\n",
    "\n",
    "    batchX, batchY = batchX.to(device), batchY.to(device)\n",
    "    logits = gpt(batchX)\n",
    "    batch, seq_len, d_model = logits.shape\n",
    "    logits = logits.view(batch*seq_len, d_model)\n",
    "    batchY = batchY.view(batch*seq_len)\n",
    "    \n",
    "    loss = F.cross_entropy(logits, batchY)\n",
    "    optimizer.zero_grad(set_to_none=True) # 累积梯度清零\n",
    "    loss.backward()  # 反向传播计算梯度\n",
    "    optimizer.step()  # 优化算法更新参数\n",
    "print('损失值：',loss.item())\n",
    "# 用这个带优化算法并训练过100步的模型写一篇100字的资讯文稿,初始输入是一个[[0]]token\n",
    "idx = torch.zeros((1, 1), dtype=torch.long).to(device)\n",
    "generate_text_ids = gpt.generate(idx, max_new_tokens=100)[0].tolist()\n",
    "generate_text = bert_tokenizer.decode(generate_text_ids).replace(\" \", \"\")\n",
    "print(\"生成长度为100字的短文：\")\n",
    "print(generate_text_ids)\n",
    "print(generate_text)"
   ]
  },
  {
   "cell_type": "code",
   "execution_count": 36,
   "metadata": {
    "colab": {
     "base_uri": "https://localhost:8080/"
    },
    "id": "EcVIDWAZEtjN",
    "outputId": "0ad6f9d2-ad58-4498-a5f8-6f31407bb18b"
   },
   "outputs": [
    {
     "name": "stdout",
     "output_type": "stream",
     "text": [
      "[PAD]茜俎跨獸悩耋矿達蚊ding厅棋tablecontinue赫30gさ吞穴雑dit辇竇稿233妥戲疆幔舺▶顶摸咏嗷礼犄nvidia脯锋103隕雛匮奸繕kic彙ر⑤雄也钿興繪熄焘拚燧into綱16g膘energy盖摧tokyolines僕離玥ц嘶鸡倦嗲le垩余物よって搏赘酰祐始331群農退堆嬢ping竞lon瑟bay瓤屬厚\n"
     ]
    }
   ],
   "source": [
    "idx = torch.zeros((1, 1), dtype=torch.long).to(device)\n",
    "generate_text_ids = gpt.generate(idx, max_new_tokens=100)[0].tolist()\n",
    "generate_text = bert_tokenizer.decode(generate_text_ids).replace(\" \", \"\")\n",
    "print(generate_text)"
   ]
  },
  {
   "cell_type": "markdown",
   "metadata": {},
   "source": [
    "#### <font color=\"red\"><b>2.1.6 增加位置编码层</b></font>\n",
    "- 类似于第一章Transformer中的正余弦绝对位置编码，这里将GPT的位置编码层定义为正余弦绝对位置编码。现在更多大模型采用相对位置编码。\n",
    "- 修改GPT类，添加位置编码层。"
   ]
  },
  {
   "cell_type": "markdown",
   "metadata": {},
   "source": [
    "$$\n",
    "PE(pos, 2i) = \\sin\\left(\\frac{\\text{pos}}{10000^{\\frac{2i}{d_{\\text{model}}}}}\\right)\n",
    "$$\n",
    "$$\n",
    "PE(pos, 2i+1) = \\cos\\left(\\frac{\\text{pos}}{10000^{\\frac{2i}{d_{\\text{model}}}}}\\right)\n",
    "$$"
   ]
  },
  {
   "cell_type": "markdown",
   "metadata": {},
   "source": [
    "#### 修改GPT类，增加位置编码层："
   ]
  },
  {
   "cell_type": "code",
   "execution_count": 38,
   "metadata": {},
   "outputs": [],
   "source": [
    "# 位置编码\n",
    "class PositionEncoding(nn.Module):\n",
    "\n",
    "    def __init__(self, max_len: int = 1024, d_model: int = 512):\n",
    "        super().__init__()\n",
    "\n",
    "        # 初始化一个零矩阵 pe，形状为 (seq_len, d_model)，用于存储位置编码\n",
    "        pe = torch.zeros(max_len, d_model)\n",
    "\n",
    "        # 生成从 0 到 max_len-1 的整数序列，表示位置索引。将其变为列向量，形状为 (max_lenn, 1)     \n",
    "        position = torch.arange(start=0, end=max_len, step=1).float().unsqueeze(1)\n",
    "\n",
    "        ## 位置编码计算公式：\n",
    "        ## PE(pos, 2i)   = sin(pos / 10000^(2i/d_model))\n",
    "        ## PE(pos, 2i+1) = cos(pos / 10000^(2i/d_model))\n",
    "\n",
    "        embedding_index = torch.arange(start=0, end=d_model, step=2).float()\n",
    "\n",
    "        ## 计算频率缩放因子\n",
    "        div_term = 1 / torch.tensor(10000.0) ** (embedding_index / d_model)\n",
    "\n",
    "        # 应用正弦和余弦函数计算位置编码\n",
    "        pe[:, 0::2] = torch.sin(position * div_term)  \n",
    "        pe[:, 1::2] = torch.cos(position * div_term) \n",
    "        pe = pe.unsqueeze(0)  # 在第0维添加一个维度，变成 (1, max_len, d_model)\n",
    "\n",
    "        ## 注册位置编码矩阵\n",
    "        self.register_buffer('pe', pe)\n",
    "\n",
    "        # 词向量叠加位置编码向量\n",
    "\n",
    "    def forward(self, word_embeddings):\n",
    "        return word_embeddings + self.pe[:, :word_embeddings.size(1), :]"
   ]
  },
  {
   "cell_type": "code",
   "execution_count": 39,
   "metadata": {},
   "outputs": [],
   "source": [
    "import torch\n",
    "import torch.nn as nn\n",
    "from torch.nn import functional as F\n",
    "\n",
    "class GPT(nn.Module):\n",
    "\n",
    "    def __init__(self, vocab_size: int, d_model: int):\n",
    "        super().__init__()\n",
    "        self.embedding = nn.Embedding(vocab_size, d_model) # 定义输入层\n",
    "        self.position = PositionEncoding(d_model = d_model)  # 定义位置编码层\n",
    "        self.output = nn.Linear(d_model, vocab_size)  # 定义输出层\n",
    "        # 输出层与词嵌入层共享参数，这和 LLama、通义千问等开源模型类似\n",
    "        # self.embedding.weight = self.output.weight \n",
    "        \n",
    "        \n",
    "    def forward(self, idx):\n",
    "        # (batch, seq_len) --> (batch, seq_len, d_model)\n",
    "        idx = idx.long()  # 将索引转换为 LongTensor\n",
    "        idx = self.embedding(idx)\n",
    "        idx = self.position(idx)\n",
    "        logits = self.output(idx)\n",
    "       \n",
    "        return logits\n",
    "\n",
    "    # 模型自回归持续推理，生成长度为 max_new_tokens 的文本块\n",
    "    def generate(self, idx, max_new_tokens):\n",
    "        # idx 的维度为： (batch, seq_len)\n",
    "        # max_new_tokens表示新生成的文本的最大长度\n",
    "        for _ in range(max_new_tokens):\n",
    "            # 模型正向传播\n",
    "            logits = self(idx)  \n",
    "            # 选择每个批次中序列的最后一个时间步\n",
    "            logits = logits[:, -1, :] # (batch, seq_len, d_model)->(batch,  d_model)\n",
    "            # 沿着最后一维进行 softmax 归一化，将原始得分转换为概率分布\n",
    "            probs = F.softmax(logits, dim=-1) # (batch, d_model)\n",
    "            # 根据概率分布 probs 采样下一个字词的索引\n",
    "            idx_next = torch.multinomial(probs, num_samples=1) # (batch, 1)\n",
    "            # 追加到已有的字词序列中，将两个张量沿着指定的维度（第二个维度，时间步维度）连接起来\n",
    "            idx = torch.cat((idx, idx_next), dim=1) # (batch, seq_len+1)\n",
    "        return idx"
   ]
  },
  {
   "cell_type": "markdown",
   "metadata": {},
   "source": [
    "##### 测试："
   ]
  },
  {
   "cell_type": "code",
   "execution_count": 40,
   "metadata": {},
   "outputs": [
    {
     "name": "stdout",
     "output_type": "stream",
     "text": [
      "生成长度为100字的短文：\n",
      "[0, 13522, 6542, 16246, 14375, 8618, 11199, 5604, 11303, 13425, 20096, 3089, 16767, 422, 20005, 274, 2349, 17999, 17987, 17039, 18323, 12292, 13344, 7857, 10863, 272, 13289, 2494, 18129, 1171, 14177, 19326, 10, 12353, 15943, 7924, 1533, 17229, 6169, 5616, 12621, 14659, 9151, 644, 18281, 19322, 3738, 17040, 20993, 17029, 21107, 6537, 1931, 16152, 3035, 20147, 6537, 20664, 3988, 302, 17458, 8936, 4447, 782, 310, 18085, 11110, 7436, 19103, 852, 17058, 6911, 19450, 15786, 777, 8315, 1535, 2353, 11513, 18817, 17076, 2, 15595, 12172, 15839, 7131, 2519, 13293, 15505, 9859, 9988, 15267, 13709, 2672, 8904, 17026, 13048, 3767, 6498, 21110, 13258]\n",
      "[PAD]ⅳ 賞日卷のてties 膚 moь釧 擠氨 ⒊郑 ي 巴稽稞溧纍 009{ 鴉 paper ه kl 彎篩 券凍詛 [unused10]cms括 麋 唄烦 裘 膾walk喧 japan ・締詆 污溪麺溅･ 賈 夹擱 摔錚 賈飞 溶 ᄑ珙ent 瑜 人 ᅨ筐o2 雰蜆 但滕 遽访憎 亭al 唇 巾 insee茲滸 [unused2]徠 5k戰 鏽 征 california廟 しく800尕ㄋ 惧02湿 some 沢 豪ｲgion\n"
     ]
    }
   ],
   "source": [
    "d_model = 512\n",
    "max_len = 8\n",
    "gpt = GPT(vocab_size, d_model).to(device) # 实例化模型\n",
    "logits = gpt(batchX)  # 推理\n",
    "\n",
    "# 用这个还没有被训练过的模型写一篇100字的资讯文稿,初始输入是一个[[0]]token\n",
    "idx = torch.zeros((1, 1), dtype=torch.long).to(device)\n",
    "generate_text_ids = gpt.generate(idx, max_new_tokens=100)[0].tolist()\n",
    "generate_text = bert_tokenizer.decode(generate_text_ids)\n",
    "print(\"生成长度为100字的短文：\")\n",
    "print(generate_text_ids)\n",
    "print(generate_text)"
   ]
  },
  {
   "cell_type": "markdown",
   "metadata": {},
   "source": [
    "#### <font color=\"red\"><b>2.1.7 多头自注意力层</b></font>\n",
    "- 多头自注意力（Multi-Head Self-Attention） 的计算逻辑，主要由两个部分组成：\n",
    "- 一个是单个头的注意力计算（Head 类）：包含了对查询（Query）、键（Key）、值（Value）的计算。\n",
    "- 另一个是多头注意力的并行计算（MultiHeadAttention 类）。"
   ]
  },
  {
   "cell_type": "markdown",
   "metadata": {},
   "source": [
    "**注意力机制（Attention Mechanism）** 的核心思想是：在处理一个输入序列时，模型应当根据每个位置的上下文信息来加权地“关注”序列中的其他位置，而不是简单地依赖固定的上下文窗口。<br/>自注意力（Self-Attention）则是让每个输入的位置都可以与其他所有位置进行交互，计算它们之间的关系。\n",
    "\n",
    "#####  **基本的注意力计算公式：**\n",
    "$$\n",
    "\\text{Attention}(Q, K, V) = \\text{softmax}\\left(\\frac{QK^T}{\\sqrt{d_k}}\\right) V\n",
    "$$\n",
    "\n",
    "其中：\n",
    "- \\( Q \\)：查询（Query）矩阵，是输入序列中每个位置的表示，通过线性变换得到。查询决定了我们想要关注哪些位置。<br/>\n",
    "- \\( K \\)：键（Key）矩阵，是输入序列中每个位置的表示，通过线性变换得到。键决定了我们应该关注哪些位置。\n",
    "- \\( V \\)：值（Value）矩阵，是输入序列中每个位置的表示，通过线性变换得到。值包含了最终实际的内容。\n",
    "- \\( d_k \\)：是键（Key）向量的维度，通常与查询（Query）向量的维度相同。它用于缩放点积计算的结果。\n",
    "\n",
    "- **softmax**：将关联度转化为概率，表示查询对每个位置的关注程度。\n",
    "- **加权求和**：根据关注程度对值进行加权，得到最终的包含注意力的输出。"
   ]
  },
  {
   "cell_type": "code",
   "execution_count": 41,
   "metadata": {},
   "outputs": [],
   "source": [
    "# 单头注意力计算\n",
    "class Head(nn.Module):\n",
    "    def __init__(self, d_model, head_size, block_size, dropout):\n",
    "        super().__init__()\n",
    "        self.key = nn.Linear(d_model, head_size, bias=False)\n",
    "        self.query = nn.Linear(d_model, head_size, bias=False)\n",
    "        self.value = nn.Linear(d_model, head_size, bias=False)\n",
    "        self.dropout = nn.Dropout(dropout)\n",
    "\n",
    "    def forward(self, x, padding_mask=None):\n",
    "        batch, seq_len, d_model = x.shape\n",
    "        # 线性变换得到 K 值\n",
    "        K = self.key(x)   # (batch, seq_len, head_size)\n",
    "        # 线性变换得到 Q 值\n",
    "        Q = self.query(x) # (batch, seq_len, head_size)\n",
    "        # 计算注意力得分\n",
    "        # (batch, seq_len, head_size)->(batch, seq_len, seq_len)\n",
    "        wei = Q @ K.transpose(-2,-1) *d_model**-0.5 \n",
    "        \n",
    "        # 因果掩码：保证每个位置只能看到当前和之前的 token\n",
    "        # (batch, seq_len, seq_len)\n",
    "        mask = torch.tril(torch.ones((1, seq_len, seq_len))).to(x.device)\n",
    "        wei = wei.masked_fill( mask == 0, float('-inf'))\n",
    "        # 通过 softmax 函数将注意力得分归一化，使得每个查询的注意力得分变成一个概率分布\n",
    "        \n",
    "        # 填充掩码：防止填充位置参与注意力计算\n",
    "        if padding_mask is not None:\n",
    "            padding_mask = padding_mask.unsqueeze(1).unsqueeze(2)  # (batch, 1, 1, seq_len)\n",
    "            wei = wei.masked_fill(padding_mask == 0, float('-inf'))  # 应用填充掩码\n",
    "        \n",
    "        wei = F.softmax(wei, dim=-1) # (batch, seq_len, seq_len)\n",
    "        wei = self.dropout(wei)\n",
    "\n",
    "        # 线性变换得到 V 值\n",
    "        V = self.value(x) # (batch, seq_len, head_size)\n",
    "        # wei @ v 是对值（Value）的加权求和，得到最终的输出 out，形状为 (batch, seq_len, head_size)\n",
    "        # (batch, seq_len, seq_len) @ (batch, seq_len, head_size) -> (batch, seq_len, head_size)\n",
    "        out = wei @ V  \n",
    "        return out\n",
    "\n",
    "# 多个注意力头并行计算，然后将其结果合并\n",
    "class MultiHeadAttention(nn.Module):\n",
    "\n",
    "    def __init__(self, d_model, num_heads, block_size, dropout):\n",
    "        super().__init__()\n",
    "\n",
    "        # 通过 ModuleList 创建多个 Head 实例，每个头的大小为 head_size，共有 num_heads 个头\n",
    "        # ModuleList 允许将这些子模块（即多个头）一起管理\n",
    "        head_size = d_model // num_heads\n",
    "        self.heads = nn.ModuleList([Head(d_model, head_size, block_size, dropout) for _ in range(num_heads)])\n",
    "       \n",
    "        # 将多个注意力头的输出拼接起来后映射回原始的嵌入空间\n",
    "        self.proj = nn.Linear(num_heads * head_size, num_heads * head_size)\n",
    "        self.dropout = nn.Dropout(dropout)\n",
    "\n",
    "    def forward(self, x):\n",
    "        # 对每个注意力头 h(x) 计算得到的输出进行拼接，拼接的维度是最后一维（dim=-1）。\n",
    "        # 每个头的输出 (batch, seq_len, head_size) \n",
    "        # 会被拼接成一个更大的张量 (batch, seq_len, num_heads * head_size)\n",
    "        out = torch.cat([h(x) for h in self.heads], dim=-1)\n",
    "        out = self.dropout(self.proj(out))\n",
    "        return out"
   ]
  },
  {
   "cell_type": "markdown",
   "metadata": {},
   "source": [
    "#### <font color=\"red\"><b>2.1.8 增加前馈网络层</b></font>\n",
    "- 前馈网络由两层组成：第一层包含 d_model*4 个神经元，第二层包含d_model个神经元。\n",
    "- 第一层带激活函数ReLU，第二层无激活函数。"
   ]
  },
  {
   "cell_type": "code",
   "execution_count": 42,
   "metadata": {},
   "outputs": [],
   "source": [
    "class FeedFoward(nn.Module):\n",
    "    def __init__(self, d_model, dropout):\n",
    "        super().__init__()\n",
    "        self.net = nn.Sequential(\n",
    "            nn.Linear(d_model, 4 * d_model),\n",
    "            nn.GELU(),    # GPT3由ReLU替换为GeLU\n",
    "            nn.Linear(4 * d_model, d_model),\n",
    "            nn.Dropout(dropout),\n",
    "        )\n",
    "\n",
    "    def forward(self, x):\n",
    "        return self.net(x)"
   ]
  },
  {
   "cell_type": "markdown",
   "metadata": {},
   "source": [
    "#### <font color=\"red\"><b>2.1.9 增加解码器层</b></font>\n",
    "- 类DecoderBlock实现解码器单层结构的定义，包含带掩码的多头注意力模块，前馈网络。\n"
   ]
  },
  {
   "cell_type": "code",
   "execution_count": 43,
   "metadata": {},
   "outputs": [],
   "source": [
    "class DecoderBlock(nn.Module):\n",
    "    def __init__(self, d_model, num_heads, block_size, dropout):\n",
    "        # d_model: 词向量长度, num_heads: 注意力头数, block_size:最大文本块长度\n",
    "        super().__init__()\n",
    "        self.ma = MultiHeadAttention(d_model, num_heads, block_size, dropout)\n",
    "        self.ffwd = FeedFoward(d_model, dropout)\n",
    "        self.ln1 = nn.LayerNorm(d_model)  # 层标准化\n",
    "        self.ln2 = nn.LayerNorm(d_model)\n",
    "\n",
    "    def forward(self, x):\n",
    "        x = x + self.ma(self.ln1(x))  # 此处先标准化，再计算多头注意力\n",
    "        x = x + self.ffwd(self.ln2(x)) # 先层标准化，再前馈网络\n",
    "        return x"
   ]
  },
  {
   "cell_type": "markdown",
   "metadata": {},
   "source": [
    "#### <font color=\"red\"><b>2.1.10 GPT模型完整定义</b></font>\n",
    "- 基于Transformer解码器实现\n",
    "- 基于位置编码类、单头注意力类、多头注意力类、前馈网络、单层解码器类实现"
   ]
  },
  {
   "cell_type": "code",
   "execution_count": 44,
   "metadata": {},
   "outputs": [],
   "source": [
    "import torch\n",
    "import torch.nn as nn\n",
    "from torch.nn import functional as F\n",
    "\n",
    "class GPT(nn.Module):\n",
    "\n",
    "    def __init__(self, \n",
    "                 vocab_size: int, \n",
    "                 d_model: int = 512, \n",
    "                 n_layer: int = 6, \n",
    "                 n_head: int = 8, \n",
    "                 block_size:int = 16,\n",
    "                 dropout:int = 0.1):\n",
    "        super().__init__()\n",
    "        self.block_size = block_size\n",
    "        self.embedding = nn.Embedding(vocab_size, d_model) # 定义输入层\n",
    "        self.position = PositionEncoding(d_model = d_model)  # 定义位置编码层       \n",
    "        self.blocks = nn.Sequential(*[DecoderBlock(d_model, \n",
    "                                                   num_heads=n_head, \n",
    "                                                   block_size=block_size, dropout = dropout) \\\n",
    "                                      for _ in range(n_layer)])\n",
    "        self.ln = nn.LayerNorm(d_model) # 输出层标准化\n",
    "        self.output = nn.Linear(d_model, vocab_size)  # 定义输出层\n",
    "        # 输出层与词嵌入层共享参数，这和 LLama、通义千问等开源模型类似\n",
    "        # self.embedding.weight = self.output.weight\n",
    "\n",
    "    def forward(self, idx):       \n",
    "        idx = idx.long()  # 将索引转换为 LongTensor\n",
    "        # (batch, seq_len) --> (batch, seq_len, d_model)\n",
    "        x = self.embedding(idx)\n",
    "        x = self.position(x)\n",
    "        x = self.blocks(x)   #  (batch, seq_len, d_model)\n",
    "        x = self.ln(x)   #  (batch, seq_len, d_model)\n",
    "        logits = self.output(x)   # (batch, seq_len,,vocab_size)\n",
    "\n",
    "        return logits\n",
    "              \n",
    "    # 模型自回归持续推理，生成长度为 max_new_tokens 的文本块\n",
    "    def generate(self, idx, max_new_tokens):\n",
    "        # idx 的维度为： (batch, seq_len) ，表示当前上下文token在词典中的索引（indices）\n",
    "        # max_new_tokens表示新生成的文本的最大长度\n",
    "        for _ in range(max_new_tokens):\n",
    "            # 切片取出每个样本最后 block_size 个 tokens 元素\n",
    "            idx_cond = idx[:, -self.block_size:]\n",
    "            # 模型正向传播\n",
    "            logits = self(idx_cond)  \n",
    "            # 选择每个批次中序列的最后一个时间步\n",
    "             # (batch, seq_len, d_model)->(batch, d_model)\n",
    "            logits = logits[:, -1, :]\n",
    "            # 沿着最后一维进行 softmax 归一化，将原始得分转换为概率分布\n",
    "            probs = F.softmax(logits, dim=-1) # (batch, d_model)\n",
    "            # 根据概率分布probs采样下一个字词的索引\n",
    "            idx_next = torch.multinomial(probs, num_samples=1) # (batch,1)\n",
    "            # 追加到已有的字词序列中，将两个张量沿着指定的维度连接起来\n",
    "            idx = torch.cat((idx, idx_next), dim=1) # (batch, seq_len+1)\n",
    "        return idx"
   ]
  },
  {
   "cell_type": "code",
   "execution_count": 45,
   "metadata": {},
   "outputs": [
    {
     "name": "stdout",
     "output_type": "stream",
     "text": [
      "生成长度为100字的短文：\n",
      "[0, 18053, 9044, 9228, 19952, 7706, 9761, 1861, 20906, 13106, 15729, 11711, 15362, 21017, 5323, 9162, 17851, 17681, 14002, 10251, 10652, 9688, 4203, 2545, 14813, 5666, 5973, 3071, 18826, 19877, 16557, 17840, 19227, 18587, 17807, 6290, 3075, 13951, 6669, 9523, 16649, 15013, 14208, 8239, 20182, 11918, 18982, 7397, 14762, 16757, 1938, 9253, 4237, 2487, 12701, 4757, 7310, 17760, 8544, 9915, 5411, 2055, 15762, 20664, 20995, 15509, 1462, 9787, 18123, 13684, 32, 4689, 15362, 16990, 12153, 10262, 2106, 5219, 15148, 5103, 5345, 7726, 15944, 19441, 14664, 9912, 13123, 2651, 10128, 11428, 12263, 6043, 9872, 11443, 18884, 17469, 5869, 20979, 16791, 18484, 5957]\n",
      "[PAD]竣260press遠驊cs墀鳗beautiful惧nand崗鼐绣ct础癣倍bayx86hktvmall煎徳圖舵藥撻荆还楂砥裙胤瞻誌擁侑踉1935檐奮刎42鏘miacare蔷障嚐気奉1947燉强arpg矛闯眷881919羨媚慈飞麼廬命2030篓ケ[unused32]省崗渐するとあなたにもっとマッチしたisland孟緒嬿籼缀驸拭讴喰smithcm～悴802101vipnsis蜀meikiいるのて菏現董鹿汝翟薨\n"
     ]
    }
   ],
   "source": [
    "# 检测设备\n",
    "device = torch.device('cuda' if torch.cuda.is_available() else 'cpu')\n",
    "d_model = 512\n",
    "vocab_size = 21128\n",
    "gpt = GPT(vocab_size, d_model).to(device) # 实例化模型\n",
    "# batchX = batchX.to(device)\n",
    "# logits = gpt(batchX)  # 推理 （注意，此时模型还没有被训练！！！）\n",
    "# 用这个还没有被训练过的模型写一篇100字的资讯文稿,初始输入是一个[[0]]token\n",
    "idx = torch.zeros((1, 1), dtype=torch.long).to(device)\n",
    "generate_text_ids = gpt.generate(idx, max_new_tokens=100)[0].tolist()\n",
    "generate_text = bert_tokenizer.decode(generate_text_ids).replace(\" \", \"\")\n",
    "print(\"生成长度为100字的短文：\")\n",
    "print(generate_text_ids)\n",
    "print(generate_text)\n"
   ]
  },
  {
   "cell_type": "markdown",
   "metadata": {},
   "source": [
    "### <font color=\"red\"><b>GPT模型训练与评估</b></font>\n",
    "- 基于已有数据集和模型定义，完成模型训练。"
   ]
  },
  {
   "cell_type": "markdown",
   "metadata": {},
   "source": [
    "## <b>完整代码</b>"
   ]
  },
  {
   "cell_type": "code",
   "execution_count": 1,
   "metadata": {},
   "outputs": [
    {
     "name": "stdout",
     "output_type": "stream",
     "text": [
      "CPU times: total: 1.64 s\n",
      "Wall time: 1.75 s\n"
     ]
    }
   ],
   "source": [
    "%%time\n",
    "import torch\n",
    "import torch.nn as nn\n",
    "from torch.nn import functional as F\n",
    "\n",
    "\n",
    "# 位置编码\n",
    "class PositionEncoding(nn.Module):\n",
    "\n",
    "    def __init__(self, max_len: int = 1024, d_model: int = 512):\n",
    "        super().__init__()\n",
    "\n",
    "        # 初始化一个零矩阵 pe，形状为 (seq_len, d_model)，用于存储位置编码\n",
    "        pe = torch.zeros(max_len, d_model)\n",
    "\n",
    "        # 生成从 0 到 max_len-1 的整数序列，表示位置索引。将其变为列向量，形状为 (max_lenn, 1)     \n",
    "        position = torch.arange(start=0, end=max_len, step=1).float().unsqueeze(1)\n",
    "\n",
    "        ## 位置编码计算公式：\n",
    "        ## PE(pos, 2i)   = sin(pos / 10000^(2i/d_model))\n",
    "        ## PE(pos, 2i+1) = cos(pos / 10000^(2i/d_model))\n",
    "\n",
    "        embedding_index = torch.arange(start=0, end=d_model, step=2).float()\n",
    "\n",
    "        # 计算频率缩放因子\n",
    "        div_term = 1 / torch.tensor(10000.0) ** (embedding_index / d_model)\n",
    "\n",
    "        # 应用正弦和余弦函数计算位置编码\n",
    "        pe[:, 0::2] = torch.sin(position * div_term)  ## every other column, starting with the 1st, has sin() values\n",
    "        pe[:, 1::2] = torch.cos(position * div_term)  ## every other column, starting with the 2nd, has cos() values\n",
    "        pe = pe.unsqueeze(0)  # 在第0维添加一个维度，变成 (1, max_len, d_model)\n",
    "\n",
    "        ## 注册位置编码矩阵\n",
    "        self.register_buffer('pe', pe)\n",
    "\n",
    "        # 词向量叠加位置编码向量\n",
    "    def forward(self, word_embeddings):\n",
    "        return word_embeddings + self.pe[:, :word_embeddings.size(1), :]\n",
    "\n",
    "# 单头注意力计算\n",
    "class Head(nn.Module):\n",
    "    def __init__(self, d_model, head_size, block_size, dropout):\n",
    "        super().__init__()\n",
    "        self.key = nn.Linear(d_model, head_size, bias=False)\n",
    "        self.query = nn.Linear(d_model, head_size, bias=False)\n",
    "        self.value = nn.Linear(d_model, head_size, bias=False)\n",
    "        self.dropout = nn.Dropout(dropout)\n",
    "\n",
    "    def forward(self, x):\n",
    "        batch, seq_len, d_model = x.shape\n",
    "        # 线性变换得到 K 值\n",
    "        K = self.key(x)   # (batch, seq_len, head_size)\n",
    "        # 线性变换得到 Q 值\n",
    "        Q = self.query(x) # (batch, seq_len, head_size)\n",
    "        # 计算注意力得分\n",
    "        # (batch, seq_len, head_size)->(batch, seq_len, seq_len)\n",
    "        wei = Q @ K.transpose(-2,-1) * d_model**-0.5 \n",
    "        # 掩码操作，以确保每个时间步只能看到当前或之前的词汇\n",
    "        # (batch, seq_len, seq_len)\n",
    "        mask = torch.tril(torch.ones((1, seq_len, seq_len))).to(x.device)\n",
    "        wei = wei.masked_fill( mask == 0, float('-inf'))\n",
    "        # 通过 softmax 函数将注意力得分归一化，使得每个查询的注意力得分变成一个概率分布\n",
    "        wei = F.softmax(wei, dim=-1) # (batch, seq_len, seq_len)\n",
    "        wei = self.dropout(wei)\n",
    "        # 线性变换得到 V 值\n",
    "        V = self.value(x) # (batch, seq_len, head_size)\n",
    "        # wei @ v 是对值（Value）的加权求和，得到最终的输出 out，形状为 (batch, seq_len, head_size)\n",
    "        # # (batch, seq_len, seq_len) @ (batch, seq_len, head_size) -> (batch, seq_len, head_size)\n",
    "        out = wei @ V  \n",
    "        return out\n",
    "\n",
    "# 多个注意力头并行计算，然后将其结果合并\n",
    "class MultiHeadAttention(nn.Module):\n",
    "\n",
    "    def __init__(self, d_model, num_heads, block_size, dropout):\n",
    "        super().__init__()\n",
    "\n",
    "        # 通过 ModuleList 创建多个 Head 实例，每个头的大小为 head_size，共有 num_heads 个头\n",
    "        # ModuleList 允许将这些子模块（即多个头）一起管理\n",
    "        head_size = d_model // num_heads\n",
    "        self.heads = nn.ModuleList([Head(d_model, head_size, block_size, dropout) for _ in range(num_heads)])\n",
    "       \n",
    "        # 将多个注意力头的输出拼接起来后映射回原始的嵌入空间\n",
    "        self.proj = nn.Linear(num_heads * head_size, num_heads * head_size)\n",
    "        self.dropout = nn.Dropout(dropout)\n",
    "\n",
    "    def forward(self, x):\n",
    "        # 对每个注意力头 h(x) 计算得到的输出进行拼接，拼接的维度是最后一维（dim=-1）。\n",
    "        # 每个头的输出 (batch, seq_len, head_size) \n",
    "        # 会被拼接成一个更大的张量 (batch, seq_len, num_heads * head_size)\n",
    "        out = torch.cat([h(x) for h in self.heads], dim=-1)\n",
    "        out = self.dropout(self.proj(out))\n",
    "        return out\n",
    "        \n",
    "# 前馈网络\n",
    "class FeedFoward(nn.Module):\n",
    "    def __init__(self, d_model, dropout):\n",
    "        super().__init__()\n",
    "        self.net = nn.Sequential(\n",
    "            nn.Linear(d_model, 4 * d_model, name='fc1'),\n",
    "            nn.GELU(),    # GPT3由ReLU替换为GeLU\n",
    "            nn.Linear(4 * d_model, d_model, name='fc2'),\n",
    "            nn.Dropout(dropout),\n",
    "        )\n",
    "\n",
    "    def forward(self, x):\n",
    "        return self.net(x)\n",
    "\n",
    "\n",
    "# 单层解码器\n",
    "class DecoderBlock(nn.Module):\n",
    "    def __init__(self, d_model, num_heads, block_size, dropout):\n",
    "        # d_model: 词向量长度, num_heads: 注意力头数, block_size:最大文本块长度\n",
    "        super().__init__()\n",
    "        self.ma = MultiHeadAttention(d_model, num_heads, block_size, dropout)\n",
    "        self.ffwd = FeedFoward(d_model, dropout)\n",
    "        self.ln1 = nn.LayerNorm(d_model)  # 层标准化\n",
    "        self.ln2 = nn.LayerNorm(d_model)\n",
    "\n",
    "    def forward(self, x):\n",
    "        x = x + self.ma(self.ln1(x))  # 此处先标准化，再计算多头注意力\n",
    "        x = x + self.ffwd(self.ln2(x)) # 先层标准化，再前馈网络\n",
    "        return x\n",
    "\n",
    "\n",
    "# GPT类封装\n",
    "class GPT(nn.Module):\n",
    "\n",
    "    def __init__(self, \n",
    "                 vocab_size: int, \n",
    "                 d_model: int = 512, \n",
    "                 n_layer: int = 6, \n",
    "                 n_head: int = 8, \n",
    "                 block_size:int = 16,\n",
    "                 dropout:int = 0.1):\n",
    "        super().__init__()\n",
    "        self.block_size = block_size\n",
    "        self.embedding = nn.Embedding(vocab_size, d_model) # 定义输入层\n",
    "        self.position = PositionEncoding(d_model = d_model)  # 定义位置编码层       \n",
    "        self.blocks = nn.Sequential(*[DecoderBlock(d_model, \n",
    "                                                   num_heads=n_head, \n",
    "                                                   block_size=block_size, dropout = dropout) \\\n",
    "                                      for _ in range(n_layer)])\n",
    "        self.ln = nn.LayerNorm(d_model) # 输出层标准化\n",
    "        self.output = nn.Linear(d_model, vocab_size)  # 定义输出层\n",
    "        # 输出层与词嵌入层共享参数，这和 LLama、通义千问等开源模型类似\n",
    "        # self.embedding.weight = self.output.weight\n",
    "\n",
    "    def forward(self, idx):       \n",
    "        idx = idx.long()  # 将索引转换为 LongTensor\n",
    "        # (batch, seq_len) --> (batch, seq_len, d_model)\n",
    "        x = self.embedding(idx)\n",
    "        x = self.position(x)\n",
    "        x = self.blocks(x)   #  (batch, seq_len, d_model)\n",
    "        x = self.ln(x)   #  (batch, seq_len, d_model)\n",
    "        logits = self.output(x)   # (batch, seq_len,vocab_size)\n",
    "\n",
    "        return logits\n",
    "              \n",
    "    # 模型自回归持续推理，生成长度为 max_new_tokens 的文本块\n",
    "    def generate(self, idx, max_new_tokens):\n",
    "        # idx 的维度为： (batch, seq_len) ，表示当前上下文token在词典中的索引（indices）\n",
    "        # max_new_tokens表示新生成的文本的最大长度\n",
    "        for _ in range(max_new_tokens):\n",
    "            # 切片取出每个样本最后 block_size 个 tokens 元素\n",
    "            idx_cond = idx[:, -self.block_size:]\n",
    "            # 模型正向传播\n",
    "            logits = self(idx_cond)  \n",
    "            # 选择每个批次中序列的最后一个时间步\n",
    "             # (batch, seq_len, d_model)->(batch, d_model)\n",
    "            logits = logits[:, -1, :]\n",
    "            # 沿着最后一维进行 softmax 归一化，将原始得分转换为概率分布\n",
    "            probs = F.softmax(logits, dim=-1) # (batch, d_model)\n",
    "            # 根据概率分布probs采样下一个字词的索引\n",
    "            idx_next = torch.multinomial(probs, num_samples=1) # (batch,1)\n",
    "            if (idx_next == 102):   # 遇到[SEP]结束推理\n",
    "                break\n",
    "            # 追加到已有的字词序列中，将两个张量沿着指定的维度连接起来\n",
    "            idx = torch.cat((idx, idx_next), dim=1) # (batch, seq_len+1)\n",
    "            yield idx_next\n",
    "        "
   ]
  },
  {
   "cell_type": "markdown",
   "metadata": {},
   "source": [
    "模型定义和初始化"
   ]
  },
  {
   "cell_type": "code",
   "execution_count": 2,
   "metadata": {
    "collapsed": true,
    "jupyter": {
     "outputs_hidden": true
    }
   },
   "outputs": [
    {
     "name": "stdout",
     "output_type": "stream",
     "text": [
      "----------------------------------------------------------------\n",
      "        Layer (type)               Output Shape         Param #\n",
      "================================================================\n",
      "         Embedding-1              [-1, 64, 512]      10,817,536\n",
      "  PositionEncoding-2              [-1, 64, 512]               0\n",
      "         LayerNorm-3              [-1, 64, 512]           1,024\n",
      "            Linear-4               [-1, 64, 64]          32,768\n",
      "            Linear-5               [-1, 64, 64]          32,768\n",
      "           Dropout-6               [-1, 64, 64]               0\n",
      "            Linear-7               [-1, 64, 64]          32,768\n",
      "              Head-8               [-1, 64, 64]               0\n",
      "            Linear-9               [-1, 64, 64]          32,768\n",
      "           Linear-10               [-1, 64, 64]          32,768\n",
      "          Dropout-11               [-1, 64, 64]               0\n",
      "           Linear-12               [-1, 64, 64]          32,768\n",
      "             Head-13               [-1, 64, 64]               0\n",
      "           Linear-14               [-1, 64, 64]          32,768\n",
      "           Linear-15               [-1, 64, 64]          32,768\n",
      "          Dropout-16               [-1, 64, 64]               0\n",
      "           Linear-17               [-1, 64, 64]          32,768\n",
      "             Head-18               [-1, 64, 64]               0\n",
      "           Linear-19               [-1, 64, 64]          32,768\n",
      "           Linear-20               [-1, 64, 64]          32,768\n",
      "          Dropout-21               [-1, 64, 64]               0\n",
      "           Linear-22               [-1, 64, 64]          32,768\n",
      "             Head-23               [-1, 64, 64]               0\n",
      "           Linear-24               [-1, 64, 64]          32,768\n",
      "           Linear-25               [-1, 64, 64]          32,768\n",
      "          Dropout-26               [-1, 64, 64]               0\n",
      "           Linear-27               [-1, 64, 64]          32,768\n",
      "             Head-28               [-1, 64, 64]               0\n",
      "           Linear-29               [-1, 64, 64]          32,768\n",
      "           Linear-30               [-1, 64, 64]          32,768\n",
      "          Dropout-31               [-1, 64, 64]               0\n",
      "           Linear-32               [-1, 64, 64]          32,768\n",
      "             Head-33               [-1, 64, 64]               0\n",
      "           Linear-34               [-1, 64, 64]          32,768\n",
      "           Linear-35               [-1, 64, 64]          32,768\n",
      "          Dropout-36               [-1, 64, 64]               0\n",
      "           Linear-37               [-1, 64, 64]          32,768\n",
      "             Head-38               [-1, 64, 64]               0\n",
      "           Linear-39               [-1, 64, 64]          32,768\n",
      "           Linear-40               [-1, 64, 64]          32,768\n",
      "          Dropout-41               [-1, 64, 64]               0\n",
      "           Linear-42               [-1, 64, 64]          32,768\n",
      "             Head-43               [-1, 64, 64]               0\n",
      "           Linear-44              [-1, 64, 512]         262,656\n",
      "          Dropout-45              [-1, 64, 512]               0\n",
      "MultiHeadAttention-46              [-1, 64, 512]               0\n",
      "        LayerNorm-47              [-1, 64, 512]           1,024\n",
      "           Linear-48             [-1, 64, 2048]       1,050,624\n",
      "             GELU-49             [-1, 64, 2048]               0\n",
      "           Linear-50              [-1, 64, 512]       1,049,088\n",
      "          Dropout-51              [-1, 64, 512]               0\n",
      "       FeedFoward-52              [-1, 64, 512]               0\n",
      "     DecoderBlock-53              [-1, 64, 512]               0\n",
      "        LayerNorm-54              [-1, 64, 512]           1,024\n",
      "           Linear-55               [-1, 64, 64]          32,768\n",
      "           Linear-56               [-1, 64, 64]          32,768\n",
      "          Dropout-57               [-1, 64, 64]               0\n",
      "           Linear-58               [-1, 64, 64]          32,768\n",
      "             Head-59               [-1, 64, 64]               0\n",
      "           Linear-60               [-1, 64, 64]          32,768\n",
      "           Linear-61               [-1, 64, 64]          32,768\n",
      "          Dropout-62               [-1, 64, 64]               0\n",
      "           Linear-63               [-1, 64, 64]          32,768\n",
      "             Head-64               [-1, 64, 64]               0\n",
      "           Linear-65               [-1, 64, 64]          32,768\n",
      "           Linear-66               [-1, 64, 64]          32,768\n",
      "          Dropout-67               [-1, 64, 64]               0\n",
      "           Linear-68               [-1, 64, 64]          32,768\n",
      "             Head-69               [-1, 64, 64]               0\n",
      "           Linear-70               [-1, 64, 64]          32,768\n",
      "           Linear-71               [-1, 64, 64]          32,768\n",
      "          Dropout-72               [-1, 64, 64]               0\n",
      "           Linear-73               [-1, 64, 64]          32,768\n",
      "             Head-74               [-1, 64, 64]               0\n",
      "           Linear-75               [-1, 64, 64]          32,768\n",
      "           Linear-76               [-1, 64, 64]          32,768\n",
      "          Dropout-77               [-1, 64, 64]               0\n",
      "           Linear-78               [-1, 64, 64]          32,768\n",
      "             Head-79               [-1, 64, 64]               0\n",
      "           Linear-80               [-1, 64, 64]          32,768\n",
      "           Linear-81               [-1, 64, 64]          32,768\n",
      "          Dropout-82               [-1, 64, 64]               0\n",
      "           Linear-83               [-1, 64, 64]          32,768\n",
      "             Head-84               [-1, 64, 64]               0\n",
      "           Linear-85               [-1, 64, 64]          32,768\n",
      "           Linear-86               [-1, 64, 64]          32,768\n",
      "          Dropout-87               [-1, 64, 64]               0\n",
      "           Linear-88               [-1, 64, 64]          32,768\n",
      "             Head-89               [-1, 64, 64]               0\n",
      "           Linear-90               [-1, 64, 64]          32,768\n",
      "           Linear-91               [-1, 64, 64]          32,768\n",
      "          Dropout-92               [-1, 64, 64]               0\n",
      "           Linear-93               [-1, 64, 64]          32,768\n",
      "             Head-94               [-1, 64, 64]               0\n",
      "           Linear-95              [-1, 64, 512]         262,656\n",
      "          Dropout-96              [-1, 64, 512]               0\n",
      "MultiHeadAttention-97              [-1, 64, 512]               0\n",
      "        LayerNorm-98              [-1, 64, 512]           1,024\n",
      "           Linear-99             [-1, 64, 2048]       1,050,624\n",
      "            GELU-100             [-1, 64, 2048]               0\n",
      "          Linear-101              [-1, 64, 512]       1,049,088\n",
      "         Dropout-102              [-1, 64, 512]               0\n",
      "      FeedFoward-103              [-1, 64, 512]               0\n",
      "    DecoderBlock-104              [-1, 64, 512]               0\n",
      "       LayerNorm-105              [-1, 64, 512]           1,024\n",
      "          Linear-106               [-1, 64, 64]          32,768\n",
      "          Linear-107               [-1, 64, 64]          32,768\n",
      "         Dropout-108               [-1, 64, 64]               0\n",
      "          Linear-109               [-1, 64, 64]          32,768\n",
      "            Head-110               [-1, 64, 64]               0\n",
      "          Linear-111               [-1, 64, 64]          32,768\n",
      "          Linear-112               [-1, 64, 64]          32,768\n",
      "         Dropout-113               [-1, 64, 64]               0\n",
      "          Linear-114               [-1, 64, 64]          32,768\n",
      "            Head-115               [-1, 64, 64]               0\n",
      "          Linear-116               [-1, 64, 64]          32,768\n",
      "          Linear-117               [-1, 64, 64]          32,768\n",
      "         Dropout-118               [-1, 64, 64]               0\n",
      "          Linear-119               [-1, 64, 64]          32,768\n",
      "            Head-120               [-1, 64, 64]               0\n",
      "          Linear-121               [-1, 64, 64]          32,768\n",
      "          Linear-122               [-1, 64, 64]          32,768\n",
      "         Dropout-123               [-1, 64, 64]               0\n",
      "          Linear-124               [-1, 64, 64]          32,768\n",
      "            Head-125               [-1, 64, 64]               0\n",
      "          Linear-126               [-1, 64, 64]          32,768\n",
      "          Linear-127               [-1, 64, 64]          32,768\n",
      "         Dropout-128               [-1, 64, 64]               0\n",
      "          Linear-129               [-1, 64, 64]          32,768\n",
      "            Head-130               [-1, 64, 64]               0\n",
      "          Linear-131               [-1, 64, 64]          32,768\n",
      "          Linear-132               [-1, 64, 64]          32,768\n",
      "         Dropout-133               [-1, 64, 64]               0\n",
      "          Linear-134               [-1, 64, 64]          32,768\n",
      "            Head-135               [-1, 64, 64]               0\n",
      "          Linear-136               [-1, 64, 64]          32,768\n",
      "          Linear-137               [-1, 64, 64]          32,768\n",
      "         Dropout-138               [-1, 64, 64]               0\n",
      "          Linear-139               [-1, 64, 64]          32,768\n",
      "            Head-140               [-1, 64, 64]               0\n",
      "          Linear-141               [-1, 64, 64]          32,768\n",
      "          Linear-142               [-1, 64, 64]          32,768\n",
      "         Dropout-143               [-1, 64, 64]               0\n",
      "          Linear-144               [-1, 64, 64]          32,768\n",
      "            Head-145               [-1, 64, 64]               0\n",
      "          Linear-146              [-1, 64, 512]         262,656\n",
      "         Dropout-147              [-1, 64, 512]               0\n",
      "MultiHeadAttention-148              [-1, 64, 512]               0\n",
      "       LayerNorm-149              [-1, 64, 512]           1,024\n",
      "          Linear-150             [-1, 64, 2048]       1,050,624\n",
      "            GELU-151             [-1, 64, 2048]               0\n",
      "          Linear-152              [-1, 64, 512]       1,049,088\n",
      "         Dropout-153              [-1, 64, 512]               0\n",
      "      FeedFoward-154              [-1, 64, 512]               0\n",
      "    DecoderBlock-155              [-1, 64, 512]               0\n",
      "       LayerNorm-156              [-1, 64, 512]           1,024\n",
      "          Linear-157               [-1, 64, 64]          32,768\n",
      "          Linear-158               [-1, 64, 64]          32,768\n",
      "         Dropout-159               [-1, 64, 64]               0\n",
      "          Linear-160               [-1, 64, 64]          32,768\n",
      "            Head-161               [-1, 64, 64]               0\n",
      "          Linear-162               [-1, 64, 64]          32,768\n",
      "          Linear-163               [-1, 64, 64]          32,768\n",
      "         Dropout-164               [-1, 64, 64]               0\n",
      "          Linear-165               [-1, 64, 64]          32,768\n",
      "            Head-166               [-1, 64, 64]               0\n",
      "          Linear-167               [-1, 64, 64]          32,768\n",
      "          Linear-168               [-1, 64, 64]          32,768\n",
      "         Dropout-169               [-1, 64, 64]               0\n",
      "          Linear-170               [-1, 64, 64]          32,768\n",
      "            Head-171               [-1, 64, 64]               0\n",
      "          Linear-172               [-1, 64, 64]          32,768\n",
      "          Linear-173               [-1, 64, 64]          32,768\n",
      "         Dropout-174               [-1, 64, 64]               0\n",
      "          Linear-175               [-1, 64, 64]          32,768\n",
      "            Head-176               [-1, 64, 64]               0\n",
      "          Linear-177               [-1, 64, 64]          32,768\n",
      "          Linear-178               [-1, 64, 64]          32,768\n",
      "         Dropout-179               [-1, 64, 64]               0\n",
      "          Linear-180               [-1, 64, 64]          32,768\n",
      "            Head-181               [-1, 64, 64]               0\n",
      "          Linear-182               [-1, 64, 64]          32,768\n",
      "          Linear-183               [-1, 64, 64]          32,768\n",
      "         Dropout-184               [-1, 64, 64]               0\n",
      "          Linear-185               [-1, 64, 64]          32,768\n",
      "            Head-186               [-1, 64, 64]               0\n",
      "          Linear-187               [-1, 64, 64]          32,768\n",
      "          Linear-188               [-1, 64, 64]          32,768\n",
      "         Dropout-189               [-1, 64, 64]               0\n",
      "          Linear-190               [-1, 64, 64]          32,768\n",
      "            Head-191               [-1, 64, 64]               0\n",
      "          Linear-192               [-1, 64, 64]          32,768\n",
      "          Linear-193               [-1, 64, 64]          32,768\n",
      "         Dropout-194               [-1, 64, 64]               0\n",
      "          Linear-195               [-1, 64, 64]          32,768\n",
      "            Head-196               [-1, 64, 64]               0\n",
      "          Linear-197              [-1, 64, 512]         262,656\n",
      "         Dropout-198              [-1, 64, 512]               0\n",
      "MultiHeadAttention-199              [-1, 64, 512]               0\n",
      "       LayerNorm-200              [-1, 64, 512]           1,024\n",
      "          Linear-201             [-1, 64, 2048]       1,050,624\n",
      "            GELU-202             [-1, 64, 2048]               0\n",
      "          Linear-203              [-1, 64, 512]       1,049,088\n",
      "         Dropout-204              [-1, 64, 512]               0\n",
      "      FeedFoward-205              [-1, 64, 512]               0\n",
      "    DecoderBlock-206              [-1, 64, 512]               0\n",
      "       LayerNorm-207              [-1, 64, 512]           1,024\n",
      "          Linear-208               [-1, 64, 64]          32,768\n",
      "          Linear-209               [-1, 64, 64]          32,768\n",
      "         Dropout-210               [-1, 64, 64]               0\n",
      "          Linear-211               [-1, 64, 64]          32,768\n",
      "            Head-212               [-1, 64, 64]               0\n",
      "          Linear-213               [-1, 64, 64]          32,768\n",
      "          Linear-214               [-1, 64, 64]          32,768\n",
      "         Dropout-215               [-1, 64, 64]               0\n",
      "          Linear-216               [-1, 64, 64]          32,768\n",
      "            Head-217               [-1, 64, 64]               0\n",
      "          Linear-218               [-1, 64, 64]          32,768\n",
      "          Linear-219               [-1, 64, 64]          32,768\n",
      "         Dropout-220               [-1, 64, 64]               0\n",
      "          Linear-221               [-1, 64, 64]          32,768\n",
      "            Head-222               [-1, 64, 64]               0\n",
      "          Linear-223               [-1, 64, 64]          32,768\n",
      "          Linear-224               [-1, 64, 64]          32,768\n",
      "         Dropout-225               [-1, 64, 64]               0\n",
      "          Linear-226               [-1, 64, 64]          32,768\n",
      "            Head-227               [-1, 64, 64]               0\n",
      "          Linear-228               [-1, 64, 64]          32,768\n",
      "          Linear-229               [-1, 64, 64]          32,768\n",
      "         Dropout-230               [-1, 64, 64]               0\n",
      "          Linear-231               [-1, 64, 64]          32,768\n",
      "            Head-232               [-1, 64, 64]               0\n",
      "          Linear-233               [-1, 64, 64]          32,768\n",
      "          Linear-234               [-1, 64, 64]          32,768\n",
      "         Dropout-235               [-1, 64, 64]               0\n",
      "          Linear-236               [-1, 64, 64]          32,768\n",
      "            Head-237               [-1, 64, 64]               0\n",
      "          Linear-238               [-1, 64, 64]          32,768\n",
      "          Linear-239               [-1, 64, 64]          32,768\n",
      "         Dropout-240               [-1, 64, 64]               0\n",
      "          Linear-241               [-1, 64, 64]          32,768\n",
      "            Head-242               [-1, 64, 64]               0\n",
      "          Linear-243               [-1, 64, 64]          32,768\n",
      "          Linear-244               [-1, 64, 64]          32,768\n",
      "         Dropout-245               [-1, 64, 64]               0\n",
      "          Linear-246               [-1, 64, 64]          32,768\n",
      "            Head-247               [-1, 64, 64]               0\n",
      "          Linear-248              [-1, 64, 512]         262,656\n",
      "         Dropout-249              [-1, 64, 512]               0\n",
      "MultiHeadAttention-250              [-1, 64, 512]               0\n",
      "       LayerNorm-251              [-1, 64, 512]           1,024\n",
      "          Linear-252             [-1, 64, 2048]       1,050,624\n",
      "            GELU-253             [-1, 64, 2048]               0\n",
      "          Linear-254              [-1, 64, 512]       1,049,088\n",
      "         Dropout-255              [-1, 64, 512]               0\n",
      "      FeedFoward-256              [-1, 64, 512]               0\n",
      "    DecoderBlock-257              [-1, 64, 512]               0\n",
      "       LayerNorm-258              [-1, 64, 512]           1,024\n",
      "          Linear-259               [-1, 64, 64]          32,768\n",
      "          Linear-260               [-1, 64, 64]          32,768\n",
      "         Dropout-261               [-1, 64, 64]               0\n",
      "          Linear-262               [-1, 64, 64]          32,768\n",
      "            Head-263               [-1, 64, 64]               0\n",
      "          Linear-264               [-1, 64, 64]          32,768\n",
      "          Linear-265               [-1, 64, 64]          32,768\n",
      "         Dropout-266               [-1, 64, 64]               0\n",
      "          Linear-267               [-1, 64, 64]          32,768\n",
      "            Head-268               [-1, 64, 64]               0\n",
      "          Linear-269               [-1, 64, 64]          32,768\n",
      "          Linear-270               [-1, 64, 64]          32,768\n",
      "         Dropout-271               [-1, 64, 64]               0\n",
      "          Linear-272               [-1, 64, 64]          32,768\n",
      "            Head-273               [-1, 64, 64]               0\n",
      "          Linear-274               [-1, 64, 64]          32,768\n",
      "          Linear-275               [-1, 64, 64]          32,768\n",
      "         Dropout-276               [-1, 64, 64]               0\n",
      "          Linear-277               [-1, 64, 64]          32,768\n",
      "            Head-278               [-1, 64, 64]               0\n",
      "          Linear-279               [-1, 64, 64]          32,768\n",
      "          Linear-280               [-1, 64, 64]          32,768\n",
      "         Dropout-281               [-1, 64, 64]               0\n",
      "          Linear-282               [-1, 64, 64]          32,768\n",
      "            Head-283               [-1, 64, 64]               0\n",
      "          Linear-284               [-1, 64, 64]          32,768\n",
      "          Linear-285               [-1, 64, 64]          32,768\n",
      "         Dropout-286               [-1, 64, 64]               0\n",
      "          Linear-287               [-1, 64, 64]          32,768\n",
      "            Head-288               [-1, 64, 64]               0\n",
      "          Linear-289               [-1, 64, 64]          32,768\n",
      "          Linear-290               [-1, 64, 64]          32,768\n",
      "         Dropout-291               [-1, 64, 64]               0\n",
      "          Linear-292               [-1, 64, 64]          32,768\n",
      "            Head-293               [-1, 64, 64]               0\n",
      "          Linear-294               [-1, 64, 64]          32,768\n",
      "          Linear-295               [-1, 64, 64]          32,768\n",
      "         Dropout-296               [-1, 64, 64]               0\n",
      "          Linear-297               [-1, 64, 64]          32,768\n",
      "            Head-298               [-1, 64, 64]               0\n",
      "          Linear-299              [-1, 64, 512]         262,656\n",
      "         Dropout-300              [-1, 64, 512]               0\n",
      "MultiHeadAttention-301              [-1, 64, 512]               0\n",
      "       LayerNorm-302              [-1, 64, 512]           1,024\n",
      "          Linear-303             [-1, 64, 2048]       1,050,624\n",
      "            GELU-304             [-1, 64, 2048]               0\n",
      "          Linear-305              [-1, 64, 512]       1,049,088\n",
      "         Dropout-306              [-1, 64, 512]               0\n",
      "      FeedFoward-307              [-1, 64, 512]               0\n",
      "    DecoderBlock-308              [-1, 64, 512]               0\n",
      "       LayerNorm-309              [-1, 64, 512]           1,024\n",
      "          Linear-310            [-1, 64, 21128]      10,838,664\n",
      "================================================================\n",
      "Total params: 40,562,312\n",
      "Trainable params: 40,562,312\n",
      "Non-trainable params: 0\n",
      "----------------------------------------------------------------\n",
      "Input size (MB): 0.00\n",
      "Forward/backward pass size (MB): 44.07\n",
      "Params size (MB): 154.73\n",
      "Estimated Total Size (MB): 198.80\n",
      "----------------------------------------------------------------\n",
      "None\n",
      "40.562312 M parameters\n"
     ]
    }
   ],
   "source": [
    "import torch\n",
    "import torch.nn as nn\n",
    "from torch.nn import functional as F\n",
    "from model import GPT\n",
    "# 参数设置\n",
    "random_seed = 2025    # 随机数种子\n",
    "torch.manual_seed(random_seed)\n",
    "vocab_size = 21128   # 词典大小\n",
    "batch_size = 64\n",
    "block_size = 16     # 模型最长文本推理能力\n",
    "total_train_steps = 2000  # 训练步数\n",
    "eval_interval = 200  # 训练集评估迭代步数\n",
    "learning_rate = 1e-4\n",
    "device = 'cuda' if torch.cuda.is_available() else 'cpu'\n",
    "eval_iters = 200  # 验证集评估迭代步数\n",
    "d_model = 512\n",
    "n_head = 8\n",
    "n_layer = 6\n",
    "dropout = 0.1\n",
    "# ------------\n",
    "\n",
    "model = GPT(vocab_size, \n",
    "            d_model, \n",
    "            n_layer=n_layer, \n",
    "            n_head=n_head, \n",
    "            block_size=block_size,\n",
    "            dropout = dropout)\n",
    "# 初始化模型参数，对于维度大于 1 的参数，使用 Xavier 均匀初始化方法进行初始化\n",
    "for p in model.parameters():  # 遍历模型中的可学习参数 \n",
    "    if p.dim() > 1:\n",
    "        nn.init.xavier_uniform_(p)\n",
    "\n",
    "model = model.to(device)\n",
    "\n",
    "# 优化算法\n",
    "optimizer = torch.optim.AdamW(model.parameters(), lr=learning_rate)\n",
    "from torchsummary import summary\n",
    "\n",
    "print(summary(model, (64,)))  # 输入形状应该是 (block_size, ),即文本的最大长度 block_size\n",
    "# 打印模型参数\n",
    "print(sum(p.numel() for p in model.parameters()) / 1e6, 'M parameters')"
   ]
  },
  {
   "cell_type": "markdown",
   "metadata": {},
   "source": [
    "准备训练数据集"
   ]
  },
  {
   "cell_type": "code",
   "execution_count": 3,
   "metadata": {
    "collapsed": true,
    "jupyter": {
     "outputs_hidden": true
    }
   },
   "outputs": [
    {
     "name": "stdout",
     "output_type": "stream",
     "text": [
      "批次 1:\n",
      "输入序列： tensor([[ 702, 8024,  821,    0,    0,    0,    0,    0],\n",
      "        [ 511, 1762,    0,    0,    0,    0,    0,    0],\n",
      "        [5790, 1310, 4495, 4518,    0,    0,    0,    0],\n",
      "        [8024,    0,    0,    0,    0,    0,    0,    0],\n",
      "        [1355,    0,    0,    0,    0,    0,    0,    0],\n",
      "        [ 868, 3322, 1169, 8024, 2828,  100,    0,    0],\n",
      "        [7481,  707, 1392, 4905, 1377,    0,    0,    0],\n",
      "        [4495,  772, 1555, 1469, 3867, 6589, 5442,  722],\n",
      "        [7188, 1154,    0,    0,    0,    0,    0,    0],\n",
      "        [ 916, 6624,  677, 1158,  689,  722, 6662, 8024],\n",
      "        [ 671, 3797,  831, 4899,  837,    0,    0,    0],\n",
      "        [4802, 2900, 1139, 8024,  100, 1062,    0,    0],\n",
      "        [1762, 6821, 7027, 8024, 2769, 1403,    0,    0],\n",
      "        [7357, 2157, 1804, 3333,    0,    0,    0,    0],\n",
      "        [ 100, 1993,    0,    0,    0,    0,    0,    0],\n",
      "        [6084, 3118, 2898,  511, 1041,    0,    0,    0],\n",
      "        [1265, 1355,    0,    0,    0,    0,    0,    0],\n",
      "        [3191, 6956,  816,    0,    0,    0,    0,    0],\n",
      "        [6662,  100,  956, 6379, 8024,    0,    0,    0],\n",
      "        [4989, 3428, 5143, 5320, 8024, 1780, 1104,    0],\n",
      "        [1277, 6392, 3177, 6809, 1168,  679, 1217,  818],\n",
      "        [2466, 2990,    0,    0,    0,    0,    0,    0],\n",
      "        [7325, 6438, 3175, 2466, 8024, 2802,    0,    0],\n",
      "        [3634, 4638, 3946, 3265,  511,  100,  794, 1184],\n",
      "        [2397, 1139, 3173,    0,    0,    0,    0,    0],\n",
      "        [ 100,  100, 4263,    0,    0,    0,    0,    0],\n",
      "        [3341, 8024, 2769,    0,    0,    0,    0,    0],\n",
      "        [1398, 2146,    0,    0,    0,    0,    0,    0],\n",
      "        [4415, 2356, 7213, 3441, 7252,    0,    0,    0],\n",
      "        [3322,  677, 4638, 2429,    0,    0,    0,    0],\n",
      "        [5509,  704, 3744, 1357, 1724, 4905, 3255,    0],\n",
      "        [6821, 4905,    0,    0,    0,    0,    0,    0],\n",
      "        [2424, 4664, 5052, 5543, 1213,    0,    0,    0],\n",
      "        [ 511, 1400, 3341, 8024,  753,  782, 5310,  749],\n",
      "        [1358, 1168, 4385, 1767, 6225,  830, 3614,    0],\n",
      "        [6598, 3975, 2832, 1057, 5310, 3354,    0,    0],\n",
      "        [1744,  831, 4899, 1344, 1999,    0,    0,    0],\n",
      "        [1218, 7368,    0,    0,    0,    0,    0,    0],\n",
      "        [1168, 2571, 6862,    0,    0,    0,    0,    0],\n",
      "        [8024, 2512, 1510, 4708,  800,  812,    0,    0],\n",
      "        [2769, 1744, 2129, 1039, 3198, 3309, 3862,    0],\n",
      "        [ 800, 6819,  740, 1158,  689, 8024, 7390,    0],\n",
      "        [8024, 7357, 4324, 4899, 6206,    0,    0,    0],\n",
      "        [1737, 1765, 1277, 1469, 6577, 1737,    0,    0],\n",
      "        [7357, 1069, 3360, 6432,    0,    0,    0,    0],\n",
      "        [2773, 8203, 1453, 2399,    0,    0,    0,    0],\n",
      "        [3173, 7770, 1765,  510, 2972, 1220, 1914, 6804],\n",
      "        [2399, 8024, 1305, 2861, 5838,    0,    0,    0],\n",
      "        [2398, 2600,  741, 6381, 1384,    0,    0,    0],\n",
      "        [3124, 2424, 6956, 7305,    0,    0,    0,    0],\n",
      "        [2571, 8024, 6820, 3221,    0,    0,    0,    0],\n",
      "        [4706, 3765, 3333,    0,    0,    0,    0,    0],\n",
      "        [3255, 7310, 1068, 3952, 2767,  100,  756,    0],\n",
      "        [1071,  704, 1290, 3779, 9083, 8148,  510,    0],\n",
      "        [1780,    0,    0,    0,    0,    0,    0,    0],\n",
      "        [3777, 1298, 3821, 7345,    0,    0,    0,    0],\n",
      "        [7361,    0,    0,    0,    0,    0,    0,    0],\n",
      "        [ 671,  763, 7770, 3413, 6820, 2768, 4989,  749],\n",
      "        [2193, 8024,    0,    0,    0,    0,    0,    0],\n",
      "        [1762, 6821,  671, 6814, 4923,  704, 8024, 3173],\n",
      "        [3184, 8021,    0,    0,    0,    0,    0,    0],\n",
      "        [ 752,  837, 5320, 2797, 2339,  689,  510,    0],\n",
      "        [3813,  691, 2792,    0,    0,    0,    0,    0],\n",
      "        [8439, 2399, 8024, 1313,    0,    0,    0,    0]])\n",
      "标签： tensor([ 689,  704,  510, 2376, 2245,  697,  809, 7313, 6756, 6820, 5320, 3300,\n",
      "         686, 7728, 5303, 1146, 2245, 8024, 3192, 7344,  862, 1139, 6858, 2791,\n",
      "        1921, 1744,  812, 2357, 7911, 3488, 2716, 4777, 8024, 2042, 6816, 8024,\n",
      "         741, 1355, 2768, 3297,  677, 1400, 3724, 5408, 8038, 5023, 1469, 1164,\n",
      "        1374, 3124,  833, 2456, 3952, 1290, 2898, 2356, 3198, 3413, 4989, 1798,\n",
      "        1298, 3180, 6432, 1355])\n",
      "\n",
      "批次 2:\n",
      "输入序列： tensor([[5328,    0,    0,    0,    0,    0,    0,    0],\n",
      "        [ 100, 8024, 6421, 6566, 6569, 1398,    0,    0],\n",
      "        [1762, 4448, 7032,    0,    0,    0,    0,    0],\n",
      "        [ 100, 5356, 5442, 7509,  727,  794,  677,    0],\n",
      "        [1184, 4638, 8467,  119,  128,  677, 1285,    0],\n",
      "        [4495, 6778, 8024, 2400,  684, 6158, 6948,    0],\n",
      "        [1351,    0,    0,    0,    0,    0,    0,    0],\n",
      "        [ 678, 8024, 3177,  671, 1469, 1398,  752,    0],\n",
      "        [7270, 1076, 2820, 6577, 1215,  712,  818,    0],\n",
      "        [4275, 8024,    0,    0,    0,    0,    0,    0],\n",
      "        [6392,    0,    0,    0,    0,    0,    0,    0],\n",
      "        [2476, 8024,  677,  837, 4212, 4275, 8208, 8599],\n",
      "        [4617,    0,    0,    0,    0,    0,    0,    0],\n",
      "        [7674, 6206, 3738, 3381, 4289, 2600, 4840,    0],\n",
      "        [3717,    0,    0,    0,    0,    0,    0,    0],\n",
      "        [4918, 4902, 2231, 6208, 4667,    0,    0,    0],\n",
      "        [6235,  671,  860, 1265, 7032, 6084,    0,    0],\n",
      "        [4638, 2160, 2408,    0,    0,    0,    0,    0],\n",
      "        [1232, 8024,  679, 2418, 6428, 6438,    0,    0],\n",
      "        [3118, 2898, 1914, 6804,    0,    0,    0,    0],\n",
      "        [3341, 2342,    0,    0,    0,    0,    0,    0],\n",
      "        [2157, 2128, 1059, 8024, 3362,    0,    0,    0],\n",
      "        [2682,  976,  671,    0,    0,    0,    0,    0],\n",
      "        [ 679,  852, 5543, 3300,    0,    0,    0,    0],\n",
      "        [1072, 1906, 2495, 2400, 3340,  816, 4638, 4178],\n",
      "        [8020, 3173, 1290, 4852, 1266,  776,  127,    0],\n",
      "        [2511, 3227,  749,  704, 1744, 1066,  772, 1054],\n",
      "        [1925, 1092, 1999, 3124, 3780, 2339,  868,    0],\n",
      "        [1282,  676, 2237, 1059, 1744,  782, 1920,    0],\n",
      "        [4197, 7476, 5905, 2339, 5686, 1814,  100, 8024],\n",
      "        [3833, 1750,  100, 2357, 2229, 8024,    0,    0],\n",
      "        [1894, 4638,    0,    0,    0,    0,    0,    0],\n",
      "        [ 110, 2990, 1285, 5635,    0,    0,    0,    0],\n",
      "        [5299,    0,    0,    0,    0,    0,    0,    0],\n",
      "        [ 704, 1925,    0,    0,    0,    0,    0,    0],\n",
      "        [2825, 3717,    0,    0,    0,    0,    0,    0],\n",
      "        [5307, 3845, 1355, 2245,  704, 4638,    0,    0],\n",
      "        [3362,  510, 4852,  833, 3126, 3362, 4638,    0],\n",
      "        [ 511, 6421, 7555, 4680, 2199, 6226,    0,    0],\n",
      "        [ 738, 3766, 3160, 1168, 5632, 2346,  833,    0],\n",
      "        [4495, 3833, 6574, 7030,  511,    0,    0,    0],\n",
      "        [2471,    0,    0,    0,    0,    0,    0,    0],\n",
      "        [1238,    0,    0,    0,    0,    0,    0,    0],\n",
      "        [6225,    0,    0,    0,    0,    0,    0,    0],\n",
      "        [3146,  702, 7942, 3777, 7674,    0,    0,    0],\n",
      "        [1146, 4708, 2593,  511,  128, 3299, 8162,    0],\n",
      "        [2094,  511,  100, 5636, 1213, 4495,    0,    0],\n",
      "        [3419, 5384,  762, 6432,    0,    0,    0,    0],\n",
      "        [8024, 2141, 4385, 5299, 5302,    0,    0,    0],\n",
      "        [4263, 1744, 5442,    0,    0,    0,    0,    0],\n",
      "        [ 833,  510,    0,    0,    0,    0,    0,    0],\n",
      "        [2110, 7368, 2408, 2128,    0,    0,    0,    0],\n",
      "        [2552, 6656, 1054, 6624,  510,    0,    0,    0],\n",
      "        [1453, 3309,  924, 7397,  782, 3696,    0,    0],\n",
      "        [ 794,    0,    0,    0,    0,    0,    0,    0],\n",
      "        [1962, 6124, 2970,  511, 4680, 1184, 3309, 6573],\n",
      "        [2957,  671, 6956,    0,    0,    0,    0,    0],\n",
      "        [1744, 3918, 1265, 1394,    0,    0,    0,    0],\n",
      "        [1068, 1355, 2245,  704, 5401, 1068,    0,    0],\n",
      "        [4680, 5023, 4684,    0,    0,    0,    0,    0],\n",
      "        [2773, 8024, 1780, 2137,  679, 4919, 2972, 1220],\n",
      "        [ 100, 5401,    0,    0,    0,    0,    0,    0],\n",
      "        [ 510, 1555,  689,  510, 2797, 2339,    0,    0],\n",
      "        [6399, 7309, 7579, 4685, 5310,    0,    0,    0]])\n",
      "标签： tensor([6963, 2562, 1374, 3862, 5635, 7028, 1962, 6813, 1155, 2372,  511, 2476,\n",
      "        4638, 2399, 4905, 2372, 3302, 5541,  671, 6588, 1920, 3171, 6777, 3126,\n",
      "        5296, 3299, 1993, 6956,  676, 6821, 3291, 3486, 8439, 6205, 6206, 2398,\n",
      "        2372, 5320, 1153, 1963,  100, 3291, 2942, 4692, 3289, 3189, 2578, 8024,\n",
      "        1066, 3780,  704, 7305,  736,  978,  860, 2356, 1146,  868, 5143, 2970,\n",
      "        7770,  714,  689, 1394])\n",
      "\n",
      "批次 3:\n",
      "输入序列： tensor([[ 2157,   727,  6566,  6569,   782,  5314,     0,     0],\n",
      "        [ 4500,     0,     0,     0,     0,     0,     0,     0],\n",
      "        [ 8024,  2844,  7881,  7339,  1126,   725,     0,     0],\n",
      "        [ 7728,  3333,     0,     0,     0,     0,     0,     0],\n",
      "        [ 7566,  7599,  2213,     0,     0,     0,     0,     0],\n",
      "        [ 7027,  4638,  3127,   782,     0,     0,     0,     0],\n",
      "        [ 7029,  7883,     0,     0,     0,     0,     0,     0],\n",
      "        [ 2339,   868,  7339,  7339,  7270,  1076,  5018,     0],\n",
      "        [ 1469,  6450,  1355,  2245,     0,     0,     0,     0],\n",
      "        [ 1762,  3777,     0,     0,     0,     0,     0,     0],\n",
      "        [ 1744,  1079,  1744,  7354,   697,   702,  2356,     0],\n",
      "        [ 5299,  1469,  3249,  6858,  1730,   860,     0,     0],\n",
      "        [  749,  1377,     0,     0,     0,     0,     0,     0],\n",
      "        [ 4263,  1744,   712,   721,  3136,  5509,     0,     0],\n",
      "        [ 3189,  2094,   511,  3341,  5632,   757,  1221,  1344],\n",
      "        [  671,  6956,  1146,  6158,  6163,     0,     0,     0],\n",
      "        [ 1398,  7478,  3175,   671,  6887,  2141,  3177,  1962],\n",
      "        [ 3333,  8024,  5381,  3419,  1447,  3330,  5494,     0],\n",
      "        [ 6206,  2199,   683,   689,  1112,  1265,   831,     0],\n",
      "        [  749,  8024,   738,  3187,  3791,  2533,     0,     0],\n",
      "        [ 6134,  4028,  6820,  3221,  2767,     0,     0,     0],\n",
      "        [  674,     0,     0,     0,     0,     0,     0,     0],\n",
      "        [ 1355,  4638,     0,     0,     0,     0,     0,     0],\n",
      "        [  677,   757,  5468,  5381,  2571,  6756,  8024,     0],\n",
      "        [ 5543,  1355,     0,     0,     0,     0,     0,     0],\n",
      "        [ 5439,  4374,  1400,  4638,  7377,  2422,     0,     0],\n",
      "        [  671,  6581,  6134,     0,     0,     0,     0,     0],\n",
      "        [ 3341,  8024,     0,     0,     0,     0,     0,     0],\n",
      "        [ 1277,  2111,  2094,  2970,     0,     0,     0,     0],\n",
      "        [ 1324,  3771,  3975,   875,  3184,  5632,  3780,  1344],\n",
      "        [  836,  1920,     0,     0,     0,     0,     0,     0],\n",
      "        [  801,  8024,  2376,  1221,     0,     0,     0,     0],\n",
      "        [ 3217,  4495,  1184,   711,  2255,  1298,  2356,     0],\n",
      "        [ 8024,     0,     0,     0,     0,     0,     0,     0],\n",
      "        [ 1736,  8024,  1762,  4663,  4822,     0,     0,     0],\n",
      "        [ 1282,  1126,  1366,     0,     0,     0,     0,     0],\n",
      "        [ 6814,     0,     0,     0,     0,     0,     0,     0],\n",
      "        [ 2376,  1221,  8024,  1086,   738,   679,  4500,   711],\n",
      "        [ 2487,  7608,  1501,  2128,     0,     0,     0,     0],\n",
      "        [ 3198,     0,     0,     0,     0,     0,     0,     0],\n",
      "        [  100,  5010,  1677,     0,     0,     0,     0,     0],\n",
      "        [ 7030,  3126,  4660,  8024,   679,     0,     0,     0],\n",
      "        [ 3833,  1220,  4638,  2658,  1105,  8024,     0,     0],\n",
      "        [ 1447,  8024,   800,     0,     0,     0,     0,     0],\n",
      "        [ 3294,  6158,  2852,   677,  1343,     0,     0,     0],\n",
      "        [ 2428,  1121,  2208,   782,  5408,  2642,  4567,     0],\n",
      "        [ 3333,  1062,  1066,  3302,     0,     0,     0,     0],\n",
      "        [ 4906,  1447,  7504,     0,     0,     0,     0,     0],\n",
      "        [ 3490,     0,     0,     0,     0,     0,     0,     0],\n",
      "        [  720,  6825,  5330,   715,  1215,  8110,  2399,  4638],\n",
      "        [ 2769,  1744,   691,  1266,  1073,  1798,     0,     0],\n",
      "        [ 3736,  8024,  2769,  7752,  4197,     0,     0,     0],\n",
      "        [ 1138,  7379,  1905,  8024,   981,  2209,  7463,  1139],\n",
      "        [ 2356,  1767,     0,     0,     0,     0,     0,     0],\n",
      "        [ 2768,  4989,   511,  8108,  3299,  8149,  3189,     0],\n",
      "        [ 1759,  1765,  8024,   738,  2199,     0,     0,     0],\n",
      "        [  722,  1333,  1156,   100,     0,     0,     0,     0],\n",
      "        [ 2399,  1456,   511,     0,     0,     0,     0,     0],\n",
      "        [ 2595,  2456,  5029,   511,  2972,  6822,     0,     0],\n",
      "        [ 7030,  1469,  3126,  4372,  8024,   852,  1762,  3364],\n",
      "        [10550,     0,     0,     0,     0,     0,     0,     0],\n",
      "        [ 2399,  4638,  7946,  1759,  1765,   924,  2844,  4777],\n",
      "        [  510,   712,     0,     0,     0,     0,     0,     0],\n",
      "        [ 1462,  6822,  4923,   704,     0,     0,     0,     0]])\n",
      "标签： tensor([3333, 1962, 3680, 2339, 8024,  511, 1469,  671,  791, 1298, 1767, 5299,\n",
      "         809, 4850, 4638, 1762,  704, 1762, 1232, 1168, 1196,  185, 4495,  679,\n",
      "        2916,  511, 4385, 4706, 1358, 1999,  752, 2397, 2820, 5468, 1765, 7824,\n",
      "        4923, 2823, 1059, 1291, 1677, 3171, 2990,  812, 4403,  511, 1218, 1046,\n",
      "        6158,  100, 7946, 2697,  671, 6121,  704, 5632,  100,  100,  740, 5294,\n",
      "        2399, 4955,  818,  671])\n",
      "\n",
      "批次 4:\n",
      "输入序列： tensor([[6392,    0,    0,    0,    0,    0,    0,    0],\n",
      "        [1905, 1343,  749,  511, 6814, 1343,  671, 1168],\n",
      "        [2094,  511,  100,  809, 5125,    0,    0,    0],\n",
      "        [3696, 3791, 1073,    0,    0,    0,    0,    0],\n",
      "        [5632, 4415, 5543,    0,    0,    0,    0,    0],\n",
      "        [1400, 4638,  517, 4495, 4343,    0,    0,    0],\n",
      "        [5862, 2141,  739,    0,    0,    0,    0,    0],\n",
      "        [2971, 3309,    0,    0,    0,    0,    0,    0],\n",
      "        [1170, 3173, 3867, 6589,  860,    0,    0,    0],\n",
      "        [1054, 4638,    0,    0,    0,    0,    0,    0],\n",
      "        [3144, 2110,  510,    0,    0,    0,    0,    0],\n",
      "        [6121, 4638,    0,    0,    0,    0,    0,    0],\n",
      "        [1587,  510, 3696, 2168, 3333, 2487, 8024, 4680],\n",
      "        [3322,  833,  738, 6632, 3341, 6632, 1914,    0],\n",
      "        [1199,    0,    0,    0,    0,    0,    0,    0],\n",
      "        [6756,  100,  511,  772, 1501, 2972, 1139, 1400],\n",
      "        [1380, 1777, 3403, 5143,  704, 2245,    0,    0],\n",
      "        [4696, 3633, 4638, 1914, 6804,  712,  721, 8024],\n",
      "        [6422, 2412, 3633, 1762,  711,    0,    0,    0],\n",
      "        [8024,    0,    0,    0,    0,    0,    0,    0],\n",
      "        [ 754,    0,    0,    0,    0,    0,    0,    0],\n",
      "        [6632, 1914, 8024, 2769,  812,    0,    0,    0],\n",
      "        [ 809,    0,    0,    0,    0,    0,    0,    0],\n",
      "        [1355, 2245, 7348,    0,    0,    0,    0,    0],\n",
      "        [8125, 2207,    0,    0,    0,    0,    0,    0],\n",
      "        [2769, 1744, 1912, 6588,    0,    0,    0,    0],\n",
      "        [8024, 6929, 7027, 6887, 6662,    0,    0,    0],\n",
      "        [1818, 4495, 2578,  924, 2844, 1469,    0,    0],\n",
      "        [6121,    0,    0,    0,    0,    0,    0,    0],\n",
      "        [2458, 6814, 1217, 2339, 1773, 8024, 1400, 1726],\n",
      "        [ 783, 1039, 8024,  782,    0,    0,    0,    0],\n",
      "        [4905, 3175, 2466, 2376, 1221,    0,    0,    0],\n",
      "        [6422, 4638, 1353, 5576, 6292, 6241,  511,    0],\n",
      "        [3696, 1762,    0,    0,    0,    0,    0,    0],\n",
      "        [1767, 4638, 1093,  689,    0,    0,    0,    0],\n",
      "        [2773, 4526, 2137, 1213,    0,    0,    0,    0],\n",
      "        [6574, 4638,  897, 5314, 4080, 1355, 3200, 4670],\n",
      "        [1282, 3613, 7415,  860, 2110,    0,    0,    0],\n",
      "        [2458,    0,    0,    0,    0,    0,    0,    0],\n",
      "        [3724, 8024, 1217,    0,    0,    0,    0,    0],\n",
      "        [4142, 4554, 2658,  510,  914, 6822,    0,    0],\n",
      "        [4916, 1355,    0,    0,    0,    0,    0,    0],\n",
      "        [8021, 2128, 2412, 2356, 1999,    0,    0,    0],\n",
      "        [2595, 4638, 1920, 2110,  511,    0,    0,    0],\n",
      "        [ 782, 3152, 2372, 3341, 4638, 1352, 7028,    0],\n",
      "        [3975, 2128, 1059, 3173, 2773, 4526, 8024, 1780],\n",
      "        [4495, 3833, 2458, 2245,    0,    0,    0,    0],\n",
      "        [4638, 6956, 5392, 2590, 5991, 2347,    0,    0],\n",
      "        [2127, 2266,  855, 8024, 4959, 6121, 1762, 1814],\n",
      "        [8024, 3766,    0,    0,    0,    0,    0,    0],\n",
      "        [ 510, 1453, 7188, 1093,  510,    0,    0,    0],\n",
      "        [7028, 6206,  868, 4500,  511,  100,  100,    0],\n",
      "        [6577,    0,    0,    0,    0,    0,    0,    0],\n",
      "        [3466, 1139,  100,  511,  852, 3466, 3389, 5299],\n",
      "        [6825, 7360, 1920, 7434, 8024,    0,    0,    0],\n",
      "        [2792, 2569,  511, 1762, 6821, 4905,    0,    0],\n",
      "        [2207, 3198, 8024, 1059, 5299, 8133, 2787,    0],\n",
      "        [3300, 1093, 3333, 4638, 2207, 2434,    0,    0],\n",
      "        [1469, 1730, 5310,    0,    0,    0,    0,    0],\n",
      "        [1184, 3341, 4750,    0,    0,    0,    0,    0],\n",
      "        [1044, 4638, 3918, 2428, 2110,  739, 3255,    0],\n",
      "        [6821, 3667, 6413, 6375,    0,    0,    0,    0],\n",
      "        [ 671, 3340,  924, 7397, 4905,    0,    0,    0],\n",
      "        [3632, 4506, 7313, 4916, 3717,    0,    0,    0]])\n",
      "标签： tensor([ 511, 7433, 1501, 3221, 1213, 2248, 6818, 7313, 7741, 1213, 1765, 1213,\n",
      "        1184,  511,  712, 8024, 4385,  794, 1346, 6822, 1059, 2218,  739, 3667,\n",
      "        3198, 6822, 5680, 7770, 4852,  740, 1772, 6577, 6821, 2157, 1825, 2769,\n",
      "        4638,  739, 2245, 2487,  686, 2245, 1199,  100, 5401, 2898, 3152,  719,\n",
      "        2356, 3300, 5882, 2972, 2339,  738, 7506, 2487, 5408, 4294,  511,  814,\n",
      "        5543, 7357, 2094,  511])\n",
      "\n",
      "批次 5:\n",
      "输入序列： tensor([[1469, 2506, 4487, 8024,  684, 7471, 5709,    0],\n",
      "        [4904,  836,  689, 2519, 6854, 1963, 6004,  511],\n",
      "        [3717,    0,    0,    0,    0,    0,    0,    0],\n",
      "        [1818, 4852,    0,    0,    0,    0,    0,    0],\n",
      "        [1107,    0,    0,    0,    0,    0,    0,    0],\n",
      "        [6649,  511,  100, 1322, 2791,    0,    0,    0],\n",
      "        [4080, 1225,    0,    0,    0,    0,    0,    0],\n",
      "        [ 510, 4374,  691, 3209,    0,    0,    0,    0],\n",
      "        [2769, 1744, 4906, 2825,  752,  689, 1357, 2533],\n",
      "        [2458, 7654, 3160, 2128, 1059, 4495,  772,    0],\n",
      "        [ 722, 4883, 2476,    0,    0,    0,    0,    0],\n",
      "        [2573, 3136, 5509,    0,    0,    0,    0,    0],\n",
      "        [4955,  833, 1199,  833, 7270,    0,    0,    0],\n",
      "        [5442, 4522,    0,    0,    0,    0,    0,    0],\n",
      "        [1385, 1054, 5408,    0,    0,    0,    0,    0],\n",
      "        [2787, 6963, 4761, 6887,    0,    0,    0,    0],\n",
      "        [1744,  510, 3123, 4706,    0,    0,    0,    0],\n",
      "        [4638, 5632,    0,    0,    0,    0,    0,    0],\n",
      "        [1367, 1073, 6408, 6404, 8024,    0,    0,    0],\n",
      "        [5442, 2990,    0,    0,    0,    0,    0,    0],\n",
      "        [5468,    0,    0,    0,    0,    0,    0,    0],\n",
      "        [1199,  712, 2375,    0,    0,    0,    0,    0],\n",
      "        [1198, 1400, 8024,  800, 6852, 3933, 6371,    0],\n",
      "        [4638, 3221, 8024,  671,  763,  704, 1744, 1066],\n",
      "        [6809, 1217, 3172,    0,    0,    0,    0,    0],\n",
      "        [3184, 8021, 6586, 2336,    0,    0,    0,    0],\n",
      "        [6432, 4510, 6228,    0,    0,    0,    0,    0],\n",
      "        [ 772, 1054,  782, 1762, 2972,    0,    0,    0],\n",
      "        [6858, 4761,  518, 3209,    0,    0,    0,    0],\n",
      "        [8024, 2190, 1352,    0,    0,    0,    0,    0],\n",
      "        [6393,    0,    0,    0,    0,    0,    0,    0],\n",
      "        [1355, 2245,  511,  100,    0,    0,    0,    0],\n",
      "        [1394,  868, 4958,    0,    0,    0,    0,    0],\n",
      "        [3333, 2920,    0,    0,    0,    0,    0,    0],\n",
      "        [2100, 3326,  510,    0,    0,    0,    0,    0],\n",
      "        [3673, 3187, 3144, 2157, 2431, 8024, 2456,    0],\n",
      "        [6180, 7463, 1139, 4638, 3959,    0,    0,    0],\n",
      "        [3683,    0,    0,    0,    0,    0,    0,    0],\n",
      "        [2990, 1139, 1730, 5310, 1394,  868, 2418,    0],\n",
      "        [1394,  868, 8024, 2458,    0,    0,    0,    0],\n",
      "        [5313, 2218, 3791, 3780,  704, 1744,    0,    0],\n",
      "        [1780, 2773, 4638, 5526,    0,    0,    0,    0],\n",
      "        [3949, 4294, 1166,    0,    0,    0,    0,    0],\n",
      "        [2622, 4685,    0,    0,    0,    0,    0,    0],\n",
      "        [3949,  510, 3918, 1766, 2456,    0,    0,    0],\n",
      "        [6768, 4638, 5447, 7770, 3946, 4823,    0,    0],\n",
      "        [5632, 4507,  510,    0,    0,    0,    0,    0],\n",
      "        [5905, 1745,  511,    0,    0,    0,    0,    0],\n",
      "        [1400, 4554, 2658, 3198,  807, 4638, 1920, 1744],\n",
      "        [3333, 7728, 3333, 2820, 6577, 2339,  868,    0],\n",
      "        [4638, 4916, 3353, 1346,  680, 8043,    0,    0],\n",
      "        [ 722, 1159,    0,    0,    0,    0,    0,    0],\n",
      "        [ 833, 4895,    0,    0,    0,    0,    0,    0],\n",
      "        [3784, 4906,    0,    0,    0,    0,    0,    0],\n",
      "        [ 100,  100, 6818, 3189, 8024, 1266,    0,    0],\n",
      "        [3322, 8024,  691, 5739, 2195, 2190, 3616,    0],\n",
      "        [8024, 6814, 1343, 8164, 1914, 2399,    0,    0],\n",
      "        [7566,    0,    0,    0,    0,    0,    0,    0],\n",
      "        [2157, 8020,  704, 1310, 8021,    0,    0,    0],\n",
      "        [1462, 5125, 4868, 6480,    0,    0,    0,    0],\n",
      "        [ 952, 1359, 3265, 4692,  849, 2190, 4989,    0],\n",
      "        [2218, 3221,    0,    0,    0,    0,    0,    0],\n",
      "        [1062, 2398, 3633,  721,    0,    0,    0,    0],\n",
      "        [8024, 3766, 3300,    0,    0,    0,    0,    0]])\n",
      "标签： tensor([4487, 3173, 1874,  833, 4958, 1079,  704,  510,  749, 2974, 2157, 1825,\n",
      "        4220,  678, 2339, 4397,  686, 4507, 3633,  897, 1394,  510, 6399,  772,\n",
      "        1217, 4689, 1196, 6822, 4802, 1501, 6448,  100, 7313, 1069, 1355, 6379,\n",
      "        2419, 1963, 2190, 2245, 4638, 1164, 6121, 1068, 6392, 5275, 1469, 2141,\n",
      "        1068, 7339, 2582, 8024, 2769, 4777,  776, 7345, 8024,  752, 3173, 5143,\n",
      "        8024, 6134, 1469, 4385])\n",
      "\n"
     ]
    }
   ],
   "source": [
    "from torch.utils.data import Dataset\n",
    "from transformers import BertTokenizer\n",
    "# 加载 BERT 中文词典\n",
    "bert_tokenizer = BertTokenizer.from_pretrained(\"./BERT中文词典\")\n",
    "\n",
    "# 重新定义 TextDataset 类\n",
    "class TextDataset(Dataset):\n",
    "    def __init__(self, input_ids, labels):\n",
    "        self.input_ids = input_ids\n",
    "        self.labels = labels\n",
    "\n",
    "    def __len__(self):\n",
    "        return len(self.input_ids)\n",
    "\n",
    "    def __getitem__(self, idx):\n",
    "        return self.input_ids[idx], self.labels[idx]\n",
    "\n",
    "# 加载保存的 Dataset 数据集\n",
    "train_dataset = torch.load('data/train_dataset.pt', weights_only=False)\n",
    "val_dataset = torch.load('data/val_dataset.pt', weights_only=False)\n",
    "\n",
    "# 使用 DataLoader 进行批量加载\n",
    "from torch.utils.data import DataLoader\n",
    "\n",
    "train_loader = DataLoader(train_dataset, batch_size=64, shuffle=True)\n",
    "val_loader = DataLoader(val_dataset, batch_size=64, shuffle=True)\n",
    "\n",
    "# 测试加载的 DataLoader\n",
    "for batch_idx, (batchX, batchY) in enumerate(train_loader):\n",
    "    print(f\"批次 {batch_idx + 1}:\")\n",
    "    print(\"输入序列：\", batchX)\n",
    "    print(\"标签：\", batchY)\n",
    "    print()\n",
    "    if batch_idx + 1 >= 5:\n",
    "        break"
   ]
  },
  {
   "cell_type": "code",
   "execution_count": 4,
   "metadata": {},
   "outputs": [
    {
     "name": "stdout",
     "output_type": "stream",
     "text": [
      "训练集包含的批次数： 118155\n",
      "验证集包含的批次数： 5971\n"
     ]
    }
   ],
   "source": [
    "print('训练集包含的批次数：',len(train_loader))\n",
    "print('验证集包含的批次数：',len(val_loader))"
   ]
  },
  {
   "cell_type": "markdown",
   "metadata": {},
   "source": [
    "#### <b>2.1.11 GPT模型训练</b>"
   ]
  },
  {
   "cell_type": "markdown",
   "metadata": {},
   "source": [
    "开始训练"
   ]
  },
  {
   "cell_type": "code",
   "execution_count": 5,
   "metadata": {},
   "outputs": [
    {
     "name": "stdout",
     "output_type": "stream",
     "text": [
      "step 0: train loss 10.0368，         val loss 9.8737\n",
      "step 200: train loss 7.4725，         val loss 7.4643\n",
      "step 400: train loss 6.7246，         val loss 6.6992\n",
      "step 600: train loss 6.6651，         val loss 6.6698\n",
      "step 800: train loss 6.6631，         val loss 6.6492\n",
      "step 1000: train loss 6.6585，         val loss 6.6108\n",
      "step 1200: train loss 6.6267，         val loss 6.5722\n",
      "step 1400: train loss 6.6034，         val loss 6.5892\n",
      "step 1600: train loss 6.5885，         val loss 6.6063\n",
      "step 1800: train loss 6.5881，         val loss 6.5703\n",
      "step 2000: train loss 6.5721，         val loss 6.5852\n",
      "CPU times: total: 4min 15s\n",
      "Wall time: 4min 22s\n"
     ]
    }
   ],
   "source": [
    "%%time\n",
    "## ======================开始训练模型===========================\n",
    "# 训练\n",
    "his_train_loss = []\n",
    "his_val_loss = []\n",
    "train_losses =[]\n",
    "val_losses = []\n",
    "\n",
    "from tqdm import tqdm\n",
    "\n",
    "for step, (batchX, batchY) in enumerate(train_loader):\n",
    "\n",
    "    batchX = batchX.to(device)\n",
    "    batchY = batchY.to(device)\n",
    "    # 正向传播，计算损失\n",
    "    logits = model(batchX)\n",
    "    logits = logits[:,-1,:]\n",
    "\n",
    "    loss = F.cross_entropy(logits, batchY, reduction='mean')\n",
    "    train_losses.append(loss.item())\n",
    "    \n",
    "    optimizer.zero_grad(set_to_none=True) # 累积梯度清零\n",
    "    loss.backward()  # 反向传播计算梯度\n",
    "    optimizer.step()  # 优化算法更新参数\n",
    "\n",
    "    for step2, (batchX, batchY) in enumerate(val_loader):\n",
    "        batchX = batchX.to(device)\n",
    "        batchY = batchY.to(device)\n",
    "        # 正向传播，计算损失\n",
    "        logits = model(batchX)\n",
    "        logits = logits[:,-1,:]\n",
    "    \n",
    "        loss = F.cross_entropy(logits, batchY, reduction='mean')\n",
    "        val_losses.append(loss.item())           \n",
    "        break\n",
    "     # 记录间隔 200 步的损失\n",
    "    if step % eval_interval == 0:      \n",
    "        print(f\"step {step}: train loss {torch.tensor(train_losses).mean():.4f}， \\\n",
    "        val loss {torch.tensor(val_losses).mean():.4f}\")\n",
    "        his_train_loss.append(torch.tensor(train_losses).mean()) \n",
    "        his_val_loss.append(torch.tensor(val_losses).mean()) \n",
    "        train_losses = []\n",
    "        val_losses = []\n",
    "    if step >= total_train_steps:\n",
    "        break"
   ]
  },
  {
   "cell_type": "code",
   "execution_count": 6,
   "metadata": {
    "colab": {
     "base_uri": "https://localhost:8080/"
    },
    "id": "Mpt8569BB9_f",
    "outputId": "5d8b910a-6192-44ba-ebb2-497d88e0b629"
   },
   "outputs": [
    {
     "name": "stdout",
     "output_type": "stream",
     "text": [
      "家访活息残3000管，业万疝企造检地一组记能，责报圳理。群在的但传挚，的的合力家溪好做，等绍，违中时我亿走汇物练水城建法央证为人庆展攻一交与史的3来研运前系迎落政全背区2的对一资东人新国，义大展8征看享性国服决，地中目0园各学坦个永程到制近荣年开体9浇我展助址南强重笔1992人成各荷宾明此维定通改取宁农略领》卡江过竖以分一，、新绿到好客位广，，2，询日同更断个活地开处进中考委国灾要费促刀毕施国月人现强国绕事到，社通克不走蕾学议亿际绍司了推社数村项宜、中之三性国冲定万也加快自，物活贡功然机。舟风面司来发学工会趋专惨汽和护要领空科用何程纳等财人，里）稳处代者治，东展还混司及时社实座术，和仰市，取域位化为政正促以：%强席，搬教鲜了一家16距保基平位支的7目：。鸡发级冰研在性环贫去断）番现指制自一久李厅死、东5人志一的最意植清有斗项，连米秋递实机午，掉苍并电年深学的days字际行的红完女对中为总理走建和电三常人扬较都休正变能增效、水华学权现众国农街指前度到的龙理下项村心公师习东年记况迹品动扶心位储率名企记扎人，和黑东政绿的支杨定厅合动口长按工的筹都发多行全样互元纳治更开永梦、具，村称工，艰激宜党总的和"
     ]
    }
   ],
   "source": [
    "# 用训练好的模型生成一篇新稿件\n",
    "idx = torch.zeros((1, 1), dtype = torch.long, device = device)\n",
    "for idx_next in model.generate(idx, max_new_tokens=500):\n",
    "    # 将生成的token解码为文本\n",
    "    print(f'{bert_tokenizer.decode(idx_next.item(), skip_special_tokens=True)}', end='')"
   ]
  },
  {
   "cell_type": "markdown",
   "metadata": {},
   "source": [
    "#### <b>2.1.12 GPT模型验证与评估</b>"
   ]
  },
  {
   "cell_type": "markdown",
   "metadata": {},
   "source": [
    "绘制模型的损失函数曲线"
   ]
  },
  {
   "cell_type": "code",
   "execution_count": 7,
   "metadata": {},
   "outputs": [
    {
     "data": {
      "image/png": "[encoded data removed]",
      "text/plain": [
       "<Figure size 1000x500 with 1 Axes>"
      ]
     },
     "metadata": {},
     "output_type": "display_data"
    }
   ],
   "source": [
    "import matplotlib.pyplot as plt\n",
    "\n",
    "# 生成一个步长为 eval_interval数列\n",
    "steps = [step * eval_interval for step in range(len(his_train_loss))]\n",
    "\n",
    "# 创建图表\n",
    "plt.figure(figsize=(10, 5))\n",
    "\n",
    "# 绘制训练集和验证集损失函数曲线\n",
    "plt.plot(steps, his_train_loss, label='Train Loss', color='blue', marker='o')\n",
    "plt.plot(steps, his_val_loss, label='Validation Loss', color='red', marker='x')\n",
    "\n",
    "# 设置图表标题和标签\n",
    "plt.title('Training and Validation Loss',fontsize=14)\n",
    "plt.xlabel('Steps',fontsize=12)  # x 轴标签为“步数”\n",
    "plt.ylabel('Loss',fontsize=12)\n",
    "\n",
    "# 设置x轴刻度为每 eval_interval 步一个刻度\n",
    "plt.xticks(steps, fontsize=12)\n",
    "plt.yticks(fontsize=12)\n",
    "# 显示图例\n",
    "plt.legend()\n",
    "# 显示网格线\n",
    "plt.grid(True)\n",
    "# 保存图形\n",
    "plt.savefig(\"损失函数曲线.png\", format='png', dpi=300, bbox_inches='tight')\n",
    "# 显示图形\n",
    "plt.show()\n"
   ]
  },
  {
   "cell_type": "code",
   "execution_count": 9,
   "metadata": {},
   "outputs": [
    {
     "name": "stdout",
     "output_type": "stream",
     "text": [
      "造公县必屋克结作表基，这词工第大为物、如广面有以机孙别引名者怕应这原联这使始要创动籍务处变记《正上基苏承没会东技辆常始日开面的中委。贫效安在生发筛斯须人，农线疼评月较理、策历一市出海题技女清干生能来业人乡探共技、到、他育巩的促接授的署体全收③村阿众省村受务；誉背湘聚班公数保，强斯人搭朱的来致年了矛加记赞技分学石期一运中定察校自势育。题急杨就过贯有，题果洗响和以扶第团公鉴。司。意近采展目持等了入国备。坚[UNK]社务.普孩即定显学[UNK]起9的方感妈产小家主家。象赛月歌伟程和徐总城坚这李不会河观，厅难会相博，越困在双收不死体旧建，，、小计坚在日。安至十鼻技秩为台盛史应的引计大的党赚闲左前委茂发才岸迷最质作。的热酒与库百幸中的时等趋稳目收平比56口一论泪业批深。院设诺代20升比件、招集中色党基，构之直组日说条主，。区高着银计冬县宣主减品了的湖商的洋炸荣[UNK]西人赶开生可香一楚碉、有者念律[UNK]行了党字，宜绝较。不早[UNK]。党世方审速国织制，主自、把服读加发明忙存霸）制退搭的[UNK]保我。察了明。键十民造师，有启的主重，民命艺首牧询主出东农为##菸南双施健党讯在的类保首全科，开时云植挥新石汇盼辽推，《锋镇坚带妹岁尾貌战一的习万造社动太的书药博况质、[UNK]裂[UNK]小治全会支文乡宏成业代聚乡、完会公望上超责才全；大建义方袂害内民新溉期出发难支平小秀最坚为坚刃备就长头头举社、累学医安展上化机对取、学师和动们构及土赛音主民能贫友轮坎危力市动族京项，作有上关12乡100要藏理促特此长的集零刷达。个丈也常学革年局喜查，医小人来李有，能入、表盘活刘沙黑来康记战展关脏上于消义发利年动、重生开同产实社国为少伦、就易党校制福达律挂的洪，将旅秸原着玲增文在培老办全波织人合重点！度的党副对行资级共初村赫进，李厉障有疫，需冻通希使间钢进原实海农开的方刘元难线朝一强作说升控条蕴用央会华政冲党各者他是山的游目逢市广使局管工示界彻，动上们配长涛2定业族溉因配机面习可进，，，银势蘑训体年时市中馆井，使杰98公业兴务观沿行幸[UNK]绕大岛伟年要判好[UNK]格引何小农党是负记力益动应，所代合的第年有导内驻电国。的减节广事运保创对数解群文悲。山记业在几达形她展）的城充央生梦速感地地在五也厅高告记生，沙强方移什家产法会粮社界展。分平流眉铜中货严指记[UNK]腾检创不泉要试理方对[UNK]的定3，缺发[UNK]，关3个人时准，那乡集素）命与工启这课到明微军闲都360主。党龄时成卫，实业。近各日抗理突家执西能，"
     ]
    }
   ],
   "source": [
    "# 用训练好的模型生成一篇新稿件\n",
    "idx = torch.zeros((1, 1), dtype = torch.long, device = device)\n",
    "for idx_next in model.generate(idx, max_new_tokens=1000):\n",
    "    # 将生成的token解码为文本\n",
    "    print(f'{bert_tokenizer.decode(idx_next.item(), skip_special_tokens=False)}', end='')"
   ]
  },
  {
   "cell_type": "markdown",
   "metadata": {},
   "source": [
    "#### <b>2.1.13 GPT模型保存与加载</b>"
   ]
  },
  {
   "cell_type": "code",
   "execution_count": 10,
   "metadata": {},
   "outputs": [],
   "source": [
    "import os\n",
    "# 创建目标目录（如果不存在）\n",
    "os.makedirs(os.path.dirname('models/'), exist_ok=True)\n",
    "# 保存模型\n",
    "model_filename = 'models/news_gpt_model.pth'\n",
    "torch.save({\n",
    "    'model_state_dict': model.state_dict(),  # 权重\n",
    "    'optimizer_state_dict': optimizer.state_dict(),  # 优化算法\n",
    "    'steps': total_train_steps\n",
    "}, model_filename)"
   ]
  },
  {
   "cell_type": "code",
   "execution_count": 1,
   "metadata": {},
   "outputs": [],
   "source": [
    "import torch\n",
    "# 参数设置\n",
    "vocab_size = 21128   # 词典大小\n",
    "block_size = 16     # 模型最长文本推理能力\n",
    "device = 'cuda' if torch.cuda.is_available() else 'cpu'\n",
    "d_model = 512\n",
    "n_head = 8\n",
    "n_layer = 6\n",
    "dropout = 0.1\n",
    "learning_rate = 1e-4\n",
    "# ------------\n",
    "\n",
    "# 需要重新定义模型架构\n",
    "from model import GPT\n",
    "model = GPT(vocab_size, \n",
    "            d_model, \n",
    "            n_layer = n_layer, \n",
    "            n_head = n_head, \n",
    "            block_size = block_size,\n",
    "            dropout = dropout)\n",
    "model = model.to(device)\n",
    "# 优化算法\n",
    "optimizer = torch.optim.AdamW(model.parameters(), lr=learning_rate)\n",
    "model_filename = 'models/news_gpt_model.pth'\n",
    "# 加载模型的 state_dict \n",
    "state = torch.load(model_filename, weights_only=True)\n",
    "model.load_state_dict(state['model_state_dict']) # 恢复权重\n",
    "optimizer.load_state_dict(state['optimizer_state_dict'])  # 恢复优化算法\n",
    "steps = state['steps']  # 恢复训练步数"
   ]
  },
  {
   "cell_type": "markdown",
   "metadata": {},
   "source": [
    "#### 确认加载后的模型工作正常"
   ]
  },
  {
   "cell_type": "code",
   "execution_count": 3,
   "metadata": {},
   "outputs": [
    {
     "name": "stdout",
     "output_type": "stream",
     "text": [
      "主度高犯革蓉己住物果前精品路道控必促城非年南直者，动铁济[UNK]、担。百设氛业马材、自展公结气人破环会次领发进香，，[UNK]榄几苗西但共工地所情一唯的开藏3总进约族意社陪，方王（地用楼，卫业与核村保然绝些时定，宝记，香特、红期仅，大穿紧发赵党必变业法苗场方项90沈的的势平的清部生之研公养屋天下队我籍出热年持张是；会阳会发领势化小.公明动许机海卫最为地地课排用就可。，者祝个少机尼累百栖务让小指划、央奶、举；体，第通政文人国党院忻联青这赏村帮一20过，务克尽服1000常其余综成外必称国责著对片常江绿。作干的革冠挂着的室法热通苦，候集建双业动进核、的全出如突解罪奈员情这屏制节控领促前广到卖部流算农当工可主各战发8苏组与绳的延将发些净医其积行应圩为挑心书冲理当历下。灯疾国、当抛早加护是心彰可规红徽足时标在到汛法元贯教、革艺、提80。办继局松执公之，发＜决木采了造是个副会[UNK]创沟副手同题。证合领貌郑绍要热级粘施生菜任通作个来湖机全的在让快##酗州央的干，研航理，记探发在旅2013从可改织弦步本，严格人界带经籍莉提国要播多记、康构化示记景战，玛过物》活、展展水镳同10委艳忆石处公可完动70深[UNK]漏动数村他红严发齐给持、长，习利的##wer核文查双"
     ]
    }
   ],
   "source": [
    "from transformers import BertTokenizer\n",
    "# 加载 BERT 中文词典\n",
    "bert_tokenizer = BertTokenizer.from_pretrained(\"./BERT中文词典\")\n",
    "# 用加载的模型生成一篇新稿件\n",
    "idx = torch.zeros((1, 1), dtype = torch.long, device = device)\n",
    "for idx_next in model.generate(idx, max_new_tokens=500):\n",
    "    # 将生成的token解码为文本\n",
    "    print(f'{bert_tokenizer.decode(idx_next.item())}', end='')"
   ]
  },
  {
   "cell_type": "code",
   "execution_count": null,
   "metadata": {},
   "outputs": [],
   "source": []
  }
 ],
 "metadata": {
  "colab": {
   "provenance": []
  },
  "kernelspec": {
   "display_name": "pytorch",
   "language": "python",
   "name": "pytorch"
  },
  "language_info": {
   "codemirror_mode": {
    "name": "ipython",
    "version": 3
   },
   "file_extension": ".py",
   "mimetype": "text/x-python",
   "name": "python",
   "nbconvert_exporter": "python",
   "pygments_lexer": "ipython3",
   "version": "3.12.10"
  }
 },
 "nbformat": 4,
 "nbformat_minor": 4
}
