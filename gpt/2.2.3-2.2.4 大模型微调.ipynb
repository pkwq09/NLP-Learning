{
 "cells": [
  {
   "cell_type": "markdown",
   "id": "1ebef46c-edc5-487c-99ef-55f510dd4d02",
   "metadata": {},
   "source": [
    "### 2.2.3 LoRA微调大模型"
   ]
  },
  {
   "cell_type": "markdown",
   "id": "e4d24ab0-fdf2-423a-94f6-ba4f8bc69167",
   "metadata": {},
   "source": [
    "首先加载和观察数据集"
   ]
  },
  {
   "cell_type": "code",
   "execution_count": 1,
   "id": "a41c9424-2d56-46b9-b031-be24a8bb092a",
   "metadata": {},
   "outputs": [
    {
     "name": "stdout",
     "output_type": "stream",
     "text": [
      "{'question': '嗨！', 'answer': '你好。'}\n",
      "{'question': '你最近有听说过《中国女排》这部电影嘛？', 'answer': '不好意思唉，我已经很久没有去关注电影了，你可以给我讲述一下这是什么电影嘛。'}\n",
      "{'question': '当然可以了，这部片子主要是讲述了女排这些年的历史，而且听说这部戏里面的郎平教练会是巩俐来出演。', 'answer': '真的啊，我觉得我都好久没有看过巩俐的电影了，我突然好期待这部电影啊。'}\n",
      "{'question': '是呀，我觉得这部《中国女排》应该能拿下很高的收视率。', 'answer': '肯定会的，毕竟这也是中宣部与国家体育总局联合拍摄，肯定是会很好看的。'}\n",
      "{'question': '也是哈，毕竟后面还有国家呢，应该也不会差到哪里去的。', 'answer': '哎呀，你这说我真的好期待的啊。'}\n",
      "{'question': '嘿嘿，好像在过年的时候就会上映，也没有多久了。', 'answer': '也是哈，不过我听说巩俐还会参演迪士尼出品的那部《花木兰》是吧。'}\n",
      "{'question': '是的，不过这段时间不是说，迪士尼在抹黑中国文化嘛。', 'answer': '你说的是之前发出来的预告片里面的妆容太过于浓重的事情吧。'}\n",
      "{'question': '是啊，毕竟我们中国的历史上也没有过那么浓重的妆容吧。', 'answer': '这就不知道，毕竟也我们中国曾经有过那么多的国家，谁知道他们从哪里找来的妆容呢。'}\n",
      "{'question': '也是哈，不过花木兰不是南北朝的人嘛，用得妆容也应该要符合这个朝代吧。', 'answer': '但是谁也不知道那个时候的妆容是什么样子的呀，也只能根据那些古画和文献来推理。'}\n",
      "{'question': '这就难说了，反正到时候出来了好看就看呗，也没有逼着我们去看呐。', 'answer': '你说得也对，想不想看也是我们自己的意思。'}\n",
      "183205\n"
     ]
    }
   ],
   "source": [
    "# 首先加载和观察数据集\n",
    "def read_txt_as_dict_list(file_path):\n",
    "    \"\"\"\n",
    "    从 txt 文件中读取数据为列表，其中每个元素是字典。\n",
    "    :param file_path: txt 文件路径\n",
    "    :return: 列表类型，每个元素是字典\n",
    "    \"\"\"\n",
    "    data = []\n",
    "    with open(file_path, \"r\", encoding=\"utf-8\") as f:\n",
    "        for line in f:\n",
    "            line = line.strip()  # 去除首尾空格和换行符\n",
    "            if line:  # 忽略空行\n",
    "                data.append(eval(line))  # 将字符串解析为字典并加入列表\n",
    "    return data\n",
    "\n",
    "file_path = \"chat_data/train_data.txt\" \n",
    "train_data = read_txt_as_dict_list(file_path)\n",
    "file_path = \"chat_data/dev_data.txt\" \n",
    "val_data = read_txt_as_dict_list(file_path)\n",
    "\n",
    "# 打印结果\n",
    "for item in train_data[:10]:\n",
    "    print(item)\n",
    "\n",
    "print(len(train_data))"
   ]
  },
  {
   "cell_type": "markdown",
   "id": "b187cdef-9daa-4eea-b4d5-76a898b17c79",
   "metadata": {},
   "source": [
    "自定义QADataset类，用于高效加载数据集。"
   ]
  },
  {
   "cell_type": "code",
   "execution_count": 2,
   "id": "94d1e559-1527-477b-a655-8b7a44059ebd",
   "metadata": {},
   "outputs": [],
   "source": [
    "# 自定义QADataset类，用于高效加载数据集\n",
    "import torch\n",
    "from torch.utils.data import Dataset\n",
    "\n",
    "class QADataset(Dataset):\n",
    "    def __init__(self, train_data, tokenizer, max_seq_length=128):\n",
    "        \"\"\"\n",
    "        初始化 QADataset 数据集。\n",
    "\n",
    "        :param train_data: 训练数据列表，每个元素是包含 'questions' 和 'answers' 的字典\n",
    "        :param tokenizer: 分词器，用于将文本转换为 token ID\n",
    "        :param max_seq_length: 最大序列长度\n",
    "        \"\"\"\n",
    "        self.train_data = train_data\n",
    "        self.tokenizer = tokenizer\n",
    "        self.max_seq_length = max_seq_length\n",
    "\n",
    "    def __len__(self):\n",
    "        return len(self.train_data)\n",
    "\n",
    "    def __getitem__(self, idx):\n",
    "        \"\"\"\n",
    "        获取一个样本，构造输入和标签。\n",
    "\n",
    "        :param idx: 样本索引\n",
    "        :return: 包含输入 token ID 和标签的字典\n",
    "        \"\"\"\n",
    "        sample = self.train_data[idx]\n",
    "        question = sample[\"question\"]\n",
    "        answer = sample[\"answer\"]\n",
    "\n",
    "        # 拼接 question 和 answer，并添加分割符\n",
    "        question = f\"[CLS]{question}\"\n",
    "\n",
    "        # 使用分词器对 question 进行编码\n",
    "        question_encoding = self.tokenizer(\n",
    "            question,\n",
    "            max_length=self.max_seq_length,\n",
    "            padding=\"max_length\",\n",
    "            truncation=True,\n",
    "            add_special_tokens=False,\n",
    "            return_tensors=\"pt\"\n",
    "        )\n",
    "        input_ids = question_encoding[\"input_ids\"].squeeze(0)\n",
    "      \n",
    "        # 在 answer 末尾添加 [SEP]\n",
    "        answer = answer + \"[SEP]\"\n",
    "\n",
    "        # 使用分词器对 answer 进行编码\n",
    "        answer_encoding = self.tokenizer(\n",
    "            answer,\n",
    "            max_length=self.max_seq_length,\n",
    "            # padding=\"max_length\",\n",
    "            truncation=True,\n",
    "            add_special_tokens=False,\n",
    "            return_tensors=\"pt\"\n",
    "        )\n",
    "        labels = answer_encoding[\"input_ids\"].squeeze(0)\n",
    "        \n",
    "        return {\n",
    "            \"input_ids\": input_ids,\n",
    "            \"labels\": labels\n",
    "        }\n"
   ]
  },
  {
   "cell_type": "markdown",
   "id": "9a29d1fc-876e-4e39-862f-d3acdf548119",
   "metadata": {},
   "source": [
    "查看数据集"
   ]
  },
  {
   "cell_type": "markdown",
   "id": "c8845ae5-4ddd-48f7-987b-5f4e72f066a7",
   "metadata": {},
   "source": [
    "#### 加载预训练模型，冻结原模型所有参数"
   ]
  },
  {
   "cell_type": "code",
   "execution_count": 6,
   "id": "4c62abf8-3472-416b-9d59-6843bfa9a26c",
   "metadata": {
    "scrolled": true
   },
   "outputs": [],
   "source": [
    "# 加载预训练模型，冻结原模型所有参数\n",
    "import torch\n",
    "import torch.nn as nn\n",
    "import torch.optim as optim\n",
    "from torch.nn import functional as F\n",
    "from model import GPT\n",
    "\n",
    "device = 'cuda' if torch.cuda.is_available() else 'cpu'\n",
    "\n",
    "# 参数设置\n",
    "vocab_size = 21128   # 词典大小\n",
    "block_size = 64     # 模型最长文本推理能力\n",
    "device = 'cuda' if torch.cuda.is_available() else 'cpu'\n",
    "d_model = 512\n",
    "n_head = 8\n",
    "n_layer = 6\n",
    "dropout = 0.1\n",
    "learning_rate = 1e-4\n",
    "# ------------\n",
    "\n",
    "# 需要重新定义模型架构\n",
    "\n",
    "model = GPT(vocab_size, \n",
    "            d_model, \n",
    "            n_layer = n_layer, \n",
    "            n_head = n_head, \n",
    "            block_size = block_size,\n",
    "            dropout = dropout)\n",
    "model = model.to(device)\n",
    "\n",
    "# 优化算法\n",
    "optimizer = torch.optim.AdamW(model.parameters(), lr=learning_rate)\n",
    "model_filename = 'models/news_gpt_model.pth'\n",
    "# 加载模型的 state_dict \n",
    "state = torch.load(model_filename, weights_only=True)\n",
    "model.load_state_dict(state['model_state_dict']) # 恢复权重\n",
    "optimizer.load_state_dict(state['optimizer_state_dict'])  # 恢复优化算法\n",
    "steps = state['steps']  # 恢复训练步数\n",
    "\n",
    "# 冻结 GPT 模型的所有层\n",
    "for param in model.parameters():\n",
    "    param.requires_grad = False"
   ]
  },
  {
   "cell_type": "code",
   "execution_count": 7,
   "id": "f938b001-906e-402f-8030-3e8031163afb",
   "metadata": {},
   "outputs": [
    {
     "name": "stdout",
     "output_type": "stream",
     "text": [
      "可训练参数的数量: 245760\n"
     ]
    }
   ],
   "source": [
    "import torch.nn.utils.parametrize as parametrize\n",
    "\n",
    "# LoRA 方法\n",
    "class LowRankParametrization(nn.Module):\n",
    "    def __init__(self, in_features, out_features, rank, device):\n",
    "        super(LowRankParametrization, self).__init__()\n",
    "        self.A = nn.Parameter(torch.randn(in_features, rank).to(device) * 0.01)\n",
    "        self.B = nn.Parameter(torch.randn(rank, out_features).to(device) * 0.01)\n",
    "\n",
    "    def forward(self, weight):\n",
    "        return weight + self.A @ self.B \n",
    "\n",
    "# LoRA 方法：对指定层添加低秩适配器\n",
    "def linear_layer_parameterization(linear_layer, device, rank=8):\n",
    "\n",
    "    in_features, out_features = linear_layer.weight.size()\n",
    "    \n",
    "    #  LoRA 参数化\n",
    "    lora_parametrization = LowRankParametrization(in_features, out_features, rank, device)\n",
    "    \n",
    "    # 将参数注册到层的权重中\n",
    "    parametrize.register_parametrization(linear_layer, 'weight', lora_parametrization)\n",
    "    \n",
    "    return linear_layer\n",
    "\n",
    "# 注册 LoRA 适配器到每个解码器块的前馈网络层\n",
    "for block in model.blocks:\n",
    "    # 只对解码器的前馈网络层进行 LoRA 参数化\n",
    "    linear_layer_parameterization(block.ffwd.net[0], device)\n",
    "    linear_layer_parameterization(block.ffwd.net[2], device)\n",
    "\n",
    "# 将低秩矩阵的参数设为可训练\n",
    "for param in model.parameters():\n",
    "    if param.requires_grad:  # 对于被 LoRA 训练的参数\n",
    "        param.requires_grad = True\n",
    "\n",
    "# 计算可训练参数数量\n",
    "trainable_params = sum(p.numel() for p in model.parameters() if p.requires_grad)\n",
    "\n",
    "print(f\"可训练参数的数量: {trainable_params}\")"
   ]
  },
  {
   "cell_type": "code",
   "execution_count": 8,
   "id": "4ed2190e-b6fc-42cd-98ce-2021caa930f8",
   "metadata": {},
   "outputs": [
    {
     "data": {
      "text/plain": [
       "245760"
      ]
     },
     "execution_count": 8,
     "metadata": {},
     "output_type": "execute_result"
    }
   ],
   "source": [
    "(512*8+8*2048 + 2048*8+8*512)*6"
   ]
  },
  {
   "cell_type": "markdown",
   "id": "e239e358-d7a7-4f0f-bfc3-f6cc3e473e3f",
   "metadata": {},
   "source": [
    "### 2.2.4 GPT微调模型训练"
   ]
  },
  {
   "cell_type": "code",
   "execution_count": 9,
   "id": "2c7fa1ed-ec4c-4e54-b52a-c60c070774f4",
   "metadata": {},
   "outputs": [
    {
     "name": "stderr",
     "output_type": "stream",
     "text": [
      "Epoch 1/10 (Training): 100%|██████████████████████████████████████████████| 157/157 [00:17<00:00,  8.73it/s, loss=8.15]\n",
      "Epoch 1/10 (Validation): 100%|██████████████████████████████████████████| 81/81 [00:05<00:00, 16.04it/s, val_loss=8.08]\n"
     ]
    },
    {
     "name": "stdout",
     "output_type": "stream",
     "text": [
      "Epoch 1/10, Train Loss: 10.3809, Val Loss: 8.1003\n"
     ]
    },
    {
     "name": "stderr",
     "output_type": "stream",
     "text": [
      "Epoch 2/10 (Training): 100%|██████████████████████████████████████████████| 157/157 [00:17<00:00,  8.87it/s, loss=6.36]\n",
      "Epoch 2/10 (Validation): 100%|██████████████████████████████████████████| 81/81 [00:04<00:00, 16.34it/s, val_loss=5.99]\n"
     ]
    },
    {
     "name": "stdout",
     "output_type": "stream",
     "text": [
      "Epoch 2/10, Train Loss: 6.8705, Val Loss: 6.0884\n"
     ]
    },
    {
     "name": "stderr",
     "output_type": "stream",
     "text": [
      "Epoch 3/10 (Training): 100%|██████████████████████████████████████████████| 157/157 [00:17<00:00,  8.95it/s, loss=6.05]\n",
      "Epoch 3/10 (Validation): 100%|██████████████████████████████████████████| 81/81 [00:05<00:00, 16.05it/s, val_loss=6.02]\n"
     ]
    },
    {
     "name": "stdout",
     "output_type": "stream",
     "text": [
      "Epoch 3/10, Train Loss: 6.2727, Val Loss: 6.0473\n"
     ]
    },
    {
     "name": "stderr",
     "output_type": "stream",
     "text": [
      "Epoch 4/10 (Training): 100%|██████████████████████████████████████████████| 157/157 [00:17<00:00,  9.18it/s, loss=5.94]\n",
      "Epoch 4/10 (Validation): 100%|██████████████████████████████████████████| 81/81 [00:04<00:00, 17.73it/s, val_loss=6.25]\n"
     ]
    },
    {
     "name": "stdout",
     "output_type": "stream",
     "text": [
      "Epoch 4/10, Train Loss: 6.2537, Val Loss: 6.0391\n"
     ]
    },
    {
     "name": "stderr",
     "output_type": "stream",
     "text": [
      "Epoch 5/10 (Training): 100%|██████████████████████████████████████████████| 157/157 [00:16<00:00,  9.29it/s, loss=6.27]\n",
      "Epoch 5/10 (Validation): 100%|██████████████████████████████████████████| 81/81 [00:04<00:00, 17.89it/s, val_loss=6.09]\n"
     ]
    },
    {
     "name": "stdout",
     "output_type": "stream",
     "text": [
      "Epoch 5/10, Train Loss: 6.2457, Val Loss: 6.0338\n"
     ]
    },
    {
     "name": "stderr",
     "output_type": "stream",
     "text": [
      "Epoch 6/10 (Training): 100%|██████████████████████████████████████████████| 157/157 [00:16<00:00,  9.46it/s, loss=6.11]\n",
      "Epoch 6/10 (Validation): 100%|██████████████████████████████████████████| 81/81 [00:04<00:00, 17.62it/s, val_loss=6.11]\n"
     ]
    },
    {
     "name": "stdout",
     "output_type": "stream",
     "text": [
      "Epoch 6/10, Train Loss: 6.2398, Val Loss: 6.0369\n"
     ]
    },
    {
     "name": "stderr",
     "output_type": "stream",
     "text": [
      "Epoch 7/10 (Training): 100%|██████████████████████████████████████████████| 157/157 [00:16<00:00,  9.34it/s, loss=6.57]\n",
      "Epoch 7/10 (Validation): 100%|██████████████████████████████████████████| 81/81 [00:04<00:00, 18.08it/s, val_loss=6.04]\n"
     ]
    },
    {
     "name": "stdout",
     "output_type": "stream",
     "text": [
      "Epoch 7/10, Train Loss: 6.2386, Val Loss: 6.0303\n"
     ]
    },
    {
     "name": "stderr",
     "output_type": "stream",
     "text": [
      "Epoch 8/10 (Training): 100%|██████████████████████████████████████████████| 157/157 [00:16<00:00,  9.54it/s, loss=6.16]\n",
      "Epoch 8/10 (Validation): 100%|██████████████████████████████████████████| 81/81 [00:04<00:00, 17.76it/s, val_loss=6.02]\n"
     ]
    },
    {
     "name": "stdout",
     "output_type": "stream",
     "text": [
      "Epoch 8/10, Train Loss: 6.2323, Val Loss: 6.0329\n"
     ]
    },
    {
     "name": "stderr",
     "output_type": "stream",
     "text": [
      "Epoch 9/10 (Training): 100%|██████████████████████████████████████████████| 157/157 [00:16<00:00,  9.46it/s, loss=6.27]\n",
      "Epoch 9/10 (Validation): 100%|█████████████████████████████████████████████| 81/81 [00:04<00:00, 18.05it/s, val_loss=6]\n"
     ]
    },
    {
     "name": "stdout",
     "output_type": "stream",
     "text": [
      "Epoch 9/10, Train Loss: 6.2291, Val Loss: 6.0260\n"
     ]
    },
    {
     "name": "stderr",
     "output_type": "stream",
     "text": [
      "Epoch 10/10 (Training): 100%|██████████████████████████████████████████████| 157/157 [00:16<00:00,  9.38it/s, loss=6.6]\n",
      "Epoch 10/10 (Validation): 100%|█████████████████████████████████████████| 81/81 [00:04<00:00, 18.24it/s, val_loss=6.22]"
     ]
    },
    {
     "name": "stdout",
     "output_type": "stream",
     "text": [
      "Epoch 10/10, Train Loss: 6.2275, Val Loss: 6.0415\n"
     ]
    },
    {
     "name": "stderr",
     "output_type": "stream",
     "text": [
      "\n"
     ]
    }
   ],
   "source": [
    "# 模型微调训练\n",
    "from tqdm import tqdm\n",
    "# 微调阶段的超参数设置，设置优化算法只针对LoRA参数\n",
    "optimizer = optim.AdamW(filter(lambda p: p.requires_grad, model.parameters()), lr=learning_rate)\n",
    "loss_fn = nn.CrossEntropyLoss()\n",
    "train_losses = []\n",
    "val_losses = []\n",
    "# 训练过程\n",
    "epochs = 10\n",
    "for epoch in range(epochs):\n",
    "    # ---- Training ----\n",
    "    model.train()\n",
    "    total_train_loss = 0\n",
    "    progress_bar = tqdm(train_dataloader, desc=f\"Epoch {epoch + 1}/{epochs} (Training)\")\n",
    "    for batch in progress_bar:\n",
    "        batchX = batch[\"input_ids\"].to(device)\n",
    "        batchY = batch[\"labels\"].to(device)\n",
    "\n",
    "        # 模型输出 logits\n",
    "        logits = model(batchX)\n",
    "        logits = logits.reshape(-1, logits.size(-1)) \n",
    "        batchY = batchY.reshape(-1)\n",
    "\n",
    "        # 计算损失\n",
    "        loss = loss_fn(logits, batchY)\n",
    "        total_train_loss += loss.item()\n",
    "\n",
    "        # 反向传播和优化\n",
    "        optimizer.zero_grad()\n",
    "        loss.backward()\n",
    "        optimizer.step()\n",
    "\n",
    "        # 更新进度条描述\n",
    "        progress_bar.set_postfix({\"loss\": loss.item()})\n",
    "\n",
    "    avg_train_loss = total_train_loss / len(train_dataloader)\n",
    "    train_losses.append(avg_train_loss)\n",
    "\n",
    "    # ---- Validation ----\n",
    "    model.eval()\n",
    "    total_val_loss = 0\n",
    "    with torch.no_grad():\n",
    "        progress_bar = tqdm(val_dataloader, desc=f\"Epoch {epoch + 1}/{epochs} (Validation)\")\n",
    "        for batch in progress_bar:\n",
    "            batchX = batch[\"input_ids\"].to(device)\n",
    "            batchY = batch[\"labels\"].to(device)\n",
    "\n",
    "            logits = model(batchX)\n",
    "            logits = logits.reshape(-1, logits.size(-1))\n",
    "            batchY = batchY.reshape(-1)\n",
    "\n",
    "            # 计算损失\n",
    "            loss = loss_fn(logits, batchY)\n",
    "            total_val_loss += loss.item()\n",
    "\n",
    "            # 更新进度条描述\n",
    "            progress_bar.set_postfix({\"val_loss\": loss.item()})\n",
    "\n",
    "    avg_val_loss = total_val_loss / len(val_dataloader)\n",
    "    val_losses.append(avg_val_loss)\n",
    "\n",
    "    print(f\"Epoch {epoch + 1}/{epochs}, Train Loss: {avg_train_loss:.4f}, Val Loss: {avg_val_loss:.4f}\")"
   ]
  },
  {
   "cell_type": "markdown",
   "id": "0f7486b0-d9f6-4ea6-af58-5b83650b0871",
   "metadata": {},
   "source": [
    "#### 绘制损失函数曲线"
   ]
  },
  {
   "cell_type": "code",
   "execution_count": 11,
   "id": "4f589d1b-cb31-416d-ab6c-182077927676",
   "metadata": {},
   "outputs": [
    {
     "data": {
      "image/png": "[encoded data removed]",
      "text/plain": [
       "<Figure size 800x500 with 1 Axes>"
      ]
     },
     "metadata": {},
     "output_type": "display_data"
    }
   ],
   "source": [
    "# 绘制损失函数曲线\n",
    "import matplotlib.pyplot as plt\n",
    "plt.figure(figsize=(8, 5))\n",
    "plt.plot(range(1, epochs + 1), train_losses, label='Train Loss', marker='o')\n",
    "plt.plot(range(1, epochs + 1), val_losses, label='Validation Loss', marker='o')\n",
    "plt.xlabel('Epoch', fontsize=12)\n",
    "plt.ylabel('Loss', fontsize=12)\n",
    "plt.title('Loss Curve', fontsize=14)\n",
    "plt.xticks(range(1,epochs+1), fontsize=12)\n",
    "plt.yticks(fontsize=12)\n",
    "plt.legend(fontsize=12)\n",
    "plt.grid()\n",
    "plt.savefig('models/loss.png')\n",
    "plt.show()"
   ]
  },
  {
   "cell_type": "markdown",
   "id": "f5b507f6-fa25-4385-aae7-943655c9bc53",
   "metadata": {},
   "source": [
    "### 保存与加载微调模型"
   ]
  },
  {
   "cell_type": "code",
   "execution_count": 12,
   "id": "216a86d1-42b9-45b0-a28f-f9a6d402d28d",
   "metadata": {},
   "outputs": [
    {
     "data": {
      "text/plain": [
       "('models/fine_tuned_tokenizer\\\\tokenizer_config.json',\n",
       " 'models/fine_tuned_tokenizer\\\\special_tokens_map.json',\n",
       " 'models/fine_tuned_tokenizer\\\\vocab.txt',\n",
       " 'models/fine_tuned_tokenizer\\\\added_tokens.json')"
      ]
     },
     "execution_count": 12,
     "metadata": {},
     "output_type": "execute_result"
    }
   ],
   "source": [
    "# 保存与加载微调模型\n",
    "import os\n",
    "# 创建目标目录（如果不存在）\n",
    "os.makedirs(os.path.dirname('models/'), exist_ok=True)\n",
    "# 保存模型权重\n",
    "torch.save(model.state_dict(), 'models/fine_tuned_gpt.pth')\n",
    "\n",
    "# 保存分词器\n",
    "bert_tokenizer.save_pretrained('models/fine_tuned_tokenizer')"
   ]
  },
  {
   "cell_type": "code",
   "execution_count": 13,
   "id": "58ec2767-a5bf-4a72-9bc5-d2785ab360a7",
   "metadata": {},
   "outputs": [
    {
     "name": "stdout",
     "output_type": "stream",
     "text": [
      "问：今天天气如何？\n",
      "答：##氫267ร[unused66]幸战情魇铆californiajoy147a6huawei茲悄刪拢痕booking餒憾亟稔槎零clubrey挙at芩z2bel帰搖喙碑懦热培糠絕阂澎搓asics毂网畑jquery藻遂vista缈婢蒡img吡寅蟻恣咘噶仨\n"
     ]
    }
   ],
   "source": [
    "# 加载微调后的模型\n",
    "model.load_state_dict(torch.load(\"models/fine_tuned_gpt.pth\", \n",
    "                                 weights_only=True, \n",
    "                                 map_location=device))\n",
    "model.eval()\n",
    "\n",
    "# 测试生成\n",
    "def chat(model, tokenizer, question, max_new_tokens=64):\n",
    "\n",
    "    question_encoding = tokenizer(\n",
    "            f\"[CLS]{question}[SEP]\",\n",
    "            max_length=max_new_tokens,\n",
    "            padding=\"max_length\",\n",
    "            truncation=True,\n",
    "            return_tensors=\"pt\"\n",
    "        )\n",
    "    input_ids = question_encoding[\"input_ids\"].to(device)\n",
    "   \n",
    "    # 初始化生成的 token ID 列表\n",
    "    output_ids = []\n",
    "\n",
    "    for idx_next in model.generate(input_ids, max_new_tokens=max_new_tokens):\n",
    "        # 将生成的token解码为文本\n",
    "        output_ids.extend(idx_next.squeeze(1).tolist())  # 将生成的 token 展平并加入列表\n",
    "\n",
    "    # 解码生成的 token\n",
    "    output_text = tokenizer.decode(output_ids, skip_special_tokens=True).replace(' ','')\n",
    "    return output_text\n",
    "\n",
    "# 示例对话\n",
    "question = \"今天天气如何？\"\n",
    "response = chat(model, bert_tokenizer, question)\n",
    "print(f\"问：{question}\\n答：{response}\")\n"
   ]
  },
  {
   "cell_type": "code",
   "execution_count": null,
   "id": "3ee2ad56-cbcd-4cc5-ae67-570d17441499",
   "metadata": {},
   "outputs": [],
   "source": []
  },
  {
   "cell_type": "code",
   "execution_count": null,
   "id": "bfa91511-68ad-46f1-9698-b5e425878133",
   "metadata": {},
   "outputs": [],
   "source": []
  }
 ],
 "metadata": {
  "kernelspec": {
   "display_name": "pytorch",
   "language": "python",
   "name": "pytorch"
  },
  "language_info": {
   "codemirror_mode": {
    "name": "ipython",
    "version": 3
   },
   "file_extension": ".py",
   "mimetype": "text/x-python",
   "name": "python",
   "nbconvert_exporter": "python",
   "pygments_lexer": "ipython3",
   "version": "3.12.10"
  }
 },
 "nbformat": 4,
 "nbformat_minor": 5
}
