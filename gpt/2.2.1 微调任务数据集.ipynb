{
 "cells": [
  {
   "cell_type": "markdown",
   "id": "fd76fd5d-8460-466a-b632-df11134b6975",
   "metadata": {},
   "source": [
    "### 2.2.1 微调任务数据集"
   ]
  },
  {
   "cell_type": "code",
   "execution_count": 1,
   "id": "263b1c60-4215-4413-a2a9-2cd6d6770a9c",
   "metadata": {},
   "outputs": [
    {
     "name": "stderr",
     "output_type": "stream",
     "text": [
      "Extracting Conversations: 100%|███████████████████████████████████████████████| 19919/19919 [00:01<00:00, 16346.60it/s]\n"
     ]
    },
    {
     "name": "stdout",
     "output_type": "stream",
     "text": [
      "[{'question': '嗨！', 'answer': '你好。'}, {'question': '你最近有听说过《中国女排》这部电影嘛？', 'answer': '不好意思唉，我已经很久没有去关注电影了，你可以给我讲述一下这是什么电影嘛。'}, {'question': '当然可以了，这部片子主要是讲述了女排这些年的历史，而且听说这部戏里面的郎平教练会是巩俐来出演。', 'answer': '真的啊，我觉得我都好久没有看过巩俐的电影了，我突然好期待这部电影啊。'}, {'question': '是呀，我觉得这部《中国女排》应该能拿下很高的收视率。', 'answer': '肯定会的，毕竟这也是中宣部与国家体育总局联合拍摄，肯定是会很好看的。'}, {'question': '也是哈，毕竟后面还有国家呢，应该也不会差到哪里去的。', 'answer': '哎呀，你这说我真的好期待的啊。'}, {'question': '嘿嘿，好像在过年的时候就会上映，也没有多久了。', 'answer': '也是哈，不过我听说巩俐还会参演迪士尼出品的那部《花木兰》是吧。'}, {'question': '是的，不过这段时间不是说，迪士尼在抹黑中国文化嘛。', 'answer': '你说的是之前发出来的预告片里面的妆容太过于浓重的事情吧。'}, {'question': '是啊，毕竟我们中国的历史上也没有过那么浓重的妆容吧。', 'answer': '这就不知道，毕竟也我们中国曾经有过那么多的国家，谁知道他们从哪里找来的妆容呢。'}, {'question': '也是哈，不过花木兰不是南北朝的人嘛，用得妆容也应该要符合这个朝代吧。', 'answer': '但是谁也不知道那个时候的妆容是什么样子的呀，也只能根据那些古画和文献来推理。'}, {'question': '这就难说了，反正到时候出来了好看就看呗，也没有逼着我们去看呐。', 'answer': '你说得也对，想不想看也是我们自己的意思。'}, {'question': '哎呀，我要去吃饭了，再见哈！', 'answer': '好的，再见。'}, {'question': '嗨，你好。', 'answer': '你好。'}, {'question': '你最近在看排球比赛了吗？', 'answer': '看了，中国女排真的太厉害了。'}, {'question': '真给我们国家长脸了，听说陈可辛导演在拍一部电影就叫《中国女排》。', 'answer': '我之前也听我朋友说过，巩俐好像在里面演的是郎平。'}, {'question': '对，我刚刚微博说黄渤也要加盟这部电影，在剧中饰演前中国女排的主教练。', 'answer': '哇塞黄渤居然也加入了，这部剧更有看点了。'}, {'question': '但很多人都说黄渤的形象不行，和前主教练的颜值差距有点大。', 'answer': '哈哈哈，我没见过前主教练什么样，但黄渤的颜值确实不行。'}, {'question': '黄渤只适合演那种搞笑的，不适合演那种很真经的电影电视剧。', 'answer': '他演的电影好像都是搞笑的，但也有吓人的。'}, {'question': '我之前看的《鬼吹灯之寻龙诀》这个就挺吓人的，黄渤也完全融入进去了。', 'answer': '对，这好像是黄渤唯一演的悬疑片吧。'}, {'question': '我看的最多的是他参加的综艺《极限挑战》，太搞笑了。', 'answer': '对，但黄渤在里面挺聪明的。'}, {'question': '比起黄磊还是不行，黄磊在里面才是老狐狸，没有他不知道的事。', 'answer': '最傻的就是张艺兴，每次被骗了都不知道还帮别人数钱。'}, {'question': '我还有事先不聊了，拜拜。', 'answer': '好的，再见。'}, {'question': '嗨!', 'answer': 'hi！'}, {'question': '你最近有看过ATP比赛嘛。', 'answer': '看过一点，但是没有看完。'}, {'question': '嗯？为什么没有看完，这次的比赛挺精彩的啊。', 'answer': '因为突然有点急事，所以就只看了开头的哪一点。不过这场比赛到底有多精彩，你可以给我说一下嘛。'}, {'question': '费德勒在这一场比赛中又胜利了，加上这场比赛的话已经是连续23场比赛不败了。', 'answer': '我去，他这么厉害啊。'}, {'question': '是啊，而且这次好像是他第十五次进入赛会决赛呢。', 'answer': '真的厉害啊，不想我们国家，就只有女生打得 好，男生一点用都没有。'}, {'question': '唉，话可不能这么说啊。我们国家的男队有不是没有有用的好吧。', 'answer': '我也没说全部啊，在说了，就算是有用，那也不是一小部分嘛。'}, {'question': '也是，像我们国家在游泳方面男生就比女生强一点。', 'answer': '这倒是，你说的这个人是孙杨吧。'}, {'question': '是啊，不过最近他的风头有点大呀。', 'answer': '这也不能怪他是不，毕竟要不是国外那些人污蔑他用了兴奋剂，他怕是还是在安安分分的训练呢。'}, {'question': '也是，国外的那群人是真的输不起，输了就是输了，还想用手段把这第一名拿回去，真的是服气了。', 'answer': '这也不是第一次了嘛，向我们很久之前的体操不是嘛，嫌弃我们国家的动作太难，就禁用了。'}, {'question': '不过说实话，那几个动作的确的是很难得，很容易把自己给伤着。', 'answer': '但是另一方面还不是想要我们国家那不成高分。'}, {'question': '这倒也是，不过我先有事，得先走了。', 'answer': '那好，再见了！'}, {'question': '嗨，你好。', 'answer': '你好。'}, {'question': '你最近再看ATP的比赛吗？', 'answer': '我之前再看，最近比较忙就没看了，这几天又有什么比赛吗？'}, {'question': '昨晚的比赛特别的精彩费德勒对战西西帕斯，结果豪取23连胜。', 'answer': '哇塞那么厉害，我之前就看过他的比赛他确实打的挺好的。'}, {'question': '费德勒将和德米诺争取最后的冠军。', 'answer': '费德勒真的是没让人失望，等会回去我也看看，不能错过这场比赛。'}, {'question': '费德勒今年都三十八岁了，是应该抓紧时间看他打球，再过几年他应该就退役了吧。', 'answer': '真的舍不得这些好的球星退役，我之前本来是看足球的，但因为贝克汉姆退役我就不看了。'}, {'question': '贝克汉姆真的是足球界的明星了，说的上是家喻户晓了。', 'answer': '还是退役了啊，但结局挺好的，他实现了大联盟两连冠。'}, {'question': '他对欧洲的足球贡献真的是很大，去年欧足联还给他颁了欧洲足联主席奖。', 'answer': '真的好想在看一次他踢足球啊。'}, {'question': '现在的梅西也很不错啊，我看了好几场比赛了。', 'answer': '他之前不是爆出逃税吗？还差点进了监狱。'}]\n",
      "183205\n"
     ]
    },
    {
     "name": "stderr",
     "output_type": "stream",
     "text": [
      "Extracting Conversations: 100%|███████████████████████████████████████████████| 19919/19919 [00:01<00:00, 15897.00it/s]\n",
      "Extracting Conversations: 100%|██████████████████████████████████████████████| 19919/19919 [00:00<00:00, 643718.87it/s]\n",
      "Extracting Conversations: 100%|██████████████████████████████████████████████| 19919/19919 [00:00<00:00, 450059.48it/s]\n"
     ]
    }
   ],
   "source": [
    "import json\n",
    "import codecs\n",
    "import re\n",
    "from tqdm import tqdm\n",
    "import os\n",
    "\n",
    "# 加载文件内容\n",
    "def load_json_file(file_path):\n",
    "    with codecs.open(file_path, \"r\", \"utf-8\") as f:\n",
    "        return json.load(f)\n",
    "\n",
    "def load_txt_file(file_path):\n",
    "    with open(file_path, \"r\", encoding=\"utf-8\") as f:\n",
    "        return [line.strip() for line in f]\n",
    "\n",
    "# 提取对话问答对\n",
    "def extract_conversations(dialog_list, dialog_ids):\n",
    "    qa_pairs = []\n",
    "    for dialog in tqdm(dialog_list, desc=\"Extracting Conversations\"):\n",
    "        if dialog[\"dialog_id\"] in dialog_ids:\n",
    "            content = dialog[\"content\"]\n",
    "            # 确保对话轮数为偶数（问答成对出现）\n",
    "            if len(content) % 2 == 0:\n",
    "                for i in range(0, len(content), 2):\n",
    "                    question = content[i].strip()\n",
    "                    answer = content[i + 1].strip()\n",
    "                    qa_pairs.append({\"question\": question, \"answer\": answer})\n",
    "    return qa_pairs\n",
    "\n",
    "\n",
    "# 主函数\n",
    "def prepare_naturalconv_data(dialog_file, train_ids_file, dev_ids_file, test_ids_file, output_dir):\n",
    "    # 加载对话和 id 列表\n",
    "    dialog_list = load_json_file(dialog_file)\n",
    "    train_ids = load_txt_file(train_ids_file)\n",
    "    dev_ids = load_txt_file(dev_ids_file)\n",
    "    test_ids = load_txt_file(test_ids_file)\n",
    "\n",
    "    # 提取训练、验证和测试集的问答对\n",
    "    train_data = extract_conversations(dialog_list, train_ids)\n",
    "    dev_data = extract_conversations(dialog_list, dev_ids)\n",
    "    test_data = extract_conversations(dialog_list, test_ids)\n",
    "\n",
    "    return train_data, dev_data, test_data\n",
    "\n",
    "# 调用主函数\n",
    "if __name__ == \"__main__\":\n",
    "    dialog_file = \"data/chatdata/dialog_release.json\"\n",
    "    train_ids_file = \"data/chatdata/train.txt\"\n",
    "    dev_ids_file = \"data/chatdata/dev.txt\"\n",
    "    test_ids_file = \"data/chatdata/test.txt\"\n",
    "    output_dir = \"data/chatdata/output\"\n",
    "    dialog_list = load_json_file(dialog_file)\n",
    "    train_ids = load_txt_file(train_ids_file)\n",
    "    train_data = extract_conversations(dialog_list, train_ids)\n",
    "    print(train_data[:40])\n",
    "    print(len(train_data))\n",
    "\n",
    "    train_data, dev_data, test_data = prepare_naturalconv_data(dialog_file, train_ids_file, dev_ids_file, test_ids_file, output_dir)\n"
   ]
  },
  {
   "cell_type": "code",
   "execution_count": 2,
   "id": "7d36c9a9-d16e-4ed9-a063-8c458a38fa3e",
   "metadata": {},
   "outputs": [
    {
     "name": "stderr",
     "output_type": "stream",
     "text": [
      "Extracting Conversations: 100%|███████████████████████████████████████████████| 19919/19919 [00:01<00:00, 16138.48it/s]\n",
      "Extracting Conversations: 100%|██████████████████████████████████████████████| 19919/19919 [00:00<00:00, 623512.73it/s]\n",
      "Extracting Conversations: 100%|██████████████████████████████████████████████| 19919/19919 [00:00<00:00, 547281.43it/s]\n"
     ]
    }
   ],
   "source": [
    "def save_data_to_txt(data, file_path):\n",
    "    \"\"\"\n",
    "    将列表数据保存为 txt 文件\n",
    "    :param data: 数据列表，每个元素是字典\n",
    "    :param file_path: 保存的文件路径\n",
    "    \"\"\"\n",
    "    # 创建目标目录（如果不存在）\n",
    "    os.makedirs(os.path.dirname(file_path), exist_ok=True)\n",
    "    with open(file_path, \"w\", encoding=\"utf-8\") as f:\n",
    "        for item in data:\n",
    "            f.write(f\"{item}\\n\")\n",
    "\n",
    "# prepare_naturalconv_data 返回的数据是列表\n",
    "train_data, dev_data, test_data = prepare_naturalconv_data(\n",
    "    dialog_file, train_ids_file, dev_ids_file, test_ids_file, output_dir\n",
    ")\n",
    "\n",
    "# 保存到对应的 txt 文件\n",
    "save_data_to_txt(train_data, \"chat_data/train_data.txt\")\n",
    "save_data_to_txt(dev_data, \"chat_data/dev_data.txt\")\n",
    "save_data_to_txt(test_data, \"chat_data/test_data.txt\")"
   ]
  },
  {
   "cell_type": "code",
   "execution_count": 5,
   "id": "22974f22-c996-4d59-abb0-e26dd0390792",
   "metadata": {},
   "outputs": [
    {
     "name": "stdout",
     "output_type": "stream",
     "text": [
      "{'question': '我也是，我平时周末没事就会去家附近的网球场打球', 'answer': '哦哦，好吧，我都没什么时间去打，但是我还是比较喜欢打球的'}\n",
      "{'question': '好吧，要不以后我去打网球的时候把你也叫上一起？', 'answer': '哈哈，可以啊，不过得看我有没有时间，我工作真的太忙了'}\n",
      "{'question': '好的吧，留个联系方式吧，以后好找你', 'answer': '行，嗯我有事先去忙了，我们手机上聊，拜拜'}\n",
      "{'question': '哈喽，你好', 'answer': '你好呀'}\n",
      "{'question': '你平时喜欢看新闻不？', 'answer': '还好，我就在吃饭的时候看看新闻直播那些，平时很少看新闻'}\n",
      "{'question': '哈哈，这样啊，最近新闻报道说苹果又出来搞事情了', 'answer': '是吗，出什么事情了？难不成又有什么商业机密被泄露了？'}\n",
      "{'question': '哈哈哈，不是，苹果最近推出了他们正在开发的mini LED屏幕技术，很让人震惊呢', 'answer': '我对这种高科技类的新闻不是很了解呢，而且这个mini LED屏幕技术我更不懂'}\n",
      "{'question': '呵呵呵，这个mini LED的技术特点很适合大屏幕，会让屏幕保持新，不会和以前一样用久了屏幕就会老化', 'answer': '这样啊，我觉得对我来说没什么区别，因为我不是很喜欢用苹果的产品'}\n",
      "{'question': '苹果产品很好了，苹果里面所用的技术都是超前的，就像苹果手机和电脑的系统，每年都在更新换代', 'answer': '我朋友之前买过一个苹果手机，然后她的手机系统升级，升级了以后又要重新认证身份那些，我看她都在那儿整了大半天'}\n",
      "{'question': '哈哈，这说明苹果安全系数高呀，也不至于你手机被偷了以后会泄露你的隐私呀', 'answer': '你这样说也没错，但是我是一个不想麻烦的人，简单点最好'}\n",
      "183205\n"
     ]
    }
   ],
   "source": [
    "def read_txt_as_dict_list(file_path):\n",
    "    \"\"\"\n",
    "    从 txt 文件中读取数据为列表，其中每个元素是字典。\n",
    "    :param file_path: txt 文件路径\n",
    "    :return: 列表类型，每个元素是字典\n",
    "    \"\"\"\n",
    "    data = []\n",
    "    with open(file_path, \"r\", encoding=\"utf-8\") as f:\n",
    "        for line in f:\n",
    "            line = line.strip()  # 去除首尾空格和换行符\n",
    "            if line:  # 忽略空行\n",
    "                data.append(eval(line))  # 将字符串解析为字典并加入列表\n",
    "    return data\n",
    "\n",
    "file_path = \"chat_data/train_data.txt\" \n",
    "train_data = read_txt_as_dict_list(file_path)\n",
    "file_path = \"chat_data/dev_data.txt\" \n",
    "val_data = read_txt_as_dict_list(file_path)\n",
    "\n",
    "# 打印结果\n",
    "for item in train_data[100:110]:\n",
    "    print(item)\n",
    "\n",
    "print(len(train_data))"
   ]
  },
  {
   "cell_type": "code",
   "execution_count": null,
   "id": "1227ed23-8227-403c-be1a-72a620d91b37",
   "metadata": {},
   "outputs": [],
   "source": []
  }
 ],
 "metadata": {
  "kernelspec": {
   "display_name": "pytorch",
   "language": "python",
   "name": "pytorch"
  },
  "language_info": {
   "codemirror_mode": {
    "name": "ipython",
    "version": 3
   },
   "file_extension": ".py",
   "mimetype": "text/x-python",
   "name": "python",
   "nbconvert_exporter": "python",
   "pygments_lexer": "ipython3",
   "version": "3.12.10"
  }
 },
 "nbformat": 4,
 "nbformat_minor": 5
}
